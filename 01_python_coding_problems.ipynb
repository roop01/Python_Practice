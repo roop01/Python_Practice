{
  "nbformat": 4,
  "nbformat_minor": 0,
  "metadata": {
    "colab": {
      "provenance": [],
      "authorship_tag": "ABX9TyOlsa/HQXYnvGOjUESpE197",
      "include_colab_link": true
    },
    "kernelspec": {
      "name": "python3",
      "display_name": "Python 3"
    },
    "language_info": {
      "name": "python"
    }
  },
  "cells": [
    {
      "cell_type": "markdown",
      "metadata": {
        "id": "view-in-github",
        "colab_type": "text"
      },
      "source": [
        "<a href=\"https://colab.research.google.com/github/roop01/python-programming-practices/blob/main/01_python_coding_problems.ipynb\" target=\"_parent\"><img src=\"https://colab.research.google.com/assets/colab-badge.svg\" alt=\"Open In Colab\"/></a>"
      ]
    },
    {
      "cell_type": "markdown",
      "source": [
        "# **Python Coding Problems Part 1**\n",
        "\n",
        "**Problem 1**\n",
        "\n",
        "Write a python program to find and display the product of three positive integer values based on the rule mentioned below:\n",
        "\n",
        "--> It should display the product of the three values except when one of the integer value is 7.  In that case, 7 should not be included in the product and the values to its left also should not be included.\n",
        "\n",
        "--> If there is only one value to be considered, display that value itself. If no values can be included in the product, display -1.\n",
        "\n",
        "Note: Assume that if 7 is one of the positive integer values, then it will occur only once. Refer the sample I/O given below."
      ],
      "metadata": {
        "id": "3clAvm2o9jb7"
      }
    },
    {
      "cell_type": "code",
      "source": [
        "def find_product(num1,num2,num3):\n",
        "    product=0\n",
        "    if num1==7:\n",
        "        product=num2*num3\n",
        "    elif num2==7:\n",
        "        product=num3\n",
        "    elif num3==7:\n",
        "        product=-1\n",
        "    else:\n",
        "        product=num1*num2*num3\n",
        "\n",
        "    return product\n",
        "\n",
        "product=find_product(7,6,2)\n",
        "print(product)"
      ],
      "metadata": {
        "colab": {
          "base_uri": "https://localhost:8080/"
        },
        "id": "5YYzXA0ULpPF",
        "outputId": "56b1a1f3-c8b0-4a22-8398-8309e91e86cd"
      },
      "execution_count": null,
      "outputs": [
        {
          "output_type": "stream",
          "name": "stdout",
          "text": [
            "12\n"
          ]
        }
      ]
    },
    {
      "cell_type": "code",
      "execution_count": null,
      "metadata": {
        "colab": {
          "base_uri": "https://localhost:8080/"
        },
        "id": "ybr1Qb3o9Vtr",
        "outputId": "b06e4d96-c781-4ea4-8a1e-b814537fbd44"
      },
      "outputs": [
        {
          "output_type": "stream",
          "name": "stdout",
          "text": [
            "9\n"
          ]
        }
      ],
      "source": [
        "def product_of_nums(n1, n2, n3):\n",
        "  num=[n1,n2,n3]\n",
        "  product=1\n",
        "  for i in num:\n",
        "    product = i*product\n",
        "    if i==7:\n",
        "      product=1\n",
        "  if product==1:\n",
        "    product=-1\n",
        "  return product\n",
        "\n",
        "product=product_of_nums(1,7,9)\n",
        "print(product)\n"
      ]
    },
    {
      "cell_type": "markdown",
      "source": [
        "**Problem 2**\n",
        "\n",
        "You have x no. of 5 rupee coins and y no. of 1 rupee coins. You want to purchase an item for amount z. The shopkeeper wants you to provide exact change. You want to pay using minimum number of coins. How many 5 rupee coins and 1 rupee coins will you use? If exact change is not possible then display -1.\n"
      ],
      "metadata": {
        "id": "WMPGTQWLA5uL"
      }
    },
    {
      "cell_type": "code",
      "source": [
        "def pay_amount(x,y,z):\n",
        "    five_n=0\n",
        "    one_n=0\n",
        "    while(z//5!=0 and x!=0):\n",
        "        z=z-5\n",
        "        x=x-1\n",
        "        five_n+=1\n",
        "    if (z>y):\n",
        "        return -1\n",
        "    else:\n",
        "        one_n=z\n",
        "    return five_n,one_n\n",
        "\n",
        "print(pay_amount(24,22,126))\n"
      ],
      "metadata": {
        "colab": {
          "base_uri": "https://localhost:8080/"
        },
        "id": "DW5lWhHvBC4f",
        "outputId": "f787af86-ea77-4cbc-9f0c-53e2a18fddc8"
      },
      "execution_count": 2,
      "outputs": [
        {
          "output_type": "stream",
          "name": "stdout",
          "text": [
            "(24, 6)\n"
          ]
        }
      ]
    },
    {
      "cell_type": "markdown",
      "source": [
        "**Problem 3**"
      ],
      "metadata": {
        "id": "GRLktm10Laby"
      }
    },
    {
      "cell_type": "code",
      "source": [
        "def find_new_salary(current_salary,job_level):\n",
        "    level=[0,0,0,15,7,5]\n",
        "    new_salary=current_salary+(current_salary*(level[job_level]/100))\n",
        "    return new_salary\n",
        "\n",
        "# provide different values for current_salary and job_level and test yor program\n",
        "new_salary=find_new_salary(15000,3)\n",
        "print(new_salary)"
      ],
      "metadata": {
        "colab": {
          "base_uri": "https://localhost:8080/"
        },
        "id": "LnHgrJ1rDlsA",
        "outputId": "0ba11da9-c636-496c-e05d-cf8df1be2156"
      },
      "execution_count": null,
      "outputs": [
        {
          "output_type": "stream",
          "name": "stdout",
          "text": [
            "17250.0\n"
          ]
        }
      ]
    },
    {
      "cell_type": "markdown",
      "source": [
        "**Problem 4**"
      ],
      "metadata": {
        "id": "IBY--khXLdQX"
      }
    },
    {
      "cell_type": "code",
      "source": [
        "def convert_currency(amount_needed_inr,current_currency_name):\n",
        "\n",
        "    current_currency_amount=0\n",
        "    country_currency=0\n",
        "\n",
        "    #currency=[['Euro',0.01417],['British Pound',0.0100],['Australian Dollar',0.02140],['Canadian Dollar',0.02027]]\n",
        "    currency_details = {'Euro': 0.01417,'British Pound': 0.0100,'Australian Dollar': 0.02140,'Canadian Dollar': 0.02027}\n",
        "\n",
        "    for i in currency_details:\n",
        "        if(i == current_currency_name):\n",
        "            country_currency=currency_details[i]\n",
        "    if(country_currency>0):\n",
        "        current_currency_amount=amount_needed_inr*country_currency\n",
        "    else:\n",
        "        current_currency_amount=-1\n",
        "    # current_currency_amount=amount_needed_inr*\n",
        "\n",
        "    return current_currency_amount\n",
        "\n",
        "\n",
        "#Provide different values for amount_needed_inr,current_currency_name and test your program\n",
        "currency_needed=convert_currency(3500,\"British Pound\")\n",
        "if(currency_needed!= -1):\n",
        "    print(currency_needed )\n",
        "else:\n",
        "    print(\"Invalid currency name\")"
      ],
      "metadata": {
        "colab": {
          "base_uri": "https://localhost:8080/"
        },
        "id": "f8SGqXynEsJW",
        "outputId": "bf9f960f-24e8-4473-d391-fdfd53b131cf"
      },
      "execution_count": null,
      "outputs": [
        {
          "output_type": "stream",
          "name": "stdout",
          "text": [
            "35.0\n"
          ]
        }
      ]
    },
    {
      "cell_type": "markdown",
      "source": [
        "**Problem 5**\n",
        "\n",
        "FoodCorner home delivers vegetarian and non-vegetarian combos to its customer based on order.\n",
        "\n",
        "A vegetarian combo costs Rs.120 per plate and a non-vegetarian combo costs Rs.150 per plate. Their non-veg combo is really famous that they get more orders for their non-vegetarian combo than the vegetarian combo.\n",
        "\n",
        "Apart from the cost per plate of food, customers are also charged for home delivery based on the distance in kms from the restaurant to the delivery point. The delivery charges are as mentioned below:\n",
        "\n",
        "\n",
        "    Distance in kms                Delivery charge in Rs per km                 \n",
        "    For first 3kms                             0\n",
        "    For next 3kms                              3\n",
        "    For the remaining                          6\n",
        "\n",
        "Given the type of food, quantity (no. of plates) and the distance in kms from the restaurant to the delivery point, write a python program to calculate the final bill amount to be paid by a customer.\n",
        "\n",
        "The below information must be used to check the validity of the data provided by the customer:\n",
        "\n",
        "    Type of food must be ‘V’ for vegetarian and ‘N’ for non-vegetarian.\n",
        "    Distance in kms must be greater than 0.\n",
        "    Quantity ordered should be minimum 1.\n",
        "    If any of the input is invalid, the bill amount should be considered as -1."
      ],
      "metadata": {
        "id": "cy2ENYttGriu"
      }
    },
    {
      "cell_type": "code",
      "source": [
        "def calculate_bill(food_type, quantity, distance):\n",
        "    non_veg = 150\n",
        "    veg = 120\n",
        "    bill_amt=0\n",
        "    delivery = 0\n",
        "    if (food_type == 'V' or food_type == 'N') and distance >0 and quantity >1:\n",
        "        if food_type == 'V':\n",
        "            bill_amt = veg*quantity\n",
        "        else:\n",
        "            bill_amt = non_veg*quantity\n",
        "    else:\n",
        "        return -1\n",
        "\n",
        "    if distance <=3:\n",
        "        delivery = 0\n",
        "    elif distance <=6:\n",
        "        delivery = (distance - 3)*3\n",
        "    else:\n",
        "        delivery = 9 + (distance - 6)*6\n",
        "\n",
        "    bill_amt = bill_amt + delivery*distance\n",
        "    return bill_amt\n",
        "\n",
        "bill_amt=calculate_bill('V',2,4)\n",
        "print(bill_amt)\n",
        "\n"
      ],
      "metadata": {
        "colab": {
          "base_uri": "https://localhost:8080/"
        },
        "id": "ijx1pJ6QF9Zx",
        "outputId": "e56a9409-a006-4ca6-a0ef-9bd179175d23"
      },
      "execution_count": null,
      "outputs": [
        {
          "output_type": "stream",
          "name": "stdout",
          "text": [
            "252\n"
          ]
        }
      ]
    },
    {
      "cell_type": "markdown",
      "source": [
        "**Problem 6**\n",
        "\n",
        "The Metro Bank provides various types of loans such as car loans, business loans and house loans to its account holders. Write a python program to implement the following requirements:\n",
        "\n",
        "1. Initialize the following variables with appropriate input values:account_number, account_balance, salary, loan_type, loan_amount_expected and customer_emi_expected.\n",
        "\n",
        "2. The account number should be of 4 digits and its first digit should be 1.\n",
        "\n",
        "3. The customer should have a minimum balance of Rupees 1 Lakh in the account.\n",
        "\n",
        "4. If the above rules are valid, determine the eligible loan amount and the EMI that the bank can provide to its customers based on their salary and the loan type they expect to avail.\n",
        "\n",
        "5. The bank would provide the loan, only if the loan amount and the number of EMI’s requested by the customer is less than or equal to the loan amount and the number of EMI’s decided by the bank respectively.\n",
        "\n",
        "6. Display appropriate error messages for all invalid data. If all the business rules are satisfied ,then display account number, eligible and requested loan amount and EMI’s.\n",
        "\n",
        "Test your code by providing different values for the input variables.\n",
        "\n",
        "    Salary           Loan type           Eligible loan amount           No. of EMI’s required to repay\n",
        "\n",
        "    > 25000            Car                   500000                              36\n",
        "\n",
        "    > 50000            House                 6000000                             60\n",
        "\n",
        "    > 75000          Business                7500000                             84"
      ],
      "metadata": {
        "id": "iNypGyiVLXau"
      }
    },
    {
      "cell_type": "code",
      "source": [
        "def calculate_loan(account_number, account_balance, salary, loan_type, loan_amount_expected, customer_emi_expected):\n",
        "    if len(str(account_number))==4 and str(account_number)[0] == '1':\n",
        "        if account_balance >= 100000:\n",
        "            if salary > 75000 and loan_type == 'Business':\n",
        "                eligible_loan_amount=7500000\n",
        "                bank_emi_expected=84\n",
        "                if loan_amount_expected <= eligible_loan_amount and customer_emi_expected <= bank_emi_expected:\n",
        "                    print(f\"Account : {account_number} can avail loan of : {eligible_loan_amount} for emi of : {bank_emi_expected}\")\n",
        "                else:\n",
        "                    print(\"Customer is not eligible for loan\")\n",
        "            elif salary > 50000 and loan_type == 'House':\n",
        "                eligible_loan_amount=6000000\n",
        "                bank_emi_expected=60\n",
        "                if loan_amount_expected <= 6000000 and customer_emi_expected <= 60:\n",
        "                    print(f\"Account : {account_number} can avail loan of : {eligible_loan_amount} for emi of : {bank_emi_expected}\")\n",
        "                else:\n",
        "                    print(\"Customer is not eligible for loan\")\n",
        "            elif salary > 25000 and loan_type == 'Car':\n",
        "                eligible_loan_amount=500000\n",
        "                bank_emi_expected=36\n",
        "                if loan_amount_expected <= 500000 and customer_emi_expected <= 36:\n",
        "                    print(f\"Account : {account_number} can avail loan of : {eligible_loan_amount} for emi of : {bank_emi_expected}\")\n",
        "                else:\n",
        "                    print(\"Customer is not eligible for loan\")\n",
        "            else:\n",
        "                print(\"Invalid loan type or salary\")\n",
        "        else:\n",
        "            print(\"Invalid account balance\")\n",
        "    else:\n",
        "        print(\"Invalid account number\")\n",
        "    return\n",
        "\n",
        "\n",
        "calculate_loan(1001,400000,250000,\"Car\",300000,30)"
      ],
      "metadata": {
        "id": "bkOfHfA8Mbp4",
        "colab": {
          "base_uri": "https://localhost:8080/"
        },
        "outputId": "89beed3a-e947-47d9-d357-e03a46578577"
      },
      "execution_count": null,
      "outputs": [
        {
          "output_type": "stream",
          "name": "stdout",
          "text": [
            "Account : 1001 can avail loan of : 500000 for emi of : 36\n"
          ]
        }
      ]
    },
    {
      "cell_type": "markdown",
      "source": [
        "**Problem 7**\n",
        "\n",
        "ARS Gems Store sells different varieties of gems to its customers.\n",
        "Write a Python program to calculate the bill amount to be paid by a customer based on the list of gems and quantity purchased.\n",
        "\n",
        "   1.  Any purchase with a total bill amount above Rs.30000 is entitled for 5% discount.\n",
        "   2.  If any gem required by the customer is not available in the store, then consider total bill amount to be -1.\n",
        "   3.  Assume that quantity required by the customer for any gem will always be greater than 0.\n",
        "\n",
        "Perform case-sensitive comparison wherever applicable."
      ],
      "metadata": {
        "id": "Q-dk-k4z1k3P"
      }
    },
    {
      "cell_type": "code",
      "source": [
        "def gem_bill(gems_list, gems_price_list, gems_purchase_list, purchase_quantity_list):\n",
        "\n",
        "    bill_amt = 0\n",
        "    for i in purchase_quantity_list:\n",
        "        if i <=0:\n",
        "            return -1\n",
        "\n",
        "    for gem in gems_purchase_list:\n",
        "        if gem in gems_list:\n",
        "            bill_amt = bill_amt + gems_price_list[gems_list.index(gem)]*purchase_quantity_list[gems_purchase_list.index(gem)]\n",
        "        else:\n",
        "            return -1\n",
        "\n",
        "    if bill_amt > 30000:\n",
        "        bill_amt = bill_amt - (bill_amt*0.05)\n",
        "    return bill_amt\n",
        "\n",
        "\n",
        "gems_list=[\"Emerald\",\"Ivory\",\"Jasper\",\"Ruby\",\"Garnet\"]\n",
        "\n",
        "price_list=[1760,2119,1599,3920,3999]\n",
        "reqd_gems=[\"Ivory\",\"Emerald\",\"Garnet\"]\n",
        "#reqd_gems=[\"Ivory\",\"Gold\",\"Garnet\"]\n",
        "reqd_quantity=[1,1,1]\n",
        "bill = gem_bill(gems_list,price_list,reqd_gems,reqd_quantity)\n",
        "if bill > 0:\n",
        "    print(\"Bill Amount: \", bill)\n",
        "else:\n",
        "    print(\"Gem not available\")\n",
        "\n",
        "\n"
      ],
      "metadata": {
        "colab": {
          "base_uri": "https://localhost:8080/"
        },
        "id": "X9VLuGJv25tx",
        "outputId": "5751d6b0-cdb1-49cc-abce-74e175d9d361"
      },
      "execution_count": null,
      "outputs": [
        {
          "output_type": "stream",
          "name": "stdout",
          "text": [
            "Bill Amount:  7878\n"
          ]
        }
      ]
    },
    {
      "cell_type": "markdown",
      "source": [
        "**Problem 8:**\n",
        "\n",
        "Write a python function to check whether three given numbers can form the sides of a triangle.\n",
        "Three numbers can be the sides of a triangle if none of the numbers are greater than or equal to the sum of the other two numbers."
      ],
      "metadata": {
        "id": "HlrXMYO2AIFP"
      }
    },
    {
      "cell_type": "code",
      "source": [
        "def form_triangel(n1,n2,n3):\n",
        "    if n1+n2>n3 and n1+n3>n2 and n2+n3>n1:\n",
        "        return True\n",
        "    else:\n",
        "        return False\n",
        "\n",
        "print(form_triangel(1,2,3))"
      ],
      "metadata": {
        "id": "sk6qOnBOAM5v"
      },
      "execution_count": null,
      "outputs": []
    },
    {
      "cell_type": "markdown",
      "source": [
        "**Problem 9**"
      ],
      "metadata": {
        "id": "nV9UDIEqAwaR"
      }
    },
    {
      "cell_type": "code",
      "source": [
        "counter1=0\n",
        "counter2=5\n",
        "temp=counter2\n",
        "while(counter1 < 5):\n",
        "    star=\"\"\n",
        "    while(counter2>0):\n",
        "        star=star+ \"*\"\n",
        "        counter2-=1\n",
        "    print(star)\n",
        "    counter1 +=1\n",
        "    temp-=1\n",
        "    counter2=temp"
      ],
      "metadata": {
        "colab": {
          "base_uri": "https://localhost:8080/"
        },
        "id": "Z3W85xEWA7c9",
        "outputId": "96253fdd-220a-40ca-9150-5254ccdb2e0b"
      },
      "execution_count": null,
      "outputs": [
        {
          "output_type": "stream",
          "name": "stdout",
          "text": [
            "*****\n",
            "****\n",
            "***\n",
            "**\n",
            "*\n"
          ]
        }
      ]
    },
    {
      "cell_type": "markdown",
      "source": [
        "**Problem 9**\n",
        "\n",
        "Write a python program to solve a classic ancient Chinese puzzle.\n",
        "\n",
        "We count 35 heads and 94 legs among the chickens and rabbits in a farm. How many rabbits and how many chickens do we have?\n",
        "\n",
        "    Sample Input                          Expected Output\n",
        "\n",
        "    heads-150 legs-400                        100 50\n",
        "\n",
        "    heads-3 legs-11                        No solution\n",
        "\n",
        "    heads-3 legs-12                            0 3\n",
        "\n",
        "    heads-5 legs-10                            5 0"
      ],
      "metadata": {
        "id": "6p4cjTJnCGBi"
      }
    },
    {
      "cell_type": "code",
      "source": [
        "def solve(heads,legs):\n",
        "    error_msg=\"No solution\"\n",
        "    chicken_count=0\n",
        "    rabbit_count=0\n",
        "\n",
        "    legs_half=legs/2\n",
        "    rabbit_count_test=legs_half-heads\n",
        "    chicken_count_test=heads-rabbit_count_test\n",
        "    if((rabbit_count_test*4+chicken_count_test*2==legs) and (rabbit_count_test>=0 and chicken_count_test>=0)):\n",
        "        rabbit_count=rabbit_count_test\n",
        "        chicken_count=chicken_count_test\n",
        "        print(int(chicken_count),int(rabbit_count))\n",
        "    else:\n",
        "        print(error_msg)\n",
        "\n",
        "solve(23,67)"
      ],
      "metadata": {
        "colab": {
          "base_uri": "https://localhost:8080/"
        },
        "id": "k7JNatNQCQ_L",
        "outputId": "61e72d6c-2d80-4257-8794-653c057aeeb5"
      },
      "execution_count": null,
      "outputs": [
        {
          "output_type": "stream",
          "name": "stdout",
          "text": [
            "12 10\n"
          ]
        }
      ]
    },
    {
      "cell_type": "markdown",
      "source": [
        "**Problem 10:**\n",
        "\n",
        "Write a python program which finds the maximum number from num1 to num2 (num2 inclusive) based on the following rules.\n",
        " 1. Always num1 should be less than num2\n",
        " 2. Consider each number from num1 to num2 (num2 inclusive). Populate the number into a list, if the below conditions are satisfied\n",
        "\n",
        "      a. Sum of the digits of the number is a multiple of 3\n",
        "\n",
        "      b. Number has only two digits\n",
        "\n",
        "      c. Number is a multiple of 5\n",
        "\n",
        "3. Display the maximum element from the list\n",
        "In case of any invalid data or if the list is empty, display -1.\n"
      ],
      "metadata": {
        "id": "4CHO6N1jB0hz"
      }
    },
    {
      "cell_type": "code",
      "source": [
        "def find_max(n1,n2):\n",
        "    if n1>n2:\n",
        "        return -1\n",
        "    l1= []\n",
        "    for i in range(n1,n2+1):\n",
        "        if (len(str(i))==2) and (i%5==0) and (sum([int(i) for i in str(i)])%3==0):\n",
        "        #if (len(str(i))==2) and (i%5==0) and (((i//10)+(i%10))%3==0):\n",
        "          l1.append(i)\n",
        "\n",
        "    if len(l1)>0:\n",
        "      return max(l1)\n",
        "    else:\n",
        "      return -1\n",
        "\n",
        "#sum(list(map(int, str(i).strip())))%3\n",
        "#sum([int(i) for i in str(i)])\n",
        "\n",
        "find_max(5, 67)\n"
      ],
      "metadata": {
        "colab": {
          "base_uri": "https://localhost:8080/"
        },
        "id": "COI7_FWMEgbh",
        "outputId": "d7517a4a-2d87-4cb2-f9b5-2a577c39c182"
      },
      "execution_count": 1,
      "outputs": [
        {
          "output_type": "execute_result",
          "data": {
            "text/plain": [
              "60"
            ]
          },
          "metadata": {},
          "execution_count": 1
        }
      ]
    },
    {
      "cell_type": "code",
      "source": [
        "\n",
        "n=sum([int(i) for i in str(i)])\n",
        "s=\"I love You\"\n",
        "print(s.replace(\" \", \"\"))\n",
        "print([i for i in s])\n",
        "print(list(s))\n",
        "print(s.split(\" \"))\n",
        "print(\" \".join(s.split(\" \")))"
      ],
      "metadata": {
        "colab": {
          "base_uri": "https://localhost:8080/"
        },
        "id": "Hkz5Nk9NJpCk",
        "outputId": "224465b7-2709-43c2-fe77-13bb6abe094c"
      },
      "execution_count": 14,
      "outputs": [
        {
          "output_type": "stream",
          "name": "stdout",
          "text": [
            "IloveYou\n",
            "['I', ' ', 'l', 'o', 'v', 'e', ' ', 'Y', 'o', 'u']\n",
            "['I', ' ', 'l', 'o', 'v', 'e', ' ', 'Y', 'o', 'u']\n",
            "['I', 'love', 'You']\n",
            "I love You\n"
          ]
        }
      ]
    }
  ]
}