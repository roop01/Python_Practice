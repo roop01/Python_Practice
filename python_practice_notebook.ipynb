{
  "cells": [
    {
      "cell_type": "markdown",
      "metadata": {
        "id": "view-in-github",
        "colab_type": "text"
      },
      "source": [
        "<a href=\"https://colab.research.google.com/github/roop01/python-programming-practices/blob/main/python_practice_notebook.ipynb\" target=\"_parent\"><img src=\"https://colab.research.google.com/assets/colab-badge.svg\" alt=\"Open In Colab\"/></a>"
      ]
    },
    {
      "cell_type": "markdown",
      "source": [
        "# **Python Programming Practice Notebook**\n",
        "\n"
      ],
      "metadata": {
        "id": "xcnO0l-Jpggr"
      },
      "id": "xcnO0l-Jpggr"
    },
    {
      "cell_type": "markdown",
      "source": [
        "1. Type() and isinstace()"
      ],
      "metadata": {
        "id": "Y_vwzUhkpztH"
      },
      "id": "Y_vwzUhkpztH"
    },
    {
      "cell_type": "code",
      "execution_count": null,
      "id": "35288dc6-af51-436d-b1e9-b9b36548ed80",
      "metadata": {
        "colab": {
          "base_uri": "https://localhost:8080/"
        },
        "id": "35288dc6-af51-436d-b1e9-b9b36548ed80",
        "outputId": "8ed30a39-0a9c-400c-fea2-2fe3d63c59b1"
      },
      "outputs": [
        {
          "output_type": "execute_result",
          "data": {
            "text/plain": [
              "str"
            ]
          },
          "metadata": {},
          "execution_count": 23
        }
      ],
      "source": [
        "a = 'Rupali'\n",
        "type(a)"
      ]
    },
    {
      "cell_type": "code",
      "execution_count": null,
      "id": "ef923c26-1196-44a0-a1fd-440c2f31d475",
      "metadata": {
        "colab": {
          "base_uri": "https://localhost:8080/"
        },
        "id": "ef923c26-1196-44a0-a1fd-440c2f31d475",
        "outputId": "eeb550f6-6a8c-4df2-920d-2e18fb67aefa"
      },
      "outputs": [
        {
          "output_type": "execute_result",
          "data": {
            "text/plain": [
              "True"
            ]
          },
          "metadata": {},
          "execution_count": 24
        }
      ],
      "source": [
        "#returns bool\n",
        "a = 'Rupali'\n",
        "isinstance(a, str)"
      ]
    },
    {
      "cell_type": "markdown",
      "source": [
        "2. String manipulation using slice method"
      ],
      "metadata": {
        "id": "XpE5HObwqB_G"
      },
      "id": "XpE5HObwqB_G"
    },
    {
      "cell_type": "code",
      "execution_count": null,
      "id": "96f42a8b-0306-47da-a490-67e5e7394ec1",
      "metadata": {
        "colab": {
          "base_uri": "https://localhost:8080/"
        },
        "id": "96f42a8b-0306-47da-a490-67e5e7394ec1",
        "outputId": "38b1fb10-eff3-400c-a052-5c3d41e5bbe7"
      },
      "outputs": [
        {
          "output_type": "stream",
          "name": "stdout",
          "text": [
            "ilapuR\n"
          ]
        }
      ],
      "source": [
        "str = 'Rupali'\n",
        "print(str[::-1])"
      ]
    },
    {
      "cell_type": "code",
      "execution_count": null,
      "id": "355c1c9f-f9eb-4555-b85e-818ff0f2d20e",
      "metadata": {
        "colab": {
          "base_uri": "https://localhost:8080/"
        },
        "id": "355c1c9f-f9eb-4555-b85e-818ff0f2d20e",
        "outputId": "cf277518-6689-44c7-fca4-35927153dc4c"
      },
      "outputs": [
        {
          "output_type": "stream",
          "name": "stdout",
          "text": [
            "lroWoll\n"
          ]
        }
      ],
      "source": [
        "s = 'HelloWorld'\n",
        "print(s[8:1:-1])"
      ]
    },
    {
      "cell_type": "code",
      "source": [
        "a = \"METHODS\"\n",
        "print(a[-6:-1])"
      ],
      "metadata": {
        "colab": {
          "base_uri": "https://localhost:8080/"
        },
        "id": "HpABvVxMrEVD",
        "outputId": "dc107cd8-6922-402f-b7b1-0ec4c6fc885e"
      },
      "id": "HpABvVxMrEVD",
      "execution_count": null,
      "outputs": [
        {
          "output_type": "stream",
          "name": "stdout",
          "text": [
            "ETHOD\n"
          ]
        }
      ]
    },
    {
      "cell_type": "markdown",
      "source": [
        "3. Dictionary\n"
      ],
      "metadata": {
        "id": "ujeOIADZqY6S"
      },
      "id": "ujeOIADZqY6S"
    },
    {
      "cell_type": "code",
      "execution_count": null,
      "id": "9acc53e1-8cb5-40c1-b80e-3b904f4f710a",
      "metadata": {
        "colab": {
          "base_uri": "https://localhost:8080/"
        },
        "id": "9acc53e1-8cb5-40c1-b80e-3b904f4f710a",
        "outputId": "8e22efab-1e71-4dd4-afe7-eab9cbfe172a"
      },
      "outputs": [
        {
          "output_type": "execute_result",
          "data": {
            "text/plain": [
              "{'Rup': 'Luck', 'Priya': 'Manali'}"
            ]
          },
          "metadata": {},
          "execution_count": 28
        }
      ],
      "source": [
        "m_dict = dict([('Rup','Luck'), ('Priya','Manali')])\n",
        "m_dict"
      ]
    },
    {
      "cell_type": "code",
      "execution_count": null,
      "id": "71c22635-4b03-4e5f-8b60-6139974a7295",
      "metadata": {
        "colab": {
          "base_uri": "https://localhost:8080/"
        },
        "id": "71c22635-4b03-4e5f-8b60-6139974a7295",
        "outputId": "d560b2ca-3062-4c74-df49-11c05fa292af"
      },
      "outputs": [
        {
          "output_type": "execute_result",
          "data": {
            "text/plain": [
              "dict_values(['Luck', 'Manali'])"
            ]
          },
          "metadata": {},
          "execution_count": 29
        }
      ],
      "source": [
        "m_dict.values()"
      ]
    },
    {
      "cell_type": "code",
      "source": [
        "m_dict.keys()"
      ],
      "metadata": {
        "colab": {
          "base_uri": "https://localhost:8080/"
        },
        "id": "Enf9UTIhbjt6",
        "outputId": "2438f652-b651-48ef-c2ce-e259c9c927b6"
      },
      "id": "Enf9UTIhbjt6",
      "execution_count": null,
      "outputs": [
        {
          "output_type": "execute_result",
          "data": {
            "text/plain": [
              "dict_keys(['Rup', 'Priya'])"
            ]
          },
          "metadata": {},
          "execution_count": 30
        }
      ]
    },
    {
      "cell_type": "code",
      "execution_count": null,
      "id": "f6296a1c-775c-426d-ba55-4bb656b6451e",
      "metadata": {
        "colab": {
          "base_uri": "https://localhost:8080/"
        },
        "id": "f6296a1c-775c-426d-ba55-4bb656b6451e",
        "outputId": "3d644d29-e9a2-4355-bd7e-942528311dbc"
      },
      "outputs": [
        {
          "output_type": "stream",
          "name": "stdout",
          "text": [
            "dict_items([('Rup', 'Blore'), ('Priya', 'Manali')])\n",
            "('Rup', 'Blore')\n",
            "('Priya', 'Manali')\n"
          ]
        }
      ],
      "source": [
        "i = m_dict.items()\n",
        "print(i)\n",
        "for n in i:\n",
        "    print(n)\n"
      ]
    },
    {
      "cell_type": "code",
      "execution_count": null,
      "id": "75ddc155-eb69-40b2-9ff5-211873184721",
      "metadata": {
        "colab": {
          "base_uri": "https://localhost:8080/"
        },
        "id": "75ddc155-eb69-40b2-9ff5-211873184721",
        "outputId": "9e0a62da-2173-4e88-998c-910623f77bed"
      },
      "outputs": [
        {
          "output_type": "execute_result",
          "data": {
            "text/plain": [
              "{'Rup': 'Blore', 'Priya': 'Manali'}"
            ]
          },
          "metadata": {},
          "execution_count": 33
        }
      ],
      "source": [
        "m_dict['Rup']='Blore'\n",
        "m_dict"
      ]
    },
    {
      "cell_type": "code",
      "execution_count": null,
      "id": "4983cdbc-3b4e-4195-a948-dfc5ca820cd8",
      "metadata": {
        "colab": {
          "base_uri": "https://localhost:8080/"
        },
        "id": "4983cdbc-3b4e-4195-a948-dfc5ca820cd8",
        "outputId": "fdcaad7c-5570-411a-84b7-c733d7642f85"
      },
      "outputs": [
        {
          "output_type": "execute_result",
          "data": {
            "text/plain": [
              "{'Rup': 'Blore', 'Priya': 'Manali', 'rup': 'London'}"
            ]
          },
          "metadata": {},
          "execution_count": 34
        }
      ],
      "source": [
        "m_dict['rup']='London'\n",
        "m_dict"
      ]
    },
    {
      "cell_type": "code",
      "source": [
        "[i for i in m_dict]"
      ],
      "metadata": {
        "colab": {
          "base_uri": "https://localhost:8080/"
        },
        "id": "N-Gjqo1zgZRJ",
        "outputId": "5a3c063d-e9bb-4951-feea-795bd09d3677"
      },
      "id": "N-Gjqo1zgZRJ",
      "execution_count": null,
      "outputs": [
        {
          "output_type": "execute_result",
          "data": {
            "text/plain": [
              "['Rup', 'Priya']"
            ]
          },
          "metadata": {},
          "execution_count": 103
        }
      ]
    },
    {
      "cell_type": "code",
      "source": [
        "[i for i in m_dict.values()]"
      ],
      "metadata": {
        "colab": {
          "base_uri": "https://localhost:8080/"
        },
        "id": "rg8dQJ0QiyBH",
        "outputId": "29b67270-feda-46bc-ef64-42d344d8ce4c"
      },
      "id": "rg8dQJ0QiyBH",
      "execution_count": null,
      "outputs": [
        {
          "output_type": "execute_result",
          "data": {
            "text/plain": [
              "['Blore', 'Manali']"
            ]
          },
          "metadata": {},
          "execution_count": 130
        }
      ]
    },
    {
      "cell_type": "code",
      "execution_count": null,
      "id": "38aeda62-e34c-4c0f-836c-1b24bdf748c5",
      "metadata": {
        "colab": {
          "base_uri": "https://localhost:8080/"
        },
        "id": "38aeda62-e34c-4c0f-836c-1b24bdf748c5",
        "outputId": "ae8cf49e-f488-488e-d4b0-f9293aef5b9a"
      },
      "outputs": [
        {
          "output_type": "execute_result",
          "data": {
            "text/plain": [
              "{'Rup': 'Blore', 'Priya': 'Manali'}"
            ]
          },
          "metadata": {},
          "execution_count": 35
        }
      ],
      "source": [
        "del m_dict['rup']\n",
        "m_dict"
      ]
    },
    {
      "cell_type": "code",
      "source": [
        "municipalities = {\n",
        "    'Maharastra' : ['mumbai','nagpur','Kolhapur'],\n",
        "    'UP': ['Lucknow','Kanpur','Merrut'],\n",
        "    'Karnataka': ['Bangalore','mysore','Mangalore'],\n",
        "}\n",
        "municipalities"
      ],
      "metadata": {
        "colab": {
          "base_uri": "https://localhost:8080/"
        },
        "id": "boxg9BmGhJwv",
        "outputId": "0c350a10-3266-45be-965d-c1c7a684ea9a"
      },
      "id": "boxg9BmGhJwv",
      "execution_count": null,
      "outputs": [
        {
          "output_type": "execute_result",
          "data": {
            "text/plain": [
              "{'Maharastra': ['mumbai', 'nagpur', 'Kolhapur'],\n",
              " 'UP': ['Lucknow', 'Kanpur', 'Merrut'],\n",
              " 'Karnataka': ['Bangalore', 'mysore', 'Mangalore']}"
            ]
          },
          "metadata": {},
          "execution_count": 113
        }
      ]
    },
    {
      "cell_type": "code",
      "source": [
        "print(municipalities)"
      ],
      "metadata": {
        "colab": {
          "base_uri": "https://localhost:8080/"
        },
        "id": "8dYjb5kqhaGj",
        "outputId": "795cdd72-7034-40b9-dddb-8760b3f31ee3"
      },
      "id": "8dYjb5kqhaGj",
      "execution_count": null,
      "outputs": [
        {
          "output_type": "stream",
          "name": "stdout",
          "text": [
            "{'Maharastra': ['mumbai', 'nagpur', 'Kolhapur'], 'UP': ['Lucknow', 'Kanpur', 'Merrut'], 'Karnataka': ['Bangalore', 'mysore', 'Mangalore']}\n"
          ]
        }
      ]
    },
    {
      "cell_type": "code",
      "source": [
        "municipalities['UP']"
      ],
      "metadata": {
        "colab": {
          "base_uri": "https://localhost:8080/"
        },
        "id": "SKKv8aMChRjz",
        "outputId": "639ee765-a146-46c9-c5aa-2d8f3a7b64e6"
      },
      "id": "SKKv8aMChRjz",
      "execution_count": null,
      "outputs": [
        {
          "output_type": "execute_result",
          "data": {
            "text/plain": [
              "['Lucknow', 'Kanpur', 'Merrut']"
            ]
          },
          "metadata": {},
          "execution_count": 114
        }
      ]
    },
    {
      "cell_type": "code",
      "source": [
        "municipalities['UP'][2]"
      ],
      "metadata": {
        "colab": {
          "base_uri": "https://localhost:8080/",
          "height": 35
        },
        "id": "BhUPJ-ychU7J",
        "outputId": "43b2fca4-b5e1-49cd-af43-5cfd7428b281"
      },
      "id": "BhUPJ-ychU7J",
      "execution_count": null,
      "outputs": [
        {
          "output_type": "execute_result",
          "data": {
            "text/plain": [
              "'Merrut'"
            ],
            "application/vnd.google.colaboratory.intrinsic+json": {
              "type": "string"
            }
          },
          "metadata": {},
          "execution_count": 115
        }
      ]
    },
    {
      "cell_type": "code",
      "source": [
        "municipalities['Karnataka'][0] != 'Nagpur'"
      ],
      "metadata": {
        "colab": {
          "base_uri": "https://localhost:8080/"
        },
        "id": "eYwOShHihkkm",
        "outputId": "56685816-5c64-4974-8e4b-27092223e78c"
      },
      "id": "eYwOShHihkkm",
      "execution_count": null,
      "outputs": [
        {
          "output_type": "execute_result",
          "data": {
            "text/plain": [
              "True"
            ]
          },
          "metadata": {},
          "execution_count": 117
        }
      ]
    },
    {
      "cell_type": "code",
      "source": [
        "municipalities['Himachal Pradesh']=['Manali', 'Kullu', 'Shimla']\n",
        "municipalities"
      ],
      "metadata": {
        "colab": {
          "base_uri": "https://localhost:8080/"
        },
        "id": "XPvtXhGhjGhp",
        "outputId": "6a3fef77-d0c4-49c4-fb3a-d1a933793b00"
      },
      "id": "XPvtXhGhjGhp",
      "execution_count": null,
      "outputs": [
        {
          "output_type": "execute_result",
          "data": {
            "text/plain": [
              "{'Maharastra': ['mumbai', 'nagpur', 'Kolhapur'],\n",
              " 'UP': ['Lucknow', 'Kanpur', 'Merrut'],\n",
              " 'Karnataka': ['Bangalore', 'mysore', 'Mangalore'],\n",
              " 'Himachal Pradesh': ['Manali', 'Kullu', 'Shimla']}"
            ]
          },
          "metadata": {},
          "execution_count": 132
        }
      ]
    },
    {
      "cell_type": "code",
      "source": [
        "print(municipalities.keys())\n",
        "type(municipalities.keys())\n"
      ],
      "metadata": {
        "colab": {
          "base_uri": "https://localhost:8080/"
        },
        "id": "yJtSwr_Uhp6o",
        "outputId": "75da4d46-89e6-432e-b609-b26f74af5983"
      },
      "id": "yJtSwr_Uhp6o",
      "execution_count": null,
      "outputs": [
        {
          "output_type": "stream",
          "name": "stdout",
          "text": [
            "dict_keys(['Maharastra', 'UP', 'Karnataka'])\n"
          ]
        },
        {
          "output_type": "execute_result",
          "data": {
            "text/plain": [
              "dict_keys"
            ]
          },
          "metadata": {},
          "execution_count": 129
        }
      ]
    },
    {
      "cell_type": "code",
      "source": [
        "print (type(municipalities))\n",
        "print (type(municipalities['Karnataka']))\n",
        "print (type(municipalities['Karnataka'][0]))"
      ],
      "metadata": {
        "colab": {
          "base_uri": "https://localhost:8080/"
        },
        "id": "PDjSKrOLhhnn",
        "outputId": "a0ead003-1786-4fce-a3a7-cb627a2cedd3"
      },
      "id": "PDjSKrOLhhnn",
      "execution_count": null,
      "outputs": [
        {
          "output_type": "stream",
          "name": "stdout",
          "text": [
            "<class 'dict'>\n",
            "<class 'list'>\n",
            "<class 'str'>\n"
          ]
        }
      ]
    },
    {
      "cell_type": "markdown",
      "source": [
        "4. Tuple"
      ],
      "metadata": {
        "id": "ucWijpISqhnv"
      },
      "id": "ucWijpISqhnv"
    },
    {
      "cell_type": "code",
      "source": [
        "a = tuple({\n",
        "       \"manufacturer\": \"Boeing\",\n",
        "       \"model\": \"747\",\n",
        "       \"passengers\": 416 })\n",
        "a"
      ],
      "metadata": {
        "colab": {
          "base_uri": "https://localhost:8080/"
        },
        "id": "kN73kNxZg1h3",
        "outputId": "ae80ce64-f325-4389-99b0-124ec1979ef0"
      },
      "id": "kN73kNxZg1h3",
      "execution_count": null,
      "outputs": [
        {
          "output_type": "execute_result",
          "data": {
            "text/plain": [
              "('manufacturer', 'model', 'passengers')"
            ]
          },
          "metadata": {},
          "execution_count": 111
        }
      ]
    },
    {
      "cell_type": "code",
      "source": [
        "a = tuple({\n",
        "       \"manufacturer\": \"Boeing\",\n",
        "       \"model\": \"747\",\n",
        "       \"passengers\": 416 }.keys())\n",
        "a"
      ],
      "metadata": {
        "colab": {
          "base_uri": "https://localhost:8080/"
        },
        "id": "H9byhdyPg_Op",
        "outputId": "d1d93a2d-7667-4f2a-b720-194fc1d230f4"
      },
      "id": "H9byhdyPg_Op",
      "execution_count": null,
      "outputs": [
        {
          "output_type": "execute_result",
          "data": {
            "text/plain": [
              "('manufacturer', 'model', 'passengers')"
            ]
          },
          "metadata": {},
          "execution_count": 110
        }
      ]
    },
    {
      "cell_type": "code",
      "execution_count": null,
      "id": "5c3a39d2-f3a4-4213-aeef-1679528e4a7b",
      "metadata": {
        "colab": {
          "base_uri": "https://localhost:8080/"
        },
        "id": "5c3a39d2-f3a4-4213-aeef-1679528e4a7b",
        "outputId": "366058b2-6830-4a89-9def-b5643481bd19"
      },
      "outputs": [
        {
          "output_type": "execute_result",
          "data": {
            "text/plain": [
              "('Boeing', '747', 416)"
            ]
          },
          "metadata": {},
          "execution_count": 107
        }
      ],
      "source": [
        "a = tuple({\n",
        "       \"manufacturer\": \"Boeing\",\n",
        "       \"model\": \"747\",\n",
        "       \"passengers\": 416, }.values())\n",
        "a"
      ]
    },
    {
      "cell_type": "code",
      "execution_count": null,
      "id": "8da90493-98a3-4b28-a911-6fed3360ff09",
      "metadata": {
        "colab": {
          "base_uri": "https://localhost:8080/"
        },
        "id": "8da90493-98a3-4b28-a911-6fed3360ff09",
        "outputId": "ad44b5d2-1ae2-4de0-a5c0-827564a66b36"
      },
      "outputs": [
        {
          "output_type": "stream",
          "name": "stdout",
          "text": [
            "1 [2, 3, 4] 5\n"
          ]
        },
        {
          "output_type": "execute_result",
          "data": {
            "text/plain": [
              "[2, 3, 4]"
            ]
          },
          "metadata": {},
          "execution_count": 135
        }
      ],
      "source": [
        "numbers = (1, 2, 3, 4, 5)\n",
        "a,*b,c = numbers\n",
        "print(a, b, c)\n",
        "b"
      ]
    },
    {
      "cell_type": "code",
      "execution_count": null,
      "id": "eb846e4a-6121-4777-81b6-875587a6709f",
      "metadata": {
        "colab": {
          "base_uri": "https://localhost:8080/"
        },
        "id": "eb846e4a-6121-4777-81b6-875587a6709f",
        "outputId": "16954f9e-0a48-420a-fb21-160ade72ba97"
      },
      "outputs": [
        {
          "output_type": "execute_result",
          "data": {
            "text/plain": [
              "('John', 'Doe', 'john@example.com', '55-555-5555')"
            ]
          },
          "metadata": {},
          "execution_count": 137
        }
      ],
      "source": [
        "name = (\"John\", \"Doe\")\n",
        "contact = (\"john@example.com\", \"55-555-5555\")\n",
        "(*name, *contact)\n"
      ]
    },
    {
      "cell_type": "markdown",
      "source": [
        "5. Set\n"
      ],
      "metadata": {
        "id": "hTUeDcKlrJ9y"
      },
      "id": "hTUeDcKlrJ9y"
    },
    {
      "cell_type": "code",
      "source": [
        "set = {\"rup\", \"marry\", 5, \"[1, 2, 3]\"}\n",
        "set.remove('rup')\n",
        "print(set)"
      ],
      "metadata": {
        "colab": {
          "base_uri": "https://localhost:8080/"
        },
        "id": "RD80tUSMq5l3",
        "outputId": "492efcd8-f3fd-458d-e7c4-1923f507218e"
      },
      "id": "RD80tUSMq5l3",
      "execution_count": null,
      "outputs": [
        {
          "output_type": "stream",
          "name": "stdout",
          "text": [
            "{'marry', 5, '[1, 2, 3]'}\n"
          ]
        }
      ]
    },
    {
      "cell_type": "markdown",
      "source": [
        "6. List"
      ],
      "metadata": {
        "id": "8s8YxtL-rdkv"
      },
      "id": "8s8YxtL-rdkv"
    },
    {
      "cell_type": "code",
      "execution_count": null,
      "id": "eb3d74a9-06a4-4f47-874d-b562d4b4bf17",
      "metadata": {
        "colab": {
          "base_uri": "https://localhost:8080/"
        },
        "id": "eb3d74a9-06a4-4f47-874d-b562d4b4bf17",
        "outputId": "9c9dbf9c-cdff-42a4-e8eb-263fe2f90ca7"
      },
      "outputs": [
        {
          "output_type": "execute_result",
          "data": {
            "text/plain": [
              "[42, 'apple', True, {'name': 'John Doe'}, (1, 2, 3), [3.14, 2.78]]"
            ]
          },
          "metadata": {},
          "execution_count": 41
        }
      ],
      "source": [
        "list = [42, \"apple\", True, {\"name\": \"John Doe\"}, (1, 2, 3), [3.14, 2.78]]\n",
        "list\n"
      ]
    },
    {
      "cell_type": "code",
      "execution_count": null,
      "id": "12b7b88c-6bfc-4c48-b4e4-6a6516db3706",
      "metadata": {
        "colab": {
          "base_uri": "https://localhost:8080/"
        },
        "id": "12b7b88c-6bfc-4c48-b4e4-6a6516db3706",
        "outputId": "41b6b45d-daba-48fa-b932-a26d611e04c8"
      },
      "outputs": [
        {
          "output_type": "execute_result",
          "data": {
            "text/plain": [
              "42"
            ]
          },
          "metadata": {},
          "execution_count": 42
        }
      ],
      "source": [
        "list[0]"
      ]
    },
    {
      "cell_type": "code",
      "source": [
        "square_list=[1,2,3,4,5,6]\n",
        "print(square_list)\n",
        "square_list[0]=7\n",
        "print(square_list)\n",
        "\n",
        "print(square_list[0:2])\n",
        "print(square_list[-3:-1])\n",
        "print(square_list[0:-1])\n",
        "print(square_list[-5:-1:2])\n"
      ],
      "metadata": {
        "colab": {
          "base_uri": "https://localhost:8080/"
        },
        "id": "ePMJF3_lmGBU",
        "outputId": "40e1416b-da33-4727-ac03-5db93d497045"
      },
      "id": "ePMJF3_lmGBU",
      "execution_count": null,
      "outputs": [
        {
          "output_type": "stream",
          "name": "stdout",
          "text": [
            "[1, 2, 3, 4, 5, 6]\n",
            "[7, 2, 3, 4, 5, 6]\n",
            "[7, 2]\n",
            "[4, 5]\n",
            "[7, 2, 3, 4, 5]\n",
            "[2, 4]\n"
          ]
        }
      ]
    },
    {
      "cell_type": "code",
      "source": [
        "square_list.sort()\n",
        "square_list\n"
      ],
      "metadata": {
        "colab": {
          "base_uri": "https://localhost:8080/"
        },
        "id": "TOjxxjS7mk1E",
        "outputId": "f745d28e-22aa-45ee-a325-1803d7f3ae32"
      },
      "id": "TOjxxjS7mk1E",
      "execution_count": null,
      "outputs": [
        {
          "output_type": "execute_result",
          "data": {
            "text/plain": [
              "[2, 3, 4, 5, 6, 7]"
            ]
          },
          "metadata": {},
          "execution_count": 143
        }
      ]
    },
    {
      "cell_type": "code",
      "source": [
        "square_list.sort(reverse=True)\n",
        "square_list"
      ],
      "metadata": {
        "colab": {
          "base_uri": "https://localhost:8080/"
        },
        "id": "LeiktF29mzOk",
        "outputId": "3afe34ad-04b4-4eb8-ffe0-c226ce2d89c2"
      },
      "id": "LeiktF29mzOk",
      "execution_count": null,
      "outputs": [
        {
          "output_type": "execute_result",
          "data": {
            "text/plain": [
              "[7, 6, 5, 4, 3, 2]"
            ]
          },
          "metadata": {},
          "execution_count": 144
        }
      ]
    },
    {
      "cell_type": "code",
      "source": [
        "def takeSecond(elem):\n",
        "    return elem[0]\n",
        "\n",
        "random=[(5,2),(6,1),(4,3)]\n",
        "\n",
        "random.sort(key=takeSecond)\n",
        "print(random)"
      ],
      "metadata": {
        "colab": {
          "base_uri": "https://localhost:8080/"
        },
        "id": "Zoiip4z8m8Xl",
        "outputId": "4bec8c00-22ae-46fe-8683-d4afae213346"
      },
      "id": "Zoiip4z8m8Xl",
      "execution_count": null,
      "outputs": [
        {
          "output_type": "stream",
          "name": "stdout",
          "text": [
            "[(4, 3), (5, 2), (6, 1)]\n"
          ]
        }
      ]
    },
    {
      "cell_type": "markdown",
      "source": [
        "7. List and Dictionary Comprehensions"
      ],
      "metadata": {
        "id": "if1nkdAprgZL"
      },
      "id": "if1nkdAprgZL"
    },
    {
      "cell_type": "code",
      "execution_count": null,
      "id": "372b748c-343f-4b2c-a878-cc4ba0eac7da",
      "metadata": {
        "colab": {
          "base_uri": "https://localhost:8080/"
        },
        "id": "372b748c-343f-4b2c-a878-cc4ba0eac7da",
        "outputId": "4c0f5907-7eb6-4f43-92c4-f3e71034f92e"
      },
      "outputs": [
        {
          "output_type": "execute_result",
          "data": {
            "text/plain": [
              "{1: 'A', 2: 'B', 3: 'VC'}"
            ]
          },
          "metadata": {},
          "execution_count": 43
        }
      ],
      "source": [
        "a =[1,2,3]\n",
        "b=[\"A\", \"B\", \"VC\"]\n",
        "{i:t for i, t in zip(a,b)}"
      ]
    },
    {
      "cell_type": "code",
      "execution_count": null,
      "id": "6b0771e4-bf04-4864-b0e8-75cb2dbc575f",
      "metadata": {
        "colab": {
          "base_uri": "https://localhost:8080/"
        },
        "id": "6b0771e4-bf04-4864-b0e8-75cb2dbc575f",
        "outputId": "cbc5bf84-1976-4b13-d622-cbae6e9e5bb1"
      },
      "outputs": [
        {
          "output_type": "stream",
          "name": "stdout",
          "text": [
            "[4, 9, 25, 49, 121]\n"
          ]
        }
      ],
      "source": [
        "my_list = [2, 3, 5, 7, 11]\n",
        "squared_list = [x**2 for x in my_list]\n",
        "print(squared_list)"
      ]
    },
    {
      "cell_type": "code",
      "execution_count": null,
      "id": "48b5f29e-75f3-4be1-85f0-2824452da21d",
      "metadata": {
        "colab": {
          "base_uri": "https://localhost:8080/"
        },
        "id": "48b5f29e-75f3-4be1-85f0-2824452da21d",
        "outputId": "e024abc5-d4fe-4d2f-fb2f-011823b82fdc"
      },
      "outputs": [
        {
          "output_type": "stream",
          "name": "stdout",
          "text": [
            "{2: 4, 3: 9, 5: 25, 7: 49, 11: 121}\n"
          ]
        }
      ],
      "source": [
        "my_list = [2, 3, 5, 7, 11]\n",
        "squared_dict = {x:x**2 for x in my_list}\n",
        "print(squared_dict)"
      ]
    },
    {
      "cell_type": "code",
      "execution_count": null,
      "id": "08580db5-15da-4a89-877f-9b609c683e28",
      "metadata": {
        "colab": {
          "base_uri": "https://localhost:8080/"
        },
        "id": "08580db5-15da-4a89-877f-9b609c683e28",
        "outputId": "0c502a56-7e9a-4a91-8e8e-834d1a208e05"
      },
      "outputs": [
        {
          "output_type": "stream",
          "name": "stdout",
          "text": [
            "[9, 25, 49, 121]\n"
          ]
        }
      ],
      "source": [
        "my_list = [2, 3, 5, 7, 11]\n",
        "squared_list = [x**2 for x in my_list if x%2 != 0]\n",
        "print(squared_list)"
      ]
    },
    {
      "cell_type": "code",
      "execution_count": null,
      "id": "1b8eefc0-ac0d-44a4-b5d2-d7b9709c9a89",
      "metadata": {
        "colab": {
          "base_uri": "https://localhost:8080/"
        },
        "id": "1b8eefc0-ac0d-44a4-b5d2-d7b9709c9a89",
        "outputId": "4767ed22-758b-4df3-ceab-6c99d152fd0b"
      },
      "outputs": [
        {
          "output_type": "stream",
          "name": "stdout",
          "text": [
            "{3: 9, 5: 25, 7: 49, 11: 121}\n"
          ]
        }
      ],
      "source": [
        "my_list = [2, 3, 5, 7, 11]\n",
        "squared_dict = {x:x**2 for x in my_list if x%2 != 0}\n",
        "print(squared_dict)"
      ]
    },
    {
      "cell_type": "code",
      "execution_count": null,
      "id": "6256e274-1d7a-44d6-a454-300db1046239",
      "metadata": {
        "colab": {
          "base_uri": "https://localhost:8080/"
        },
        "id": "6256e274-1d7a-44d6-a454-300db1046239",
        "outputId": "89da108a-54db-4444-ada7-cce40c6db70e"
      },
      "outputs": [
        {
          "output_type": "execute_result",
          "data": {
            "text/plain": [
              "{3: 9, 5: 25, 7: 49, 11: 121}"
            ]
          },
          "metadata": {},
          "execution_count": 48
        }
      ],
      "source": [
        "my_list = [2, 3, 5, 7, 11]\n",
        "{x:x**2 for x in my_list if x%2}"
      ]
    },
    {
      "cell_type": "code",
      "execution_count": null,
      "id": "f3fcd192-a33d-4785-93f1-d6681f24ff06",
      "metadata": {
        "colab": {
          "base_uri": "https://localhost:8080/"
        },
        "id": "f3fcd192-a33d-4785-93f1-d6681f24ff06",
        "outputId": "08d10a4b-66ab-486a-e4f1-b9f844d1298c"
      },
      "outputs": [
        {
          "output_type": "execute_result",
          "data": {
            "text/plain": [
              "[8, 10, 12]"
            ]
          },
          "metadata": {},
          "execution_count": 49
        }
      ],
      "source": [
        "a = [1, 2, 3]\n",
        "b = [7, 8, 9]\n",
        "[(x + y) for (x,y) in zip(a,b)] #parallel iterators"
      ]
    },
    {
      "cell_type": "code",
      "execution_count": null,
      "id": "44310ace-255b-4a3d-8441-9fda89ad36de",
      "metadata": {
        "colab": {
          "base_uri": "https://localhost:8080/"
        },
        "id": "44310ace-255b-4a3d-8441-9fda89ad36de",
        "outputId": "b912a34b-bc49-478c-9bd4-8f8af62bf423"
      },
      "outputs": [
        {
          "output_type": "execute_result",
          "data": {
            "text/plain": [
              "{1: 8, 2: 10, 3: 12}"
            ]
          },
          "metadata": {},
          "execution_count": 50
        }
      ],
      "source": [
        "a = [1, 2, 3]\n",
        "b = [7, 8, 9]\n",
        "{x:x+y for x,y in zip(a,b)}"
      ]
    },
    {
      "cell_type": "code",
      "execution_count": null,
      "id": "9e505e5b-680f-4d93-aa04-f713ba7059f0",
      "metadata": {
        "colab": {
          "base_uri": "https://localhost:8080/"
        },
        "id": "9e505e5b-680f-4d93-aa04-f713ba7059f0",
        "outputId": "e8a9b318-4f9c-4114-d2d9-4b0befe9e184"
      },
      "outputs": [
        {
          "output_type": "execute_result",
          "data": {
            "text/plain": [
              "[(1, 7), (1, 8), (1, 9), (2, 7), (2, 8), (2, 9), (3, 7), (3, 8), (3, 9)]"
            ]
          },
          "metadata": {},
          "execution_count": 51
        }
      ],
      "source": [
        "a = [1, 2, 3]\n",
        "b = [7, 8, 9]\n",
        "[(x,y) for x in a for y in b] #nested iterator"
      ]
    },
    {
      "cell_type": "code",
      "execution_count": null,
      "id": "13ac13b4-71b8-4d6b-bfaa-0f1cc1929f8b",
      "metadata": {
        "colab": {
          "base_uri": "https://localhost:8080/"
        },
        "id": "13ac13b4-71b8-4d6b-bfaa-0f1cc1929f8b",
        "outputId": "97f813fa-96ed-4fd7-9292-eea7eb34e0fe"
      },
      "outputs": [
        {
          "output_type": "execute_result",
          "data": {
            "text/plain": [
              "['sa', 'ra', 'an', 'sh']"
            ]
          },
          "metadata": {},
          "execution_count": 52
        }
      ],
      "source": [
        "list1 = ['s', 'r', 'a', 's']\n",
        "list2 = ['a', 'a', 'n', 'h']\n",
        "[\"\".join([i, j]) for i, j in zip(list1, list2)]"
      ]
    },
    {
      "cell_type": "code",
      "source": [
        "#tuple comprehension\n",
        "tuple(x*2 for x in range(10))"
      ],
      "metadata": {
        "colab": {
          "base_uri": "https://localhost:8080/"
        },
        "id": "2qOl-cvsnah1",
        "outputId": "6d9f982e-cc88-4a9a-a1f6-9b94749b6c51"
      },
      "id": "2qOl-cvsnah1",
      "execution_count": null,
      "outputs": [
        {
          "output_type": "execute_result",
          "data": {
            "text/plain": [
              "(0, 2, 4, 6, 8, 10, 12, 14, 16, 18)"
            ]
          },
          "metadata": {},
          "execution_count": 146
        }
      ]
    },
    {
      "cell_type": "code",
      "execution_count": null,
      "id": "ae7bba9a-687a-4882-8773-878a44221482",
      "metadata": {
        "colab": {
          "base_uri": "https://localhost:8080/"
        },
        "id": "ae7bba9a-687a-4882-8773-878a44221482",
        "outputId": "2ed5316c-3e6c-46f7-cc31-37b54b4e0f54"
      },
      "outputs": [
        {
          "output_type": "stream",
          "name": "stdout",
          "text": [
            "1716115114.9378288\n"
          ]
        }
      ],
      "source": [
        "import time\n",
        "print(time.time())"
      ]
    },
    {
      "cell_type": "code",
      "execution_count": null,
      "id": "deccadca-7d96-4e3b-b488-ea3d295c2a14",
      "metadata": {
        "colab": {
          "base_uri": "https://localhost:8080/"
        },
        "id": "deccadca-7d96-4e3b-b488-ea3d295c2a14",
        "outputId": "51bc4d28-a4ab-43a5-f048-689d90c56d1b"
      },
      "outputs": [
        {
          "output_type": "stream",
          "name": "stdout",
          "text": [
            "[10, 20, 30, 40, 50, 60, 70, 80, 90]\n"
          ]
        },
        {
          "output_type": "execute_result",
          "data": {
            "text/plain": [
              "[10, 20, 30, 40, 50, 60, 70, 80, 90]"
            ]
          },
          "metadata": {},
          "execution_count": 54
        }
      ],
      "source": [
        "my_list = [[10,20,30],\n",
        "           [40,50,60],\n",
        "           [70,80,90]]#flattening of array\n",
        "list = []\n",
        "for i in my_list:\n",
        "    for j in i:\n",
        "        list.append(j)\n",
        "print(list)\n",
        "[j for i in my_list for j in i]\n"
      ]
    },
    {
      "cell_type": "markdown",
      "source": [
        "8. Lambda Functions\n"
      ],
      "metadata": {
        "id": "wikMDuegr9Vu"
      },
      "id": "wikMDuegr9Vu"
    },
    {
      "cell_type": "code",
      "execution_count": null,
      "id": "cdd74d5d-5704-417a-8f5c-8226324fc106",
      "metadata": {
        "colab": {
          "base_uri": "https://localhost:8080/"
        },
        "id": "cdd74d5d-5704-417a-8f5c-8226324fc106",
        "outputId": "40bde5e0-b84d-4242-e5f1-565e29d4b665"
      },
      "outputs": [
        {
          "output_type": "execute_result",
          "data": {
            "text/plain": [
              "10"
            ]
          },
          "metadata": {},
          "execution_count": 55
        }
      ],
      "source": [
        "#Lambda Functions\n",
        "def wrapper(num):\n",
        "    return lambda x: x*num\n",
        "multiply = wrapper(5)\n",
        "multiply(2)"
      ]
    },
    {
      "cell_type": "markdown",
      "source": [
        "9. Shallow vs Deep Copy\n"
      ],
      "metadata": {
        "id": "Rr9LFvTwsCXF"
      },
      "id": "Rr9LFvTwsCXF"
    },
    {
      "cell_type": "code",
      "execution_count": null,
      "id": "7ba93c95-4fe5-4aab-9197-e48b7704dc02",
      "metadata": {
        "colab": {
          "base_uri": "https://localhost:8080/"
        },
        "id": "7ba93c95-4fe5-4aab-9197-e48b7704dc02",
        "outputId": "20705a21-5aeb-4bb7-86c1-c986ed597a5a"
      },
      "outputs": [
        {
          "output_type": "stream",
          "name": "stdout",
          "text": [
            "[136067955425856, 136067955377664]\n"
          ]
        }
      ],
      "source": [
        "from copy import copy, deepcopy\n",
        "list_1 = [1, 2, [3, 5], 4]\n",
        "list_2 = copy(list_1)\n",
        "print([id(list_1), id(list_2)])"
      ]
    },
    {
      "cell_type": "code",
      "execution_count": null,
      "id": "47cb074c-9b4c-4712-a09a-d45186eaf434",
      "metadata": {
        "colab": {
          "base_uri": "https://localhost:8080/"
        },
        "id": "47cb074c-9b4c-4712-a09a-d45186eaf434",
        "outputId": "d9333785-eaa1-4064-b508-b8b1eb917490"
      },
      "outputs": [
        {
          "output_type": "stream",
          "name": "stdout",
          "text": [
            "[136069237047568, 136069237047568]\n"
          ]
        }
      ],
      "source": [
        "print([id(list_1[1]), id(list_2[1])])"
      ]
    },
    {
      "cell_type": "code",
      "execution_count": null,
      "id": "2a93d830-bf88-4cb0-8436-698c1ed176fd",
      "metadata": {
        "colab": {
          "base_uri": "https://localhost:8080/"
        },
        "id": "2a93d830-bf88-4cb0-8436-698c1ed176fd",
        "outputId": "7616a285-2ef9-477e-b215-a35165865935"
      },
      "outputs": [
        {
          "output_type": "execute_result",
          "data": {
            "text/plain": [
              "[1, 2, [3, 5, 6], 7]"
            ]
          },
          "metadata": {},
          "execution_count": 58
        }
      ],
      "source": [
        "#Shallow vs Deep Copy\n",
        "list_2[3]=7\n",
        "list_2[2].append(6)\n",
        "list_2"
      ]
    },
    {
      "cell_type": "code",
      "execution_count": null,
      "id": "fd22ceb9-4c38-4a58-94c3-b891f1110ee7",
      "metadata": {
        "colab": {
          "base_uri": "https://localhost:8080/"
        },
        "id": "fd22ceb9-4c38-4a58-94c3-b891f1110ee7",
        "outputId": "76eed3d1-ea30-41c9-eee7-1ffa3819dcbe"
      },
      "outputs": [
        {
          "output_type": "execute_result",
          "data": {
            "text/plain": [
              "[1, 2, [3, 5, 6], 4]"
            ]
          },
          "metadata": {},
          "execution_count": 59
        }
      ],
      "source": [
        "list_1"
      ]
    },
    {
      "cell_type": "code",
      "execution_count": null,
      "id": "38fd5dd6-f7ec-4364-8364-dbd9c02b4652",
      "metadata": {
        "colab": {
          "base_uri": "https://localhost:8080/"
        },
        "id": "38fd5dd6-f7ec-4364-8364-dbd9c02b4652",
        "outputId": "2256a376-7288-4cb6-8c66-5af5fa4e388a"
      },
      "outputs": [
        {
          "output_type": "execute_result",
          "data": {
            "text/plain": [
              "[1, 2, [3, 5, 6], 4]"
            ]
          },
          "metadata": {},
          "execution_count": 60
        }
      ],
      "source": [
        "#deepcopy for nested lists\n",
        "list3 = deepcopy(list_1)\n",
        "list3"
      ]
    },
    {
      "cell_type": "code",
      "execution_count": null,
      "id": "cfc9fa0f-2af4-417a-a8fe-8fd199841525",
      "metadata": {
        "colab": {
          "base_uri": "https://localhost:8080/"
        },
        "id": "cfc9fa0f-2af4-417a-a8fe-8fd199841525",
        "outputId": "66a202ac-ebe9-451f-d688-643278c01eb8"
      },
      "outputs": [
        {
          "output_type": "execute_result",
          "data": {
            "text/plain": [
              "[1, 2, [3, 5, 6], 8]"
            ]
          },
          "metadata": {},
          "execution_count": 61
        }
      ],
      "source": [
        "list3[3] = 8\n",
        "list3"
      ]
    },
    {
      "cell_type": "code",
      "execution_count": null,
      "id": "48ec5a90-a162-476f-b913-a8a38d089143",
      "metadata": {
        "colab": {
          "base_uri": "https://localhost:8080/"
        },
        "id": "48ec5a90-a162-476f-b913-a8a38d089143",
        "outputId": "901af1da-8916-4dc3-889e-081cd0884e5a"
      },
      "outputs": [
        {
          "output_type": "execute_result",
          "data": {
            "text/plain": [
              "[1, 2, [3, 5, 6], 4]"
            ]
          },
          "metadata": {},
          "execution_count": 62
        }
      ],
      "source": [
        "list_1"
      ]
    },
    {
      "cell_type": "code",
      "execution_count": null,
      "id": "6c21ad8d-7da4-47ef-a003-7740a6fd1a35",
      "metadata": {
        "id": "6c21ad8d-7da4-47ef-a003-7740a6fd1a35"
      },
      "outputs": [],
      "source": [
        "list3[2].append(10)"
      ]
    },
    {
      "cell_type": "code",
      "execution_count": null,
      "id": "6e34714a-549b-4aa6-a972-07ad13e0cec5",
      "metadata": {
        "colab": {
          "base_uri": "https://localhost:8080/"
        },
        "id": "6e34714a-549b-4aa6-a972-07ad13e0cec5",
        "outputId": "f0ad96b1-ee13-485e-910f-af0e8da95196"
      },
      "outputs": [
        {
          "output_type": "execute_result",
          "data": {
            "text/plain": [
              "[1, 2, [3, 5, 6, 10], 8]"
            ]
          },
          "metadata": {},
          "execution_count": 64
        }
      ],
      "source": [
        "list3"
      ]
    },
    {
      "cell_type": "code",
      "execution_count": null,
      "id": "e44cf2e1-b167-4a3c-ac01-cf1c510c4187",
      "metadata": {
        "colab": {
          "base_uri": "https://localhost:8080/"
        },
        "id": "e44cf2e1-b167-4a3c-ac01-cf1c510c4187",
        "outputId": "6c507d97-2ee7-4238-eef6-2722949f7cce"
      },
      "outputs": [
        {
          "output_type": "execute_result",
          "data": {
            "text/plain": [
              "[1, 2, [3, 5, 6], 4]"
            ]
          },
          "metadata": {},
          "execution_count": 65
        }
      ],
      "source": [
        "list_1"
      ]
    },
    {
      "cell_type": "code",
      "execution_count": null,
      "id": "2a205464-51f2-49d4-bb13-23cc2497de09",
      "metadata": {
        "colab": {
          "base_uri": "https://localhost:8080/"
        },
        "id": "2a205464-51f2-49d4-bb13-23cc2497de09",
        "outputId": "0af14547-7ee8-43e5-bd39-23f39f6b98e6"
      },
      "outputs": [
        {
          "output_type": "stream",
          "name": "stdout",
          "text": [
            "136068186864832 136068186864832\n"
          ]
        }
      ],
      "source": [
        "l_1= [11,12,13,14]\n",
        "l_2=l_1\n",
        "print(id(l_1), id(l_2))"
      ]
    },
    {
      "cell_type": "code",
      "execution_count": null,
      "id": "dd5a5eea-fcf7-4ae4-ac8d-01f0ee4ece0f",
      "metadata": {
        "colab": {
          "base_uri": "https://localhost:8080/"
        },
        "id": "dd5a5eea-fcf7-4ae4-ac8d-01f0ee4ece0f",
        "outputId": "b2255627-69ce-4b3f-e59d-77e6122779f2"
      },
      "outputs": [
        {
          "output_type": "stream",
          "name": "stdout",
          "text": [
            "136069237047888 136069237047888\n"
          ]
        }
      ],
      "source": [
        "print(id(l_1[1]), id(l_2[1]))"
      ]
    },
    {
      "cell_type": "code",
      "execution_count": null,
      "id": "56f865ec-5176-48cd-836b-0d8bef18f815",
      "metadata": {
        "colab": {
          "base_uri": "https://localhost:8080/"
        },
        "id": "56f865ec-5176-48cd-836b-0d8bef18f815",
        "outputId": "17706f44-7720-49fe-bd88-4a7bff519cb7"
      },
      "outputs": [
        {
          "output_type": "stream",
          "name": "stdout",
          "text": [
            "136069237047920 136069237047920\n"
          ]
        }
      ],
      "source": [
        "print(id(l_1[2]), id(l_2[2]))"
      ]
    },
    {
      "cell_type": "code",
      "execution_count": null,
      "id": "2ae95661-01e7-474c-bdf2-ea1445468e0f",
      "metadata": {
        "colab": {
          "base_uri": "https://localhost:8080/"
        },
        "id": "2ae95661-01e7-474c-bdf2-ea1445468e0f",
        "outputId": "52b6ba5e-403c-4c51-fad0-8d3d1af0319f"
      },
      "outputs": [
        {
          "output_type": "stream",
          "name": "stdout",
          "text": [
            "136069237047952 136069237047952\n"
          ]
        }
      ],
      "source": [
        "print(id(l_1[3]), id(l_2[3]))"
      ]
    },
    {
      "cell_type": "code",
      "execution_count": null,
      "id": "4d287247-5914-4c7f-8c49-5eafb74bb1d6",
      "metadata": {
        "colab": {
          "base_uri": "https://localhost:8080/"
        },
        "id": "4d287247-5914-4c7f-8c49-5eafb74bb1d6",
        "outputId": "57069896-45f5-4881-89b0-cde265dd6e54"
      },
      "outputs": [
        {
          "output_type": "execute_result",
          "data": {
            "text/plain": [
              "[11, 22, 13, 14]"
            ]
          },
          "metadata": {},
          "execution_count": 70
        }
      ],
      "source": [
        "l_2[1]=22\n",
        "l_2"
      ]
    },
    {
      "cell_type": "code",
      "execution_count": null,
      "id": "8e0ade9f-4219-4903-8ed0-10a384ee4033",
      "metadata": {
        "colab": {
          "base_uri": "https://localhost:8080/"
        },
        "id": "8e0ade9f-4219-4903-8ed0-10a384ee4033",
        "outputId": "8812b057-1dac-448a-cef9-f793c3d47567"
      },
      "outputs": [
        {
          "output_type": "execute_result",
          "data": {
            "text/plain": [
              "[11, 22, 13, 14]"
            ]
          },
          "metadata": {},
          "execution_count": 71
        }
      ],
      "source": [
        "l_1"
      ]
    },
    {
      "cell_type": "code",
      "execution_count": null,
      "id": "f6496106-0578-478e-b844-8cec1de84960",
      "metadata": {
        "colab": {
          "base_uri": "https://localhost:8080/"
        },
        "id": "f6496106-0578-478e-b844-8cec1de84960",
        "outputId": "ce33fcca-5d8e-4846-f6c2-c5d840b8a310"
      },
      "outputs": [
        {
          "output_type": "stream",
          "name": "stdout",
          "text": [
            "136069237048208 136069237048208\n"
          ]
        }
      ],
      "source": [
        "print(id(l_1[1]), id(l_2[1]))"
      ]
    },
    {
      "cell_type": "code",
      "execution_count": null,
      "id": "50c716bd-ccb4-4251-a911-709d7be92d4e",
      "metadata": {
        "colab": {
          "base_uri": "https://localhost:8080/"
        },
        "id": "50c716bd-ccb4-4251-a911-709d7be92d4e",
        "outputId": "f032e9c0-ed12-45ed-ed84-00c87808e268"
      },
      "outputs": [
        {
          "output_type": "stream",
          "name": "stdout",
          "text": [
            "136068186864832 136068186864832\n"
          ]
        }
      ],
      "source": [
        "print(id(l_1), id(l_2))"
      ]
    },
    {
      "cell_type": "code",
      "execution_count": null,
      "id": "db672d7b-18c6-490b-9bb0-77d4fb46d6d0",
      "metadata": {
        "colab": {
          "base_uri": "https://localhost:8080/"
        },
        "id": "db672d7b-18c6-490b-9bb0-77d4fb46d6d0",
        "outputId": "49331152-0273-4913-c6c2-42c8ea41a146"
      },
      "outputs": [
        {
          "output_type": "execute_result",
          "data": {
            "text/plain": [
              "[11, 22, 33, 14]"
            ]
          },
          "metadata": {},
          "execution_count": 74
        }
      ],
      "source": [
        "l_1[2] = 33\n",
        "l_2"
      ]
    },
    {
      "cell_type": "code",
      "execution_count": null,
      "id": "cd08926b-ad3a-4a53-852e-31ac9ff1e7c9",
      "metadata": {
        "colab": {
          "base_uri": "https://localhost:8080/"
        },
        "id": "cd08926b-ad3a-4a53-852e-31ac9ff1e7c9",
        "outputId": "90c3f6f0-4034-413d-b8f7-133461d685a9"
      },
      "outputs": [
        {
          "output_type": "stream",
          "name": "stdout",
          "text": [
            "136069237048560 136069237048560\n"
          ]
        }
      ],
      "source": [
        "print(id(l_1[2]), id(l_2[2]))"
      ]
    },
    {
      "cell_type": "code",
      "execution_count": null,
      "id": "59e8751b-0943-4764-985d-431075e1d70d",
      "metadata": {
        "colab": {
          "base_uri": "https://localhost:8080/"
        },
        "id": "59e8751b-0943-4764-985d-431075e1d70d",
        "outputId": "646bbfa7-c6b3-42c6-bc1f-df8342e1c5b0"
      },
      "outputs": [
        {
          "output_type": "execute_result",
          "data": {
            "text/plain": [
              "[11, 22, 33, 14, 44, 44]"
            ]
          },
          "metadata": {},
          "execution_count": 150
        }
      ],
      "source": [
        "l_2.append(44)\n",
        "l_2"
      ]
    },
    {
      "cell_type": "code",
      "execution_count": null,
      "id": "716fb3a5-b1f3-4b5f-a034-7b4939922956",
      "metadata": {
        "colab": {
          "base_uri": "https://localhost:8080/"
        },
        "id": "716fb3a5-b1f3-4b5f-a034-7b4939922956",
        "outputId": "692660c9-23be-4fb2-a13a-bc6236b85b0d"
      },
      "outputs": [
        {
          "output_type": "stream",
          "name": "stdout",
          "text": [
            "136069237048912 136069237048912\n"
          ]
        }
      ],
      "source": [
        "print(id(l_1[4]), id(l_2[4]))"
      ]
    },
    {
      "cell_type": "code",
      "execution_count": null,
      "id": "75b66708-ade4-45f7-ad08-b5a2cd0bf493",
      "metadata": {
        "colab": {
          "base_uri": "https://localhost:8080/"
        },
        "id": "75b66708-ade4-45f7-ad08-b5a2cd0bf493",
        "outputId": "958196a9-4380-453f-e738-620c0b1b25d8"
      },
      "outputs": [
        {
          "output_type": "execute_result",
          "data": {
            "text/plain": [
              "136067955076928"
            ]
          },
          "metadata": {},
          "execution_count": 79
        }
      ],
      "source": [
        "from copy import copy\n",
        "my_list_1= [1,2,3,4]\n",
        "id(my_list_1)"
      ]
    },
    {
      "cell_type": "code",
      "execution_count": null,
      "id": "416840d8-b5d1-4d78-bc07-faf57fe6d6d8",
      "metadata": {
        "colab": {
          "base_uri": "https://localhost:8080/"
        },
        "id": "416840d8-b5d1-4d78-bc07-faf57fe6d6d8",
        "outputId": "935f2d95-eb48-49ae-d423-0f235102371b"
      },
      "outputs": [
        {
          "output_type": "execute_result",
          "data": {
            "text/plain": [
              "[1, 2, 3, 4]"
            ]
          },
          "metadata": {},
          "execution_count": 80
        }
      ],
      "source": [
        "my_list_2 = copy(my_list_1)\n",
        "my_list_2"
      ]
    },
    {
      "cell_type": "code",
      "execution_count": null,
      "id": "470108eb-5c26-4e7b-9be3-3a2e20486424",
      "metadata": {
        "colab": {
          "base_uri": "https://localhost:8080/"
        },
        "id": "470108eb-5c26-4e7b-9be3-3a2e20486424",
        "outputId": "825a7c68-5d5c-4fc9-eb06-9f1ca954868e"
      },
      "outputs": [
        {
          "output_type": "execute_result",
          "data": {
            "text/plain": [
              "136068525326016"
            ]
          },
          "metadata": {},
          "execution_count": 81
        }
      ],
      "source": [
        "id(my_list_2)"
      ]
    },
    {
      "cell_type": "code",
      "execution_count": null,
      "id": "241eb1ad-daa3-4bf6-9dde-9752d8992f4b",
      "metadata": {
        "colab": {
          "base_uri": "https://localhost:8080/"
        },
        "id": "241eb1ad-daa3-4bf6-9dde-9752d8992f4b",
        "outputId": "49ab6542-c49b-422d-8320-85f9673f7616"
      },
      "outputs": [
        {
          "output_type": "stream",
          "name": "stdout",
          "text": [
            "136069237047568 136069237047568\n"
          ]
        }
      ],
      "source": [
        "print(id(my_list_1[1]), id(my_list_2[1]))"
      ]
    },
    {
      "cell_type": "code",
      "execution_count": null,
      "id": "a780070c-5999-4dbd-af88-04d89d6fb8a5",
      "metadata": {
        "colab": {
          "base_uri": "https://localhost:8080/"
        },
        "id": "a780070c-5999-4dbd-af88-04d89d6fb8a5",
        "outputId": "4dca7c5e-26ce-4823-a15a-bdc2c544fa10"
      },
      "outputs": [
        {
          "output_type": "stream",
          "name": "stdout",
          "text": [
            "136069237047600 136069237047600\n"
          ]
        }
      ],
      "source": [
        "print(id(my_list_1[2]), id(my_list_2[2]))"
      ]
    },
    {
      "cell_type": "code",
      "execution_count": null,
      "id": "a04ac9e9-97af-4eab-ab7b-da441cebda73",
      "metadata": {
        "colab": {
          "base_uri": "https://localhost:8080/"
        },
        "id": "a04ac9e9-97af-4eab-ab7b-da441cebda73",
        "outputId": "a76afb22-d494-4ca7-e0eb-dd0d84bb6fbd"
      },
      "outputs": [
        {
          "output_type": "execute_result",
          "data": {
            "text/plain": [
              "[1, 2, 3, 4]"
            ]
          },
          "metadata": {},
          "execution_count": 84
        }
      ],
      "source": [
        "my_list_2[1] = 20\n",
        "my_list_1"
      ]
    },
    {
      "cell_type": "code",
      "execution_count": null,
      "id": "7f11345f-7c82-4ed0-b71a-7265daee5c4f",
      "metadata": {
        "colab": {
          "base_uri": "https://localhost:8080/"
        },
        "id": "7f11345f-7c82-4ed0-b71a-7265daee5c4f",
        "outputId": "4ea83733-ee2c-4352-c974-892cb442a053"
      },
      "outputs": [
        {
          "output_type": "execute_result",
          "data": {
            "text/plain": [
              "[1, 20, 3, 4]"
            ]
          },
          "metadata": {},
          "execution_count": 85
        }
      ],
      "source": [
        "my_list_2"
      ]
    },
    {
      "cell_type": "code",
      "execution_count": null,
      "id": "53aeb3d0-9491-4954-96a4-4d487969e51e",
      "metadata": {
        "colab": {
          "base_uri": "https://localhost:8080/"
        },
        "id": "53aeb3d0-9491-4954-96a4-4d487969e51e",
        "outputId": "08cfbdf9-7180-40fa-bbd5-89067efaba09"
      },
      "outputs": [
        {
          "output_type": "stream",
          "name": "stdout",
          "text": [
            "136069237047568 136069237048144\n"
          ]
        }
      ],
      "source": [
        "print(id(my_list_1[1]), id(my_list_2[1]))"
      ]
    },
    {
      "cell_type": "code",
      "execution_count": null,
      "id": "f49e8538-63ef-4aca-a683-36a9a631932e",
      "metadata": {
        "id": "f49e8538-63ef-4aca-a683-36a9a631932e"
      },
      "outputs": [],
      "source": [
        "my_list_2.append(30)"
      ]
    },
    {
      "cell_type": "code",
      "execution_count": null,
      "id": "b00a97a8-4092-485b-b9d8-248e31aa8e17",
      "metadata": {
        "colab": {
          "base_uri": "https://localhost:8080/"
        },
        "id": "b00a97a8-4092-485b-b9d8-248e31aa8e17",
        "outputId": "de08ea32-ee43-44f8-f2b3-633cc89bcabb"
      },
      "outputs": [
        {
          "output_type": "execute_result",
          "data": {
            "text/plain": [
              "[1, 20, 3, 4, 30]"
            ]
          },
          "metadata": {},
          "execution_count": 88
        }
      ],
      "source": [
        "my_list_2"
      ]
    },
    {
      "cell_type": "code",
      "execution_count": null,
      "id": "b9011d42-b3d8-45aa-b660-163476d55531",
      "metadata": {
        "colab": {
          "base_uri": "https://localhost:8080/"
        },
        "id": "b9011d42-b3d8-45aa-b660-163476d55531",
        "outputId": "a22b9e9e-9f32-4f80-f081-f5897877a657"
      },
      "outputs": [
        {
          "output_type": "execute_result",
          "data": {
            "text/plain": [
              "[1, 2, 3, 4]"
            ]
          },
          "metadata": {},
          "execution_count": 89
        }
      ],
      "source": [
        "my_list_1"
      ]
    },
    {
      "cell_type": "code",
      "execution_count": null,
      "id": "27f734fa-18af-450e-8d5f-e7abb0fb490c",
      "metadata": {
        "id": "27f734fa-18af-450e-8d5f-e7abb0fb490c"
      },
      "outputs": [],
      "source": [
        "my_list_1.append(40)"
      ]
    },
    {
      "cell_type": "code",
      "execution_count": null,
      "id": "8170000e-5522-498c-a01f-a0d59d6558a4",
      "metadata": {
        "colab": {
          "base_uri": "https://localhost:8080/"
        },
        "id": "8170000e-5522-498c-a01f-a0d59d6558a4",
        "outputId": "ba3f8e5f-332b-49c8-d6bc-b1a246cd0cd9"
      },
      "outputs": [
        {
          "output_type": "execute_result",
          "data": {
            "text/plain": [
              "[1, 2, 3, 4, 40]"
            ]
          },
          "metadata": {},
          "execution_count": 91
        }
      ],
      "source": [
        "my_list_1"
      ]
    },
    {
      "cell_type": "code",
      "execution_count": null,
      "id": "5736ca40-d9e9-4f48-919f-596d59267b83",
      "metadata": {
        "colab": {
          "base_uri": "https://localhost:8080/"
        },
        "id": "5736ca40-d9e9-4f48-919f-596d59267b83",
        "outputId": "736a1f18-c1bf-42fe-a59f-aa6148089bef"
      },
      "outputs": [
        {
          "output_type": "execute_result",
          "data": {
            "text/plain": [
              "[1, 20, 3, 4, 30]"
            ]
          },
          "metadata": {},
          "execution_count": 92
        }
      ],
      "source": [
        "my_list_2"
      ]
    },
    {
      "cell_type": "markdown",
      "source": [
        "10. Range Function with step\n"
      ],
      "metadata": {
        "id": "aZqJnRXZsSER"
      },
      "id": "aZqJnRXZsSER"
    },
    {
      "cell_type": "code",
      "execution_count": null,
      "id": "53a5181f-8124-4f93-85d0-16c7da658dca",
      "metadata": {
        "colab": {
          "base_uri": "https://localhost:8080/"
        },
        "id": "53a5181f-8124-4f93-85d0-16c7da658dca",
        "outputId": "7a788eb3-7ead-4e73-81ea-723391996aff"
      },
      "outputs": [
        {
          "output_type": "stream",
          "name": "stdout",
          "text": [
            "1\n",
            "3\n",
            "5\n",
            "7\n",
            "9\n"
          ]
        }
      ],
      "source": [
        "for i in range(1,10,2):\n",
        "    print(i)"
      ]
    },
    {
      "cell_type": "markdown",
      "source": [
        "11. Iterator"
      ],
      "metadata": {
        "id": "2G1CYGAtsYJz"
      },
      "id": "2G1CYGAtsYJz"
    },
    {
      "cell_type": "code",
      "execution_count": null,
      "id": "bc717046-57da-49fe-8154-59ee7aa17474",
      "metadata": {
        "colab": {
          "base_uri": "https://localhost:8080/"
        },
        "id": "bc717046-57da-49fe-8154-59ee7aa17474",
        "outputId": "83dba05f-7e14-4b29-b126-69559391ff2f"
      },
      "outputs": [
        {
          "output_type": "execute_result",
          "data": {
            "text/plain": [
              "8"
            ]
          },
          "metadata": {},
          "execution_count": 152
        }
      ],
      "source": [
        "def fib(num):\n",
        "    x,y=0,1\n",
        "    while(x<num):\n",
        "        yield x\n",
        "        x,y=y,x+y\n",
        "f=fib(10)\n",
        "f.__next__()\n",
        "f.__next__()\n",
        "f.__next__()\n",
        "f.__next__()\n",
        "f.__next__()\n",
        "f.__next__()\n",
        "f.__next__()"
      ]
    },
    {
      "cell_type": "code",
      "execution_count": null,
      "id": "5ceee335-0ef9-43bd-addd-24b09d71966a",
      "metadata": {
        "colab": {
          "base_uri": "https://localhost:8080/"
        },
        "id": "5ceee335-0ef9-43bd-addd-24b09d71966a",
        "outputId": "ac2c4f60-4acd-43f4-fa09-15af8a87dc2a"
      },
      "outputs": [
        {
          "output_type": "stream",
          "name": "stdout",
          "text": [
            "0\n",
            "1\n",
            "1\n",
            "2\n",
            "3\n",
            "5\n",
            "8\n"
          ]
        }
      ],
      "source": [
        "for i in fib(10):\n",
        "    print(i)\n"
      ]
    },
    {
      "cell_type": "code",
      "execution_count": null,
      "id": "6bffd483-f1ad-437a-8a29-d0c2a4a66f0f",
      "metadata": {
        "colab": {
          "base_uri": "https://localhost:8080/"
        },
        "id": "6bffd483-f1ad-437a-8a29-d0c2a4a66f0f",
        "outputId": "449c8f91-d1d9-41ef-ce03-ef0b3d49a5d2"
      },
      "outputs": [
        {
          "output_type": "stream",
          "name": "stdout",
          "text": [
            "1\n",
            "2\n"
          ]
        }
      ],
      "source": [
        "class ArrayList:\n",
        "   def __init__(self, number_list):\n",
        "       self.numbers = number_list\n",
        "   def __iter__(self):\n",
        "       self.pos = 0\n",
        "       return self\n",
        "   def __next__(self):\n",
        "       if(self.pos < len(self.numbers)):\n",
        "           self.pos += 1\n",
        "           return self.numbers[self.pos - 1]\n",
        "       else:\n",
        "           raise StopIteration\n",
        "array_obj = ArrayList([1, 2, 3])\n",
        "it = iter(array_obj)\n",
        "print(next(it))\n",
        "print(next(it))\n"
      ]
    },
    {
      "cell_type": "markdown",
      "source": [
        "12. Class and Objects\n"
      ],
      "metadata": {
        "id": "-uziT2SospA_"
      },
      "id": "-uziT2SospA_"
    },
    {
      "cell_type": "code",
      "execution_count": null,
      "id": "4c3393b7-319e-4d3f-bf77-14db72ba6785",
      "metadata": {
        "colab": {
          "base_uri": "https://localhost:8080/"
        },
        "id": "4c3393b7-319e-4d3f-bf77-14db72ba6785",
        "outputId": "50b662ea-8dc0-463a-97df-a68eed481ce8"
      },
      "outputs": [
        {
          "output_type": "stream",
          "name": "stdout",
          "text": [
            "Rupali\n"
          ]
        }
      ],
      "source": [
        "class firstClass:\n",
        "    def __init__(self, emp_name):\n",
        "        self.empName = emp_name\n",
        "    def getEmp(self):\n",
        "        return self.empName\n",
        "\n",
        "emp = firstClass(\"Rupali\")\n",
        "print(emp.getEmp())\n"
      ]
    },
    {
      "cell_type": "code",
      "execution_count": null,
      "id": "ecb5851b-dc91-46be-bd11-d75aee920514",
      "metadata": {
        "colab": {
          "base_uri": "https://localhost:8080/"
        },
        "id": "ecb5851b-dc91-46be-bd11-d75aee920514",
        "outputId": "7222a9f8-d469-4bcb-c625-f85f92043579"
      },
      "outputs": [
        {
          "output_type": "execute_result",
          "data": {
            "text/plain": [
              "True"
            ]
          },
          "metadata": {},
          "execution_count": 98
        }
      ],
      "source": [
        "\"abdc1321\".isalnum()"
      ]
    },
    {
      "cell_type": "markdown",
      "source": [
        "13. Args and Kwargs"
      ],
      "metadata": {
        "id": "jrE8mbzEszUq"
      },
      "id": "jrE8mbzEszUq"
    },
    {
      "cell_type": "code",
      "execution_count": null,
      "id": "8db0f796-da22-451d-8c1e-e562ad205044",
      "metadata": {
        "colab": {
          "base_uri": "https://localhost:8080/"
        },
        "id": "8db0f796-da22-451d-8c1e-e562ad205044",
        "outputId": "f6383cf7-001f-4a2e-eaa4-dc6069cbf9fb"
      },
      "outputs": [
        {
          "output_type": "stream",
          "name": "stdout",
          "text": [
            "Name: Rupali\n",
            "1\n",
            "======\n",
            "2\n",
            "3\n",
            "4\n"
          ]
        }
      ],
      "source": [
        "def func(name, b, *args):\n",
        "    my_name = name\n",
        "    print(\"Name:\", my_name)\n",
        "    print(b)\n",
        "    print(\"======\")\n",
        "    for i in args:\n",
        "        print(i)\n",
        "\n",
        "func(\"Rupali\",1,2,3,4)"
      ]
    },
    {
      "cell_type": "code",
      "execution_count": null,
      "id": "8601cc4a-f464-4688-aa79-dc585abf7973",
      "metadata": {
        "colab": {
          "base_uri": "https://localhost:8080/"
        },
        "id": "8601cc4a-f464-4688-aa79-dc585abf7973",
        "outputId": "2ddf427c-fa0f-4588-92d9-a9eaf76c47d6"
      },
      "outputs": [
        {
          "output_type": "stream",
          "name": "stdout",
          "text": [
            "Name: Rupali\n",
            "1\n",
            "======\n",
            "2\n",
            "3\n",
            "4\n",
            "var1 Lucknow\n",
            "var2 Delhi\n"
          ]
        }
      ],
      "source": [
        "def func(name, b, *args, **kargs):\n",
        "    my_name = name\n",
        "    print(\"Name:\", my_name)\n",
        "    print(b)\n",
        "    print(\"======\")\n",
        "    for i in args:\n",
        "        print(i)\n",
        "    for x,y in kargs.items():\n",
        "        print(x,y)\n",
        "\n",
        "func(\"Rupali\",1,2,3,4, var1=\"Lucknow\", var2=\"Delhi\")"
      ]
    },
    {
      "cell_type": "markdown",
      "source": [
        "14. Hints"
      ],
      "metadata": {
        "id": "DJBBfDvfs9JA"
      },
      "id": "DJBBfDvfs9JA"
    },
    {
      "cell_type": "code",
      "execution_count": null,
      "id": "a0a78f73-2be9-4e34-9ddf-30c74b29c3a5",
      "metadata": {
        "colab": {
          "base_uri": "https://localhost:8080/",
          "height": 349
        },
        "id": "a0a78f73-2be9-4e34-9ddf-30c74b29c3a5",
        "outputId": "8f1dc88c-bc80-411c-b39e-47ca626f898d"
      },
      "outputs": [
        {
          "output_type": "stream",
          "name": "stdout",
          "text": [
            "[1, 3, 7, 9, 3, 10, 4, 7]\n"
          ]
        },
        {
          "output_type": "error",
          "ename": "TypeError",
          "evalue": "'set' object is not callable",
          "traceback": [
            "\u001b[0;31m---------------------------------------------------------------------------\u001b[0m",
            "\u001b[0;31mTypeError\u001b[0m                                 Traceback (most recent call last)",
            "\u001b[0;32m<ipython-input-159-d4849f5b9f53>\u001b[0m in \u001b[0;36m<cell line: 10>\u001b[0;34m()\u001b[0m\n\u001b[1;32m      8\u001b[0m   \u001b[0;32melse\u001b[0m\u001b[0;34m:\u001b[0m \u001b[0;32mFalse\u001b[0m\u001b[0;34m\u001b[0m\u001b[0;34m\u001b[0m\u001b[0m\n\u001b[1;32m      9\u001b[0m \u001b[0;34m\u001b[0m\u001b[0m\n\u001b[0;32m---> 10\u001b[0;31m \u001b[0;32mif\u001b[0m \u001b[0mfunc_unique\u001b[0m\u001b[0;34m(\u001b[0m\u001b[0;34m[\u001b[0m\u001b[0;36m1\u001b[0m\u001b[0;34m,\u001b[0m\u001b[0;36m3\u001b[0m\u001b[0;34m,\u001b[0m\u001b[0;36m7\u001b[0m\u001b[0;34m,\u001b[0m\u001b[0;36m9\u001b[0m\u001b[0;34m,\u001b[0m\u001b[0;36m3\u001b[0m\u001b[0;34m,\u001b[0m\u001b[0;36m10\u001b[0m\u001b[0;34m,\u001b[0m\u001b[0;36m4\u001b[0m\u001b[0;34m,\u001b[0m\u001b[0;36m7\u001b[0m\u001b[0;34m]\u001b[0m\u001b[0;34m)\u001b[0m\u001b[0;34m:\u001b[0m\u001b[0;34m\u001b[0m\u001b[0;34m\u001b[0m\u001b[0m\n\u001b[0m\u001b[1;32m     11\u001b[0m     \u001b[0mprint\u001b[0m\u001b[0;34m(\u001b[0m\u001b[0;34m\"Unique\"\u001b[0m\u001b[0;34m)\u001b[0m\u001b[0;34m\u001b[0m\u001b[0;34m\u001b[0m\u001b[0m\n\u001b[1;32m     12\u001b[0m \u001b[0;32melse\u001b[0m\u001b[0;34m:\u001b[0m \u001b[0mprint\u001b[0m\u001b[0;34m(\u001b[0m\u001b[0;34m\"Not Unique\"\u001b[0m\u001b[0;34m)\u001b[0m\u001b[0;34m\u001b[0m\u001b[0;34m\u001b[0m\u001b[0m\n",
            "\u001b[0;32m<ipython-input-159-d4849f5b9f53>\u001b[0m in \u001b[0;36mfunc_unique\u001b[0;34m(list1)\u001b[0m\n\u001b[1;32m      3\u001b[0m   \u001b[0mlen_list\u001b[0m\u001b[0;34m=\u001b[0m\u001b[0mlen\u001b[0m\u001b[0;34m(\u001b[0m\u001b[0mlist1\u001b[0m\u001b[0;34m)\u001b[0m\u001b[0;34m\u001b[0m\u001b[0;34m\u001b[0m\u001b[0m\n\u001b[1;32m      4\u001b[0m   \u001b[0;31m#set_1=set(list1)\u001b[0m\u001b[0;34m\u001b[0m\u001b[0;34m\u001b[0m\u001b[0m\n\u001b[0;32m----> 5\u001b[0;31m   \u001b[0mlen_set\u001b[0m\u001b[0;34m=\u001b[0m\u001b[0mlen\u001b[0m\u001b[0;34m(\u001b[0m\u001b[0mset\u001b[0m\u001b[0;34m(\u001b[0m\u001b[0mlist1\u001b[0m\u001b[0;34m)\u001b[0m\u001b[0;34m)\u001b[0m\u001b[0;34m\u001b[0m\u001b[0;34m\u001b[0m\u001b[0m\n\u001b[0m\u001b[1;32m      6\u001b[0m   \u001b[0;32mif\u001b[0m \u001b[0mlen_list\u001b[0m\u001b[0;34m==\u001b[0m\u001b[0mlen\u001b[0m\u001b[0;34m(\u001b[0m\u001b[0mset\u001b[0m\u001b[0;34m(\u001b[0m\u001b[0mlist1\u001b[0m\u001b[0;34m)\u001b[0m\u001b[0;34m)\u001b[0m\u001b[0;34m:\u001b[0m\u001b[0;34m\u001b[0m\u001b[0;34m\u001b[0m\u001b[0m\n\u001b[1;32m      7\u001b[0m     \u001b[0;32mreturn\u001b[0m \u001b[0;32mTrue\u001b[0m\u001b[0;34m\u001b[0m\u001b[0;34m\u001b[0m\u001b[0m\n",
            "\u001b[0;31mTypeError\u001b[0m: 'set' object is not callable"
          ]
        }
      ],
      "source": [
        "def func_unique(list1: list) -> bool:\n",
        "  print(list1)\n",
        "  len_list=len(list1)\n",
        "  #set_1=set(list1)\n",
        "  len_set=len(set(list1))\n",
        "  if len_list==len(set(list1)):\n",
        "    return True\n",
        "  else: False\n",
        "\n",
        "if func_unique([1,3,7,9,3,10,4,7]):\n",
        "    print(\"Unique\")\n",
        "else: print(\"Not Unique\")"
      ]
    },
    {
      "cell_type": "markdown",
      "source": [
        "15. Function"
      ],
      "metadata": {
        "id": "Tz3B-CXItHAt"
      },
      "id": "Tz3B-CXItHAt"
    },
    {
      "cell_type": "code",
      "execution_count": null,
      "id": "ce35fb0a-4690-45a1-8aa5-66b530515ace",
      "metadata": {
        "colab": {
          "base_uri": "https://localhost:8080/",
          "height": 297
        },
        "id": "ce35fb0a-4690-45a1-8aa5-66b530515ace",
        "outputId": "8adbc5fc-c30d-4ff6-f13f-dc538b042fa0"
      },
      "outputs": [
        {
          "output_type": "error",
          "ename": "TypeError",
          "evalue": "'set' object is not callable",
          "traceback": [
            "\u001b[0;31m---------------------------------------------------------------------------\u001b[0m",
            "\u001b[0;31mTypeError\u001b[0m                                 Traceback (most recent call last)",
            "\u001b[0;32m<ipython-input-160-2bb3e2180ec2>\u001b[0m in \u001b[0;36m<cell line: 14>\u001b[0;34m()\u001b[0m\n\u001b[1;32m     12\u001b[0m \u001b[0marr\u001b[0m \u001b[0;34m=\u001b[0m \u001b[0;34m[\u001b[0m\u001b[0;36m1\u001b[0m\u001b[0;34m,\u001b[0m \u001b[0;36m2\u001b[0m\u001b[0;34m,\u001b[0m \u001b[0;36m40\u001b[0m\u001b[0;34m,\u001b[0m \u001b[0;36m3\u001b[0m\u001b[0;34m,\u001b[0m \u001b[0;36m9\u001b[0m\u001b[0;34m,\u001b[0m \u001b[0;36m4\u001b[0m\u001b[0;34m]\u001b[0m\u001b[0;34m\u001b[0m\u001b[0;34m\u001b[0m\u001b[0m\n\u001b[1;32m     13\u001b[0m \u001b[0mN\u001b[0m \u001b[0;34m=\u001b[0m \u001b[0;36m3\u001b[0m\u001b[0;34m\u001b[0m\u001b[0;34m\u001b[0m\u001b[0m\n\u001b[0;32m---> 14\u001b[0;31m \u001b[0mprint_pairs\u001b[0m\u001b[0;34m(\u001b[0m\u001b[0marr\u001b[0m\u001b[0;34m,\u001b[0m \u001b[0mN\u001b[0m\u001b[0;34m)\u001b[0m\u001b[0;34m\u001b[0m\u001b[0;34m\u001b[0m\u001b[0m\n\u001b[0m",
            "\u001b[0;32m<ipython-input-160-2bb3e2180ec2>\u001b[0m in \u001b[0;36mprint_pairs\u001b[0;34m(arr, N)\u001b[0m\n\u001b[1;32m      1\u001b[0m \u001b[0;32mdef\u001b[0m \u001b[0mprint_pairs\u001b[0m\u001b[0;34m(\u001b[0m\u001b[0marr\u001b[0m\u001b[0;34m,\u001b[0m \u001b[0mN\u001b[0m\u001b[0;34m)\u001b[0m\u001b[0;34m:\u001b[0m\u001b[0;34m\u001b[0m\u001b[0;34m\u001b[0m\u001b[0m\n\u001b[1;32m      2\u001b[0m    \u001b[0;31m# hash set\u001b[0m\u001b[0;34m\u001b[0m\u001b[0;34m\u001b[0m\u001b[0m\n\u001b[0;32m----> 3\u001b[0;31m    \u001b[0mhash_set\u001b[0m \u001b[0;34m=\u001b[0m \u001b[0mset\u001b[0m\u001b[0;34m(\u001b[0m\u001b[0;34m)\u001b[0m\u001b[0;34m\u001b[0m\u001b[0;34m\u001b[0m\u001b[0m\n\u001b[0m\u001b[1;32m      4\u001b[0m \u001b[0;34m\u001b[0m\u001b[0m\n\u001b[1;32m      5\u001b[0m    \u001b[0;32mfor\u001b[0m \u001b[0mi\u001b[0m \u001b[0;32min\u001b[0m \u001b[0mrange\u001b[0m\u001b[0;34m(\u001b[0m\u001b[0;36m0\u001b[0m\u001b[0;34m,\u001b[0m \u001b[0mlen\u001b[0m\u001b[0;34m(\u001b[0m\u001b[0marr\u001b[0m\u001b[0;34m)\u001b[0m\u001b[0;34m)\u001b[0m\u001b[0;34m:\u001b[0m\u001b[0;34m\u001b[0m\u001b[0;34m\u001b[0m\u001b[0m\n",
            "\u001b[0;31mTypeError\u001b[0m: 'set' object is not callable"
          ]
        }
      ],
      "source": [
        "def print_pairs(arr, N):\n",
        "   # hash set\n",
        "   hash_set = set()\n",
        "\n",
        "   for i in range(0, len(arr)):\n",
        "       val = N-arr[i]\n",
        "       if (val in hash_set):    #check if N-x is there in set, print the pair\n",
        "           print(\"Pairs :\" + str(arr[i]) + \", \" + str(val))\n",
        "       hash_set.add(arr[i])\n",
        "\n",
        "# driver code\n",
        "arr = [1, 2, 40, 3, 9, 4]\n",
        "N = 3\n",
        "print_pairs(arr, N)"
      ]
    },
    {
      "cell_type": "markdown",
      "source": [
        "16. Dictionary Methods"
      ],
      "metadata": {
        "id": "N32reIYztRyb"
      },
      "id": "N32reIYztRyb"
    },
    {
      "cell_type": "code",
      "execution_count": null,
      "id": "50bc20a1-4728-4cee-9c4d-bd4b0bb13197",
      "metadata": {
        "colab": {
          "base_uri": "https://localhost:8080/"
        },
        "id": "50bc20a1-4728-4cee-9c4d-bd4b0bb13197",
        "outputId": "b9d36678-b03b-490c-80f2-5a9777d506f7"
      },
      "outputs": [
        {
          "output_type": "stream",
          "name": "stdout",
          "text": [
            "None\n",
            "{'key1': 200, 'key2': 50, 'key3': 200, 'key4': 300}\n"
          ]
        }
      ],
      "source": [
        "d1 = {'key1': 50, 'key2': 100, 'key3':200}\n",
        "d2 = {'key1': 200, 'key2': 50, 'key4':300}\n",
        "\n",
        "#print({**d1, **d2})\n",
        "#print(d1|d2)\n",
        "print(d1.update(d2))\n",
        "print(d1)"
      ]
    },
    {
      "cell_type": "code",
      "execution_count": null,
      "id": "12b68800-6115-482e-b6a0-7560417c5ed7",
      "metadata": {
        "colab": {
          "base_uri": "https://localhost:8080/"
        },
        "id": "12b68800-6115-482e-b6a0-7560417c5ed7",
        "outputId": "9476559d-9d46-49f6-dace-8b2e3e6d9874"
      },
      "outputs": [
        {
          "output_type": "execute_result",
          "data": {
            "text/plain": [
              "['key3']"
            ]
          },
          "metadata": {},
          "execution_count": 163
        }
      ],
      "source": [
        "d1 = {'key1': 50, 'key2': 100, 'key3':200}\n",
        "d2 = {'key1': 200, 'key2': 50, 'key4':300}\n",
        "d_final=[]\n",
        "for key in d1.keys():\n",
        "    if key not in d2.keys():\n",
        "        d_final.append(key)\n",
        "\n",
        "d_final\n"
      ]
    },
    {
      "cell_type": "markdown",
      "source": [
        "16. Object Oriented Programming"
      ],
      "metadata": {
        "id": "-ibAMwxutmUV"
      },
      "id": "-ibAMwxutmUV"
    },
    {
      "cell_type": "code",
      "execution_count": null,
      "id": "7b173a8b-c721-4af9-bf1c-f2858927db11",
      "metadata": {
        "colab": {
          "base_uri": "https://localhost:8080/"
        },
        "id": "7b173a8b-c721-4af9-bf1c-f2858927db11",
        "outputId": "e2446cb9-240d-4feb-9fe1-5023b459bcfa"
      },
      "outputs": [
        {
          "output_type": "stream",
          "name": "stdout",
          "text": [
            "5 6\n"
          ]
        }
      ],
      "source": [
        "class X:\n",
        "    def __init__(self):\n",
        "        self.__num1 = 5\n",
        "        self.num2 = 2\n",
        "\n",
        "    def display_values(self):\n",
        "        print(self.__num1, self.num2)\n",
        "class Y(X):\n",
        "    def __init__(self):\n",
        "        super().__init__()\n",
        "        self.__num1 = 1\n",
        "        self.num2 = 6\n",
        "obj = Y()\n",
        "obj.display_values()"
      ]
    },
    {
      "cell_type": "code",
      "execution_count": null,
      "id": "e329031d-862b-45b6-8ebf-37eb1f4b897e",
      "metadata": {
        "colab": {
          "base_uri": "https://localhost:8080/"
        },
        "id": "e329031d-862b-45b6-8ebf-37eb1f4b897e",
        "outputId": "5f9714c8-fac6-422c-db9a-59d28f824319"
      },
      "outputs": [
        {
          "output_type": "execute_result",
          "data": {
            "text/plain": [
              "['English', 'German']"
            ]
          },
          "metadata": {},
          "execution_count": 167
        }
      ],
      "source": [
        "class Parent:\n",
        "    def __init__(self):\n",
        "        self.lang=[\"English\"]\n",
        "class Child(Parent):\n",
        "    def __init__(self):\n",
        "        super().__init__()\n",
        "        self.lang.append(\"German\")\n",
        "\n",
        "obj= Child()\n",
        "obj.lang"
      ]
    },
    {
      "cell_type": "code",
      "execution_count": null,
      "id": "e6acb2de-1086-4272-a088-df439b3d5582",
      "metadata": {
        "colab": {
          "base_uri": "https://localhost:8080/"
        },
        "id": "e6acb2de-1086-4272-a088-df439b3d5582",
        "outputId": "10df626d-a855-4b59-d3d7-6a560dc32523"
      },
      "outputs": [
        {
          "output_type": "execute_result",
          "data": {
            "text/plain": [
              "<__main__.Dog at 0x7bc0d7f12440>"
            ]
          },
          "metadata": {},
          "execution_count": 169
        }
      ],
      "source": [
        "# dog.py\n",
        "\n",
        "class Dog:\n",
        "    species = \"Canis familiaris\"\n",
        "\n",
        "    def __init__(self, name, age, breed):\n",
        "        self.name = name\n",
        "        self.age = age\n",
        "        self.breed = breed\n",
        "\n",
        "    def __str__(self):\n",
        "        return f\"{self.name} is {self.age} years old\"\n",
        "\n",
        "    def speak(self, sound):\n",
        "        return f\"{self.name} says {sound}\"\n",
        "\n",
        "miles = Dog(\"Miles\", 4, \"Jack Russell Terrier\")\n",
        "buddy = Dog(\"Buddy\", 9, \"Dachshund\")\n",
        "jack = Dog(\"Jack\", 3, \"Bulldog\")\n",
        "jim = Dog(\"Jim\", 5, \"Bulldog\")\n"
      ]
    },
    {
      "cell_type": "code",
      "execution_count": null,
      "id": "fed0a116-6730-4343-a7da-fa7b7491f733",
      "metadata": {
        "colab": {
          "base_uri": "https://localhost:8080/",
          "height": 35
        },
        "id": "fed0a116-6730-4343-a7da-fa7b7491f733",
        "outputId": "750bfac9-ffa1-4232-cba9-2d87a2279a36"
      },
      "outputs": [
        {
          "output_type": "execute_result",
          "data": {
            "text/plain": [
              "\"<class '__main__.Dog'>\""
            ],
            "application/vnd.google.colaboratory.intrinsic+json": {
              "type": "string"
            }
          },
          "metadata": {},
          "execution_count": 170
        }
      ],
      "source": [
        "repr(Dog)"
      ]
    },
    {
      "cell_type": "code",
      "execution_count": null,
      "id": "6e50ceb9-2d4e-4c56-866e-04b1fe139bb2",
      "metadata": {
        "colab": {
          "base_uri": "https://localhost:8080/"
        },
        "id": "6e50ceb9-2d4e-4c56-866e-04b1fe139bb2",
        "outputId": "7b3f5702-bd20-4309-ddd8-d24bc2c38a67"
      },
      "outputs": [
        {
          "output_type": "stream",
          "name": "stdout",
          "text": [
            "Miles is 4 years old\n"
          ]
        }
      ],
      "source": [
        "print(miles)"
      ]
    },
    {
      "cell_type": "code",
      "execution_count": null,
      "id": "f0d15d22-7dad-4b9a-a2a7-f463ad4def4c",
      "metadata": {
        "colab": {
          "base_uri": "https://localhost:8080/",
          "height": 35
        },
        "id": "f0d15d22-7dad-4b9a-a2a7-f463ad4def4c",
        "outputId": "c386d8a8-1020-49ce-c1fa-ec2a291c3140"
      },
      "outputs": [
        {
          "output_type": "execute_result",
          "data": {
            "text/plain": [
              "'Jack Russell Terrier'"
            ],
            "application/vnd.google.colaboratory.intrinsic+json": {
              "type": "string"
            }
          },
          "metadata": {},
          "execution_count": 173
        }
      ],
      "source": [
        "miles.breed"
      ]
    },
    {
      "cell_type": "code",
      "execution_count": null,
      "id": "4f7fe647-7834-4acc-8bbc-81ff6ac037bf",
      "metadata": {
        "colab": {
          "base_uri": "https://localhost:8080/",
          "height": 35
        },
        "id": "4f7fe647-7834-4acc-8bbc-81ff6ac037bf",
        "outputId": "720e5ea4-bbbe-4088-c222-a1fed664c722"
      },
      "outputs": [
        {
          "output_type": "execute_result",
          "data": {
            "text/plain": [
              "'Miles says Woof offf'"
            ],
            "application/vnd.google.colaboratory.intrinsic+json": {
              "type": "string"
            }
          },
          "metadata": {},
          "execution_count": 172
        }
      ],
      "source": [
        "miles.speak(\"Woof offf\")"
      ]
    },
    {
      "cell_type": "code",
      "execution_count": null,
      "id": "0e07dac8-126d-4671-94c6-0dabb2173347",
      "metadata": {
        "colab": {
          "base_uri": "https://localhost:8080/",
          "height": 105
        },
        "id": "0e07dac8-126d-4671-94c6-0dabb2173347",
        "outputId": "3c707cfc-091d-4d44-d7c4-587ba5d481ef"
      },
      "outputs": [
        {
          "output_type": "execute_result",
          "data": {
            "text/plain": [
              "__main__.Dog"
            ],
            "text/html": [
              "<div style=\"max-width:800px; border: 1px solid var(--colab-border-color);\"><style>\n",
              "      pre.function-repr-contents {\n",
              "        overflow-x: auto;\n",
              "        padding: 8px 12px;\n",
              "        max-height: 500px;\n",
              "      }\n",
              "\n",
              "      pre.function-repr-contents.function-repr-contents-collapsed {\n",
              "        cursor: pointer;\n",
              "        max-height: 100px;\n",
              "      }\n",
              "    </style>\n",
              "    <pre style=\"white-space: initial; background:\n",
              "         var(--colab-secondary-surface-color); padding: 8px 12px;\n",
              "         border-bottom: 1px solid var(--colab-border-color);\"><b>Dog</b><br/>def __init__(name, age, breed)</pre><pre class=\"function-repr-contents function-repr-contents-collapsed\" style=\"\"><a class=\"filepath\" style=\"display:none\" href=\"#\"></a>&lt;no docstring&gt;</pre></div>"
            ]
          },
          "metadata": {},
          "execution_count": 175
        }
      ],
      "source": [
        "type(miles)"
      ]
    },
    {
      "cell_type": "code",
      "execution_count": null,
      "id": "c535ae6d-6f6d-4d51-b3d2-d9a7ff2b3f94",
      "metadata": {
        "colab": {
          "base_uri": "https://localhost:8080/",
          "height": 105
        },
        "id": "c535ae6d-6f6d-4d51-b3d2-d9a7ff2b3f94",
        "outputId": "2d2764f2-4e39-4ba2-cddf-d8f641c1b875"
      },
      "outputs": [
        {
          "output_type": "execute_result",
          "data": {
            "text/plain": [
              "__main__.Dog"
            ],
            "text/html": [
              "<div style=\"max-width:800px; border: 1px solid var(--colab-border-color);\"><style>\n",
              "      pre.function-repr-contents {\n",
              "        overflow-x: auto;\n",
              "        padding: 8px 12px;\n",
              "        max-height: 500px;\n",
              "      }\n",
              "\n",
              "      pre.function-repr-contents.function-repr-contents-collapsed {\n",
              "        cursor: pointer;\n",
              "        max-height: 100px;\n",
              "      }\n",
              "    </style>\n",
              "    <pre style=\"white-space: initial; background:\n",
              "         var(--colab-secondary-surface-color); padding: 8px 12px;\n",
              "         border-bottom: 1px solid var(--colab-border-color);\"><b>Dog</b><br/>def __init__(name, age, breed)</pre><pre class=\"function-repr-contents function-repr-contents-collapsed\" style=\"\"><a class=\"filepath\" style=\"display:none\" href=\"#\"></a>&lt;no docstring&gt;</pre></div>"
            ]
          },
          "metadata": {},
          "execution_count": 174
        }
      ],
      "source": [
        "miles.__class__"
      ]
    },
    {
      "cell_type": "code",
      "execution_count": null,
      "id": "8e9a7a4f-5683-4fad-82c5-48c3b9bbc740",
      "metadata": {
        "colab": {
          "base_uri": "https://localhost:8080/"
        },
        "id": "8e9a7a4f-5683-4fad-82c5-48c3b9bbc740",
        "outputId": "2b870543-75e4-41dd-b994-adaf4e6f37da"
      },
      "outputs": [
        {
          "output_type": "execute_result",
          "data": {
            "text/plain": [
              "True"
            ]
          },
          "metadata": {},
          "execution_count": 176
        }
      ],
      "source": [
        "isinstance(miles, Dog)"
      ]
    },
    {
      "cell_type": "code",
      "execution_count": null,
      "id": "c1347bb5-3a89-45eb-b165-142bf6f7a5bf",
      "metadata": {
        "colab": {
          "base_uri": "https://localhost:8080/",
          "height": 35
        },
        "id": "c1347bb5-3a89-45eb-b165-142bf6f7a5bf",
        "outputId": "65702c2e-852a-461b-9b8d-128c972a8410"
      },
      "outputs": [
        {
          "output_type": "execute_result",
          "data": {
            "text/plain": [
              "'10'"
            ],
            "application/vnd.google.colaboratory.intrinsic+json": {
              "type": "string"
            }
          },
          "metadata": {},
          "execution_count": 177
        }
      ],
      "source": [
        "repr(10)"
      ]
    },
    {
      "cell_type": "markdown",
      "source": [
        "17. Decorators\n"
      ],
      "metadata": {
        "id": "OmLin9jktt-L"
      },
      "id": "OmLin9jktt-L"
    },
    {
      "cell_type": "code",
      "execution_count": null,
      "id": "52fdc412-32aa-47c7-bd62-22705eca66d3",
      "metadata": {
        "colab": {
          "base_uri": "https://localhost:8080/",
          "height": 104
        },
        "id": "52fdc412-32aa-47c7-bd62-22705eca66d3",
        "outputId": "5ef31a21-5b0e-4c83-ab77-42f6c47ef0d6"
      },
      "outputs": [
        {
          "output_type": "stream",
          "name": "stdout",
          "text": [
            "args_repr: [\"'Rupali'\"]\n",
            "kwargs_repr: ['age=34']\n",
            "Calling make_greeting('Rupali', age=34)\n",
            "make_greeting() returned \"Whoa Rupali! 34 already, you're growing up!\"\n"
          ]
        },
        {
          "output_type": "execute_result",
          "data": {
            "text/plain": [
              "\"Whoa Rupali! 34 already, you're growing up!\""
            ],
            "application/vnd.google.colaboratory.intrinsic+json": {
              "type": "string"
            }
          },
          "metadata": {},
          "execution_count": 182
        }
      ],
      "source": [
        "import functools\n",
        "def debug(func):\n",
        "    \"\"\"Print the function signature and return value\"\"\"\n",
        "    @functools.wraps(func)\n",
        "    def wrapper_debug(*args, **kwargs):\n",
        "        args_repr = [repr(a) for a in args]\n",
        "        print(\"args_repr:\", args_repr)\n",
        "        kwargs_repr = [f\"{k}={repr(v)}\" for k, v in kwargs.items()]\n",
        "        print(\"kwargs_repr:\", kwargs_repr)\n",
        "        signature = \", \".join(args_repr + kwargs_repr)\n",
        "        print(f\"Calling {func.__name__}({signature})\")\n",
        "        value = func(*args, **kwargs)\n",
        "        print(f\"{func.__name__}() returned {repr(value)}\")\n",
        "        return value\n",
        "    return wrapper_debug\n",
        "\n",
        "@debug\n",
        "def make_greeting(name, age=None):\n",
        "    if age is None:\n",
        "        return f\"Howdy{name}!\"\n",
        "    else:\n",
        "        return f\"Whoa {name}! {age} already, you're growing up!\"\n",
        "\n",
        "make_greeting(\"Rupali\", age=34)\n"
      ]
    },
    {
      "cell_type": "code",
      "execution_count": 1,
      "id": "ad047a66-ae6e-4ea7-8e02-70f47e149ed4",
      "metadata": {
        "colab": {
          "base_uri": "https://localhost:8080/"
        },
        "id": "ad047a66-ae6e-4ea7-8e02-70f47e149ed4",
        "outputId": "22a7f60b-3a8b-4ae3-94cd-c3425a016c13"
      },
      "outputs": [
        {
          "output_type": "stream",
          "name": "stdout",
          "text": [
            "1\n",
            "2\n",
            "3\n",
            "4\n",
            "5\n",
            "6\n",
            "7\n",
            "8\n",
            "9\n",
            "10\n"
          ]
        }
      ],
      "source": [
        "def generator(n):\n",
        "    while n <= 10:\n",
        "        yield n\n",
        "        n +=1\n",
        "\n",
        "num=generator(1)\n",
        "#next(num)\n",
        "#num.__next__()\n",
        "for i in num:\n",
        "  print(i)"
      ]
    },
    {
      "cell_type": "code",
      "execution_count": null,
      "id": "d92bf03e-7a45-4bc9-8d10-ad14a99c1197",
      "metadata": {
        "colab": {
          "base_uri": "https://localhost:8080/"
        },
        "id": "d92bf03e-7a45-4bc9-8d10-ad14a99c1197",
        "outputId": "f0bd8c69-5055-42d5-b8b5-26e2376c4896"
      },
      "outputs": [
        {
          "output_type": "stream",
          "name": "stdout",
          "text": [
            "Rupali\n",
            "Bangalore\n",
            "Bangalore India\n"
          ]
        }
      ],
      "source": [
        "class Employee:\n",
        "    def __init__(self, name, id, location):\n",
        "        self.name=name\n",
        "        self.id=id\n",
        "        self.location=location\n",
        "\n",
        "    def city_update(self, country):\n",
        "        self.location = self.location+ \" \"+country\n",
        "\n",
        "emp1=Employee(\"Rupali\", 123, \"Bangalore\")\n",
        "print(emp1.name)\n",
        "print(emp1.location)\n",
        "\n",
        "emp1.city_update(\"India\")\n",
        "print(emp1.location)\n"
      ]
    },
    {
      "cell_type": "code",
      "execution_count": null,
      "id": "7162ac5d-d18a-423e-a9d1-a26e8359415f",
      "metadata": {
        "colab": {
          "base_uri": "https://localhost:8080/"
        },
        "id": "7162ac5d-d18a-423e-a9d1-a26e8359415f",
        "outputId": "a2339b06-42a6-412e-b64a-e9e3461805ff"
      },
      "outputs": [
        {
          "output_type": "execute_result",
          "data": {
            "text/plain": [
              "[dict_keys(['A', 'B']), dict_keys(['C', 'B']), dict_keys(['A', 'D'])]"
            ]
          },
          "metadata": {},
          "execution_count": 199
        }
      ],
      "source": [
        "dataset = [{\"A\": \"Apple\", \"B\": \"Banana\"}, {\"C\": \"Cider\", \"B\": \"Guava\"}, {\"A\": \"Angoor\", \"D\": \"Dates\"}]\n",
        "keys = set().union(*[row.keys() for row in dataset])\n",
        "keys"
      ]
    },
    {
      "cell_type": "code",
      "execution_count": null,
      "id": "4cb3c7ac-3ebe-4afe-94e6-d4980b06e863",
      "metadata": {
        "colab": {
          "base_uri": "https://localhost:8080/",
          "height": 35
        },
        "id": "4cb3c7ac-3ebe-4afe-94e6-d4980b06e863",
        "outputId": "16277514-798c-4403-ef54-ec3aa2d40df4"
      },
      "outputs": [
        {
          "output_type": "execute_result",
          "data": {
            "text/plain": [
              "'1_2_3_4'"
            ],
            "application/vnd.google.colaboratory.intrinsic+json": {
              "type": "string"
            }
          },
          "metadata": {},
          "execution_count": 200
        }
      ],
      "source": [
        "a=[\"1\",\"2\",\"3\",\"4\"]\n",
        "b=\"_\".join(a)\n",
        "b"
      ]
    },
    {
      "cell_type": "code",
      "execution_count": null,
      "id": "945785ea-e83f-4d8a-b393-af8f6ab954fb",
      "metadata": {
        "colab": {
          "base_uri": "https://localhost:8080/"
        },
        "id": "945785ea-e83f-4d8a-b393-af8f6ab954fb",
        "outputId": "911b4da0-fb59-4b77-a702-6ad037e110b6"
      },
      "outputs": [
        {
          "output_type": "execute_result",
          "data": {
            "text/plain": [
              "True"
            ]
          },
          "metadata": {},
          "execution_count": 206
        }
      ],
      "source": [
        "x = ([2,4,6,8],)\n",
        "isinstance(x,tuple)"
      ]
    },
    {
      "cell_type": "code",
      "execution_count": null,
      "id": "bc0b4d6b-7049-4d28-9ad1-2f6c215a7e2f",
      "metadata": {
        "colab": {
          "base_uri": "https://localhost:8080/"
        },
        "id": "bc0b4d6b-7049-4d28-9ad1-2f6c215a7e2f",
        "outputId": "6d13dc71-4dc8-414c-9efa-a05ee9602cf7"
      },
      "outputs": [
        {
          "output_type": "execute_result",
          "data": {
            "text/plain": [
              "(1, 90)"
            ]
          },
          "metadata": {},
          "execution_count": 207
        }
      ],
      "source": [
        "def find_extreme(itr):\n",
        "    data = tuple(itr)\n",
        "    if len(data) == 0:\n",
        "        raise ValueError(\"input iterable must not be empty\")\n",
        "    return min(data), max(data)\n",
        "\n",
        "\n",
        "res = find_extreme([8,29,3,90,56,1,5])\n",
        "res"
      ]
    },
    {
      "cell_type": "code",
      "execution_count": null,
      "id": "c63e0038-4850-4b62-a2f1-18ff9b4185c7",
      "metadata": {
        "colab": {
          "base_uri": "https://localhost:8080/"
        },
        "id": "c63e0038-4850-4b62-a2f1-18ff9b4185c7",
        "outputId": "5d77b135-4c49-4351-9c66-2b5255ef6958"
      },
      "outputs": [
        {
          "output_type": "execute_result",
          "data": {
            "text/plain": [
              "[('banana', 0.25), ('orange', 0.35), ('apple', 0.4)]"
            ]
          },
          "metadata": {},
          "execution_count": 208
        }
      ],
      "source": [
        "fruits = ((\"apple\", 0.40), (\"banana\", 0.25), (\"orange\", 0.35))\n",
        "sorted(fruits, key=lambda fruit: fruit[1])"
      ]
    },
    {
      "cell_type": "code",
      "execution_count": null,
      "id": "9cef52c4-2f8f-4e50-afb1-f47d450ac360",
      "metadata": {
        "colab": {
          "base_uri": "https://localhost:8080/",
          "height": 176
        },
        "id": "9cef52c4-2f8f-4e50-afb1-f47d450ac360",
        "outputId": "88b56f67-e2b3-4ca3-be08-6ff75d790ffa"
      },
      "outputs": [
        {
          "output_type": "error",
          "ename": "TypeError",
          "evalue": "'list' object is not callable",
          "traceback": [
            "\u001b[0;31m---------------------------------------------------------------------------\u001b[0m",
            "\u001b[0;31mTypeError\u001b[0m                                 Traceback (most recent call last)",
            "\u001b[0;32m<ipython-input-210-ac86d0c89712>\u001b[0m in \u001b[0;36m<cell line: 2>\u001b[0;34m()\u001b[0m\n\u001b[1;32m      1\u001b[0m \u001b[0;32mfrom\u001b[0m \u001b[0mfunctools\u001b[0m \u001b[0;32mimport\u001b[0m \u001b[0mreduce\u001b[0m\u001b[0;34m\u001b[0m\u001b[0;34m\u001b[0m\u001b[0m\n\u001b[0;32m----> 2\u001b[0;31m \u001b[0mx\u001b[0m \u001b[0;34m=\u001b[0m \u001b[0mreduce\u001b[0m\u001b[0;34m(\u001b[0m\u001b[0;32mlambda\u001b[0m \u001b[0mx\u001b[0m\u001b[0;34m,\u001b[0m\u001b[0my\u001b[0m \u001b[0;34m:\u001b[0m \u001b[0;34m[\u001b[0m\u001b[0my\u001b[0m\u001b[0;34m]\u001b[0m\u001b[0;34m+\u001b[0m\u001b[0mx\u001b[0m\u001b[0;34m,\u001b[0m \u001b[0mlist\u001b[0m\u001b[0;34m(\u001b[0m\u001b[0mrange\u001b[0m\u001b[0;34m(\u001b[0m\u001b[0;36m5\u001b[0m\u001b[0;34m)\u001b[0m\u001b[0;34m)\u001b[0m\u001b[0;34m,\u001b[0m \u001b[0;34m[\u001b[0m\u001b[0;34m]\u001b[0m\u001b[0;34m)\u001b[0m\u001b[0;34m\u001b[0m\u001b[0;34m\u001b[0m\u001b[0m\n\u001b[0m\u001b[1;32m      3\u001b[0m \u001b[0mprint\u001b[0m\u001b[0;34m(\u001b[0m\u001b[0mx\u001b[0m\u001b[0;34m)\u001b[0m\u001b[0;34m\u001b[0m\u001b[0;34m\u001b[0m\u001b[0m\n",
            "\u001b[0;31mTypeError\u001b[0m: 'list' object is not callable"
          ]
        }
      ],
      "source": [
        "from functools import reduce\n",
        "x = reduce(lambda x,y : [y]+x, list(range(5)), [])\n",
        "print(x)"
      ]
    },
    {
      "cell_type": "code",
      "execution_count": null,
      "id": "eaa081cc-d1fc-47c8-aec0-a44d5d85aee9",
      "metadata": {
        "colab": {
          "base_uri": "https://localhost:8080/"
        },
        "id": "eaa081cc-d1fc-47c8-aec0-a44d5d85aee9",
        "outputId": "239e165b-26ae-4335-a8d0-c1ca81af8913"
      },
      "outputs": [
        {
          "output_type": "stream",
          "name": "stdout",
          "text": [
            "3.14\n"
          ]
        }
      ],
      "source": [
        "print(\"{n:.2f}\".format(n=3.142))"
      ]
    },
    {
      "cell_type": "code",
      "execution_count": null,
      "id": "5befc0ae-95aa-4830-840e-334656ad8840",
      "metadata": {
        "colab": {
          "base_uri": "https://localhost:8080/"
        },
        "id": "5befc0ae-95aa-4830-840e-334656ad8840",
        "outputId": "b3334fe5-0213-4269-a06a-c34f026c54e6"
      },
      "outputs": [
        {
          "output_type": "stream",
          "name": "stdout",
          "text": [
            " Cou P y n 65\n"
          ]
        }
      ],
      "source": [
        "t= 'P y'\n",
        "r =65\n",
        "print(F' Cou {t} n {r}')"
      ]
    },
    {
      "cell_type": "code",
      "execution_count": null,
      "id": "b490ccd2-f7d1-4213-8d7e-ec572cff731c",
      "metadata": {
        "colab": {
          "base_uri": "https://localhost:8080/"
        },
        "id": "b490ccd2-f7d1-4213-8d7e-ec572cff731c",
        "outputId": "c93a0fd9-3504-47a2-dbad-b98a3a6d8042"
      },
      "outputs": [
        {
          "output_type": "stream",
          "name": "stdout",
          "text": [
            "[['Adam'], ['Adam'], ['Adam'], ['Adam'], ['Adam'], ['Adam'], ['Adam'], ['Adam'], ['Adam'], ['Adam'], ['Adam'], ['Adam']]\n"
          ]
        }
      ],
      "source": [
        "n=12\n",
        "names = [[]]*n\n",
        "em = \"Adam\"\n",
        "m = 6\n",
        "names[m].append(em)\n",
        "print(names)"
      ]
    },
    {
      "cell_type": "code",
      "execution_count": null,
      "id": "3559bdf5-b87c-43e1-bc02-f2513b95dd30",
      "metadata": {
        "colab": {
          "base_uri": "https://localhost:8080/",
          "height": 176
        },
        "id": "3559bdf5-b87c-43e1-bc02-f2513b95dd30",
        "outputId": "232a47d4-797f-422d-eba1-b51d3b01c32f"
      },
      "outputs": [
        {
          "output_type": "error",
          "ename": "AttributeError",
          "evalue": "'int' object has no attribute '__next__'",
          "traceback": [
            "\u001b[0;31m---------------------------------------------------------------------------\u001b[0m",
            "\u001b[0;31mAttributeError\u001b[0m                            Traceback (most recent call last)",
            "\u001b[0;32m<ipython-input-214-6b156862d85f>\u001b[0m in \u001b[0;36m<cell line: 3>\u001b[0;34m()\u001b[0m\n\u001b[1;32m      1\u001b[0m \u001b[0mlist\u001b[0m \u001b[0;34m=\u001b[0m \u001b[0;34m[\u001b[0m\u001b[0;36m4\u001b[0m\u001b[0;34m,\u001b[0m\u001b[0;36m7\u001b[0m\u001b[0;34m,\u001b[0m\u001b[0;36m0\u001b[0m\u001b[0;34m,\u001b[0m\u001b[0;36m3\u001b[0m\u001b[0;34m]\u001b[0m\u001b[0;34m\u001b[0m\u001b[0;34m\u001b[0m\u001b[0m\n\u001b[1;32m      2\u001b[0m \u001b[0mi\u001b[0m \u001b[0;34m=\u001b[0m \u001b[0miter\u001b[0m\u001b[0;34m(\u001b[0m\u001b[0mlist\u001b[0m\u001b[0;34m)\u001b[0m\u001b[0;34m\u001b[0m\u001b[0;34m\u001b[0m\u001b[0m\n\u001b[0;32m----> 3\u001b[0;31m \u001b[0mprint\u001b[0m\u001b[0;34m(\u001b[0m\u001b[0mi\u001b[0m\u001b[0;34m.\u001b[0m\u001b[0m__next__\u001b[0m\u001b[0;34m(\u001b[0m\u001b[0;34m)\u001b[0m\u001b[0;34m.\u001b[0m\u001b[0m__next__\u001b[0m\u001b[0;34m(\u001b[0m\u001b[0;34m)\u001b[0m\u001b[0;34m)\u001b[0m\u001b[0;34m\u001b[0m\u001b[0;34m\u001b[0m\u001b[0m\n\u001b[0m",
            "\u001b[0;31mAttributeError\u001b[0m: 'int' object has no attribute '__next__'"
          ]
        }
      ],
      "source": [
        "list = [4,7,0,3]\n",
        "i = iter(list)\n",
        "print(i.__next__().__next__())"
      ]
    },
    {
      "cell_type": "code",
      "execution_count": null,
      "id": "760829db-1093-4b53-a2c2-ef5de8fa8478",
      "metadata": {
        "colab": {
          "base_uri": "https://localhost:8080/"
        },
        "id": "760829db-1093-4b53-a2c2-ef5de8fa8478",
        "outputId": "879861f0-0e92-45e8-9c30-92d2dac14527"
      },
      "outputs": [
        {
          "output_type": "stream",
          "name": "stdout",
          "text": [
            "Bye\n"
          ]
        }
      ],
      "source": [
        "if (True == False) in (False,) == False:\n",
        "  print(\"HI\")\n",
        "else:\n",
        "  print(\"Bye\")"
      ]
    },
    {
      "cell_type": "code",
      "execution_count": null,
      "id": "5fe9bcb8-d59d-40f4-a8f9-c573e0b379ae",
      "metadata": {
        "colab": {
          "base_uri": "https://localhost:8080/"
        },
        "id": "5fe9bcb8-d59d-40f4-a8f9-c573e0b379ae",
        "outputId": "48f75073-ac12-4bb1-9be5-8542dba90d03"
      },
      "outputs": [
        {
          "output_type": "stream",
          "name": "stdout",
          "text": [
            "Jan\n"
          ]
        }
      ],
      "source": [
        "my_l = [\"\", \"\", \"None\"]\n",
        "if my_l[2]:\n",
        "    print(\"Jan\")\n",
        "elif len(my_l) > 1:\n",
        "    print(\"Feb\")\n",
        "else: print(\"mar\")"
      ]
    },
    {
      "cell_type": "code",
      "execution_count": null,
      "id": "2b787967-2d4b-4bef-84de-7c4b08e4f620",
      "metadata": {
        "colab": {
          "base_uri": "https://localhost:8080/"
        },
        "id": "2b787967-2d4b-4bef-84de-7c4b08e4f620",
        "outputId": "02469f62-9b7c-41f5-bf3c-a949bf98bd33"
      },
      "outputs": [
        {
          "output_type": "execute_result",
          "data": {
            "text/plain": [
              "(1, 2)"
            ]
          },
          "metadata": {},
          "execution_count": 220
        }
      ],
      "source": [
        "t = 1,2\n",
        "t"
      ]
    },
    {
      "cell_type": "code",
      "execution_count": null,
      "id": "817849d8-c11b-467a-97bb-d2a528dee981",
      "metadata": {
        "colab": {
          "base_uri": "https://localhost:8080/",
          "height": 193
        },
        "id": "817849d8-c11b-467a-97bb-d2a528dee981",
        "outputId": "e4658e38-16bf-43b0-b0c3-2efcd11b9968"
      },
      "outputs": [
        {
          "output_type": "error",
          "ename": "TypeError",
          "evalue": "'tuple' object does not support item assignment",
          "traceback": [
            "\u001b[0;31m---------------------------------------------------------------------------\u001b[0m",
            "\u001b[0;31mTypeError\u001b[0m                                 Traceback (most recent call last)",
            "\u001b[0;32m<ipython-input-221-2396c300528e>\u001b[0m in \u001b[0;36m<cell line: 3>\u001b[0;34m()\u001b[0m\n\u001b[1;32m      1\u001b[0m \u001b[0mmy_list\u001b[0m \u001b[0;34m=\u001b[0m \u001b[0;34m[\u001b[0m\u001b[0;36m1\u001b[0m\u001b[0;34m,\u001b[0m\u001b[0;36m2\u001b[0m\u001b[0;34m,\u001b[0m\u001b[0;36m3\u001b[0m\u001b[0;34m,\u001b[0m\u001b[0;36m4\u001b[0m\u001b[0;34m,\u001b[0m\u001b[0;36m5\u001b[0m\u001b[0;34m,\u001b[0m\u001b[0;36m6\u001b[0m\u001b[0;34m]\u001b[0m\u001b[0;34m\u001b[0m\u001b[0;34m\u001b[0m\u001b[0m\n\u001b[1;32m      2\u001b[0m \u001b[0mmy_list_trunc\u001b[0m \u001b[0;34m=\u001b[0m \u001b[0mmy_list\u001b[0m\u001b[0;34m[\u001b[0m\u001b[0;36m0\u001b[0m\u001b[0;34m:\u001b[0m\u001b[0;36m0\u001b[0m\u001b[0;34m:\u001b[0m\u001b[0;36m2\u001b[0m\u001b[0;34m]\u001b[0m\u001b[0;34m,\u001b[0m\u001b[0;34m\u001b[0m\u001b[0;34m\u001b[0m\u001b[0m\n\u001b[0;32m----> 3\u001b[0;31m \u001b[0mmy_list_trunc\u001b[0m\u001b[0;34m[\u001b[0m\u001b[0;36m0\u001b[0m\u001b[0;34m]\u001b[0m \u001b[0;34m=\u001b[0m \u001b[0;36m10\u001b[0m\u001b[0;34m\u001b[0m\u001b[0;34m\u001b[0m\u001b[0m\n\u001b[0m\u001b[1;32m      4\u001b[0m \u001b[0mprint\u001b[0m\u001b[0;34m(\u001b[0m\u001b[0mmy_list_trunc\u001b[0m\u001b[0;34m)\u001b[0m\u001b[0;34m\u001b[0m\u001b[0;34m\u001b[0m\u001b[0m\n",
            "\u001b[0;31mTypeError\u001b[0m: 'tuple' object does not support item assignment"
          ]
        }
      ],
      "source": [
        "my_list = [1,2,3,4,5,6]\n",
        "my_list_trunc = my_list[0:0:2],\n",
        "my_list_trunc[0] = 10\n",
        "print(my_list_trunc)"
      ]
    },
    {
      "cell_type": "markdown",
      "source": [
        "Printing outputs"
      ],
      "metadata": {
        "id": "VrOqV3gHV3Vh"
      },
      "id": "VrOqV3gHV3Vh"
    },
    {
      "cell_type": "code",
      "execution_count": null,
      "id": "0456b38c-0a0c-4a68-8ffe-dda0ed01b6ef",
      "metadata": {
        "id": "0456b38c-0a0c-4a68-8ffe-dda0ed01b6ef",
        "outputId": "456f2882-2013-40cb-d3e7-757d798ef8ca",
        "colab": {
          "base_uri": "https://localhost:8080/"
        }
      },
      "outputs": [
        {
          "output_type": "stream",
          "name": "stdout",
          "text": [
            "Total score for Rupali is 10  \n",
            "Total score for Rupali is 10\n",
            "Total score for Rupali is 10\n",
            "Total score for Rupali is 10\n",
            "Total score for Rupali is 10\n"
          ]
        }
      ],
      "source": [
        "name=\"Rupali\"\n",
        "score=10\n",
        "print(\"Total score for %s is %s  \" % (name, score))\n",
        "print(\"Total score for {} is {}\".format(name, score))\n",
        "print(f\"Total score for {name} is {score}\")\n",
        "print(\"Total score for \",name, \" is \",score, sep='')\n",
        "print(\"Total score for \"+name+\" is \"+ str(score))\n"
      ]
    },
    {
      "cell_type": "code",
      "source": [
        "str1= \"Rupali\"\n",
        "str2= \"Yadav\"\n",
        "str3 = str1 + \" \" + str2\n",
        "print(str3)\n",
        "if str3 == \"Rupali Yadav\" :\n",
        "    print(\"My String: {} and {}\".format(str3,str3))"
      ],
      "metadata": {
        "id": "OSx9K6m-WCV3",
        "outputId": "06ca33f6-b4f9-43e7-ab38-d5abfc0155de",
        "colab": {
          "base_uri": "https://localhost:8080/"
        }
      },
      "id": "OSx9K6m-WCV3",
      "execution_count": null,
      "outputs": [
        {
          "output_type": "stream",
          "name": "stdout",
          "text": [
            "Rupali Yadav\n",
            "My String: Rupali Yadav and Rupali Yadav\n"
          ]
        }
      ]
    },
    {
      "cell_type": "markdown",
      "source": [
        "User Defined Functions"
      ],
      "metadata": {
        "id": "fX3Di1IeXtiT"
      },
      "id": "fX3Di1IeXtiT"
    },
    {
      "cell_type": "code",
      "source": [
        "# Program to illustrate\n",
        "# the use of user-defined functions\n",
        "\n",
        "def add_numbers(x,y):\n",
        "   sum = x + y\n",
        "   return sum\n",
        "\n",
        "num1 = 5\n",
        "num2 = 6\n",
        "\n",
        "print(\"The sum is\", add_numbers(num1, num2))\n"
      ],
      "metadata": {
        "id": "Oyfg3EHvW1I1"
      },
      "id": "Oyfg3EHvW1I1",
      "execution_count": null,
      "outputs": []
    },
    {
      "cell_type": "code",
      "source": [
        "def greet(name,msg):\n",
        "   \"\"\"This function greets to\n",
        "   the person with the provided message\"\"\"\n",
        "   print(\"Hello \",name + ', ' + msg)\n",
        "   print(\"Hello %s, %s\" %(name,msg))\n",
        "\n",
        "greet(\"Monica\",\"Good morning!\")"
      ],
      "metadata": {
        "id": "AvaFsyoWW-on"
      },
      "id": "AvaFsyoWW-on",
      "execution_count": null,
      "outputs": []
    },
    {
      "cell_type": "code",
      "source": [
        "def greet(name, msg = \"Good morning!\"):\n",
        "   \"\"\"\n",
        "   This function greets to\n",
        "   the person with the\n",
        "   provided message.\n",
        "\n",
        "   If message is not provided,\n",
        "   it defaults to \"Good\n",
        "   morning!\"\n",
        "   \"\"\"\n",
        "\n",
        "   print(\"Hello\",name + ', ' + msg)\n",
        "\n",
        "greet(\"Kate\")\n",
        "greet(\"Bruce\",\"How do you do?\")\n",
        "greet(msg = \"How do you do?\",name = \"Roops\")\n",
        "greet(name = \"Neha\", msg = \"Have a gread day!!\")"
      ],
      "metadata": {
        "id": "PleuL18kXK1d"
      },
      "id": "PleuL18kXK1d",
      "execution_count": null,
      "outputs": []
    },
    {
      "cell_type": "code",
      "source": [
        "def greet(*names):\n",
        "   \"\"\"This function greets all\n",
        "   the person in the names tuple.\"\"\"\n",
        "\n",
        "   # names is a tuple with arguments\n",
        "   for name in names:\n",
        "       print(\"Hello\",name)\n",
        "\n",
        "greet(\"Monica\",\"Luke\",\"Steve\",\"John\")"
      ],
      "metadata": {
        "id": "gtNFTV5LXjne"
      },
      "id": "gtNFTV5LXjne",
      "execution_count": null,
      "outputs": []
    },
    {
      "cell_type": "code",
      "source": [
        "def calc_factorial(x):\n",
        "    \"\"\"This is a recursive function\n",
        "    to find the factorial of an integer\"\"\"\n",
        "\n",
        "    if x == 1:\n",
        "        return 1\n",
        "    else:\n",
        "        return (x * calc_factorial(x-1))\n",
        "\n",
        "num = 4\n",
        "print(\"The factorial of\", num, \"is\", calc_factorial(num))"
      ],
      "metadata": {
        "id": "1OKAjwk6Xq5U"
      },
      "id": "1OKAjwk6Xq5U",
      "execution_count": null,
      "outputs": []
    },
    {
      "cell_type": "markdown",
      "source": [
        "Lambda"
      ],
      "metadata": {
        "id": "9Ha5VN7iYGno"
      },
      "id": "9Ha5VN7iYGno"
    },
    {
      "cell_type": "code",
      "source": [
        "double = lambda x: x * 2\n",
        "\n",
        "# Output: 10\n",
        "print(double(5))"
      ],
      "metadata": {
        "id": "U_fJqp0MYBPA"
      },
      "id": "U_fJqp0MYBPA",
      "execution_count": null,
      "outputs": []
    },
    {
      "cell_type": "code",
      "source": [
        "#program to filter even numbers from a list\n",
        "num_list=[1,2,3,4,5,6,7,8,9,10]\n",
        "my_list=list(filter(lambda x: (x%2==0),num_list))\n",
        "print(my_list)"
      ],
      "metadata": {
        "id": "LWbuewF5YIhh"
      },
      "id": "LWbuewF5YIhh",
      "execution_count": null,
      "outputs": []
    },
    {
      "cell_type": "code",
      "source": [
        "# Program to double each item in a list using map()\n",
        "\n",
        "my_list = [1, 5, 4, 6, 8, 11, 3, 12]\n",
        "new_list = list(map(lambda x: x * 2 , my_list))\n",
        "print(new_list)"
      ],
      "metadata": {
        "id": "d-iN7SELY6hS"
      },
      "id": "d-iN7SELY6hS",
      "execution_count": null,
      "outputs": []
    },
    {
      "cell_type": "markdown",
      "source": [
        "Build-in Libraries and functions"
      ],
      "metadata": {
        "id": "HPVjSp2hZKRw"
      },
      "id": "HPVjSp2hZKRw"
    },
    {
      "cell_type": "code",
      "source": [
        "from math import pi, e\n",
        "print(\"The value of pi is\", pi)\n",
        "print(\"The value of e is\", e)"
      ],
      "metadata": {
        "id": "OYtB-IGeZNwg"
      },
      "id": "OYtB-IGeZNwg",
      "execution_count": null,
      "outputs": []
    },
    {
      "cell_type": "code",
      "source": [
        "import math\n",
        "print(dir(math))\n",
        "print(math.__dir__())\n",
        "print(\"~~~~~~~~~~~~~~~~~~~~~~~~~~~~~~~~~~~~~~~~~~~~~~~~~~~~~~~~~~~~~~~~~~~~~~~~~~~~~~~~~~~~~~~~~~~~\")\n",
        "print(math.acos.__doc__)\n",
        "print(\"~~~~~~~~~~~~~~~~~~~~~~~~~~~~~~~~~~~~~~~~~~~~~~~~~~~~~~~~~~~~~~~~~~~~~~~~~~~~~~~~~~~~~~~~~~~~\")\n",
        "print(math.__doc__)\n",
        "print(\"~~~~~~~~~~~~~~~~~~~~~~~~~~~~~~~~~~~~~~~~~~~~~~~~~~~~~~~~~~~~~~~~~~~~~~~~~~~~~~~~~~~~~~~~~~~~\")\n",
        "print(math.__name__)\n"
      ],
      "metadata": {
        "id": "ZFMvUtu0ZUUJ"
      },
      "id": "ZFMvUtu0ZUUJ",
      "execution_count": null,
      "outputs": []
    },
    {
      "cell_type": "code",
      "source": [
        "my_list = [1, 5, 4, 6, 8, 11, 3, 12]\n",
        "my_list.append(10)\n",
        "print(my_list)\n",
        "l2=[2,3,7,9]\n",
        "my_list.extend(l2)\n",
        "print(my_list)\n",
        "my_list.index(11)"
      ],
      "metadata": {
        "colab": {
          "base_uri": "https://localhost:8080/"
        },
        "id": "5gi7O3qm7ZsJ",
        "outputId": "f82e71c6-ff89-47e5-afcb-9cb01bb7a410"
      },
      "id": "5gi7O3qm7ZsJ",
      "execution_count": null,
      "outputs": [
        {
          "output_type": "stream",
          "name": "stdout",
          "text": [
            "[1, 5, 4, 6, 8, 11, 3, 12, 10]\n",
            "[1, 5, 4, 6, 8, 11, 3, 12, 10, 2, 3, 7, 9]\n"
          ]
        },
        {
          "output_type": "execute_result",
          "data": {
            "text/plain": [
              "5"
            ]
          },
          "metadata": {},
          "execution_count": 6
        }
      ]
    },
    {
      "cell_type": "code",
      "source": [
        "my_list.insert(3,16)\n",
        "print(my_list)\n",
        "my_list.index(3)"
      ],
      "metadata": {
        "colab": {
          "base_uri": "https://localhost:8080/"
        },
        "id": "6s_3NIPq8I-C",
        "outputId": "a3faeb43-fc3e-42c8-e56c-4f3598abcba3"
      },
      "id": "6s_3NIPq8I-C",
      "execution_count": null,
      "outputs": [
        {
          "output_type": "stream",
          "name": "stdout",
          "text": [
            "[1, 5, 4, 16, 6, 8, 11, 3, 12, 10, 2, 3, 7, 9, 3]\n"
          ]
        },
        {
          "output_type": "execute_result",
          "data": {
            "text/plain": [
              "7"
            ]
          },
          "metadata": {},
          "execution_count": 11
        }
      ]
    },
    {
      "cell_type": "code",
      "source": [
        "del my_list[4]\n",
        "my_list"
      ],
      "metadata": {
        "colab": {
          "base_uri": "https://localhost:8080/"
        },
        "id": "zQOgbzMR82G6",
        "outputId": "ce6982f1-bd92-4832-b056-86ea266c2b54"
      },
      "id": "zQOgbzMR82G6",
      "execution_count": null,
      "outputs": [
        {
          "output_type": "execute_result",
          "data": {
            "text/plain": [
              "[1, 5, 4, 16, 11, 3, 12, 10, 2, 3, 7, 9, 3]"
            ]
          },
          "metadata": {},
          "execution_count": 14
        }
      ]
    },
    {
      "cell_type": "code",
      "source": [
        "my_list.count(3)"
      ],
      "metadata": {
        "colab": {
          "base_uri": "https://localhost:8080/"
        },
        "id": "Yde_683w9Qaj",
        "outputId": "94e53ed7-296e-4bac-bd90-b8a20f6eb8b2"
      },
      "id": "Yde_683w9Qaj",
      "execution_count": null,
      "outputs": [
        {
          "output_type": "execute_result",
          "data": {
            "text/plain": [
              "3"
            ]
          },
          "metadata": {},
          "execution_count": 16
        }
      ]
    },
    {
      "cell_type": "code",
      "source": [
        "my_list.pop(8)"
      ],
      "metadata": {
        "colab": {
          "base_uri": "https://localhost:8080/"
        },
        "id": "3oJ7q8kD9oGa",
        "outputId": "cc3af2f7-4301-4535-c0c5-81c7b52ae592"
      },
      "id": "3oJ7q8kD9oGa",
      "execution_count": null,
      "outputs": [
        {
          "output_type": "execute_result",
          "data": {
            "text/plain": [
              "2"
            ]
          },
          "metadata": {},
          "execution_count": 17
        }
      ]
    },
    {
      "cell_type": "code",
      "source": [
        "my_list.pop()"
      ],
      "metadata": {
        "colab": {
          "base_uri": "https://localhost:8080/"
        },
        "id": "-i2hrywQ-PKT",
        "outputId": "917e9aed-b77b-4d87-82f0-ee1d96f75081"
      },
      "id": "-i2hrywQ-PKT",
      "execution_count": null,
      "outputs": [
        {
          "output_type": "execute_result",
          "data": {
            "text/plain": [
              "3"
            ]
          },
          "metadata": {},
          "execution_count": 18
        }
      ]
    },
    {
      "cell_type": "code",
      "source": [
        "my_list"
      ],
      "metadata": {
        "colab": {
          "base_uri": "https://localhost:8080/"
        },
        "id": "j7qgn0br-Rh2",
        "outputId": "27e28756-eb92-4f8c-d27b-603425f85e55"
      },
      "id": "j7qgn0br-Rh2",
      "execution_count": null,
      "outputs": [
        {
          "output_type": "execute_result",
          "data": {
            "text/plain": [
              "[1, 5, 4, 16, 11, 3, 12, 10, 3, 7, 9]"
            ]
          },
          "metadata": {},
          "execution_count": 19
        }
      ]
    },
    {
      "cell_type": "code",
      "source": [
        "my_list.insert(5,7)\n",
        "my_list"
      ],
      "metadata": {
        "colab": {
          "base_uri": "https://localhost:8080/"
        },
        "id": "fXsNkmih-ZpP",
        "outputId": "45189830-6975-432f-b988-313f84272682"
      },
      "id": "fXsNkmih-ZpP",
      "execution_count": null,
      "outputs": [
        {
          "output_type": "execute_result",
          "data": {
            "text/plain": [
              "[1, 5, 4, 16, 11, 7, 7, 3, 12, 10, 3, 7, 9]"
            ]
          },
          "metadata": {},
          "execution_count": 21
        }
      ]
    },
    {
      "cell_type": "code",
      "source": [
        "my_list.remove(7)\n",
        "my_list"
      ],
      "metadata": {
        "colab": {
          "base_uri": "https://localhost:8080/"
        },
        "id": "le1PodX5-p5q",
        "outputId": "272fa9f5-5dd2-4869-a74b-56586a3a60d1"
      },
      "id": "le1PodX5-p5q",
      "execution_count": null,
      "outputs": [
        {
          "output_type": "execute_result",
          "data": {
            "text/plain": [
              "[1, 5, 4, 16, 11, 7, 3, 12, 10, 3, 7, 9]"
            ]
          },
          "metadata": {},
          "execution_count": 22
        }
      ]
    },
    {
      "cell_type": "code",
      "source": [
        "my_list.remove()\n",
        "my_list"
      ],
      "metadata": {
        "colab": {
          "base_uri": "https://localhost:8080/",
          "height": 158
        },
        "id": "npLmlteL-xaM",
        "outputId": "18041c65-3e00-48cc-96b5-8f1357df6cc0"
      },
      "id": "npLmlteL-xaM",
      "execution_count": null,
      "outputs": [
        {
          "output_type": "error",
          "ename": "TypeError",
          "evalue": "list.remove() takes exactly one argument (0 given)",
          "traceback": [
            "\u001b[0;31m---------------------------------------------------------------------------\u001b[0m",
            "\u001b[0;31mTypeError\u001b[0m                                 Traceback (most recent call last)",
            "\u001b[0;32m<ipython-input-23-eb28f39d59cc>\u001b[0m in \u001b[0;36m<cell line: 1>\u001b[0;34m()\u001b[0m\n\u001b[0;32m----> 1\u001b[0;31m \u001b[0mmy_list\u001b[0m\u001b[0;34m.\u001b[0m\u001b[0mremove\u001b[0m\u001b[0;34m(\u001b[0m\u001b[0;34m)\u001b[0m\u001b[0;34m\u001b[0m\u001b[0;34m\u001b[0m\u001b[0m\n\u001b[0m\u001b[1;32m      2\u001b[0m \u001b[0mmy_list\u001b[0m\u001b[0;34m\u001b[0m\u001b[0;34m\u001b[0m\u001b[0m\n",
            "\u001b[0;31mTypeError\u001b[0m: list.remove() takes exactly one argument (0 given)"
          ]
        }
      ]
    },
    {
      "cell_type": "code",
      "source": [
        "len(my_list)"
      ],
      "metadata": {
        "colab": {
          "base_uri": "https://localhost:8080/"
        },
        "id": "-dlnI9LH-3oV",
        "outputId": "411715ba-5591-43e1-8f11-40f75ebd5d11"
      },
      "id": "-dlnI9LH-3oV",
      "execution_count": null,
      "outputs": [
        {
          "output_type": "execute_result",
          "data": {
            "text/plain": [
              "12"
            ]
          },
          "metadata": {},
          "execution_count": 24
        }
      ]
    },
    {
      "cell_type": "code",
      "source": [
        "my_list\n"
      ],
      "metadata": {
        "colab": {
          "base_uri": "https://localhost:8080/"
        },
        "id": "Q1GxNSRH_kHi",
        "outputId": "c3177a8f-d140-4cdb-df85-bb53f05c8416"
      },
      "id": "Q1GxNSRH_kHi",
      "execution_count": null,
      "outputs": [
        {
          "output_type": "execute_result",
          "data": {
            "text/plain": [
              "[1, 5, 4, 16, 11, 7, 3, 12, 10, 3, 7, 9]"
            ]
          },
          "metadata": {},
          "execution_count": 25
        }
      ]
    },
    {
      "cell_type": "code",
      "source": [
        "my_list.sort()\n",
        "my_list"
      ],
      "metadata": {
        "colab": {
          "base_uri": "https://localhost:8080/"
        },
        "id": "9QH_q-HW_ow9",
        "outputId": "a8f9b7fe-e02a-49a5-fc3d-0996914acf9e"
      },
      "id": "9QH_q-HW_ow9",
      "execution_count": null,
      "outputs": [
        {
          "output_type": "execute_result",
          "data": {
            "text/plain": [
              "[1, 3, 3, 4, 5, 7, 7, 9, 10, 11, 12, 16]"
            ]
          },
          "metadata": {},
          "execution_count": 26
        }
      ]
    },
    {
      "cell_type": "code",
      "source": [
        "my_list.sort(reverse=True)\n",
        "my_list"
      ],
      "metadata": {
        "colab": {
          "base_uri": "https://localhost:8080/"
        },
        "id": "zE1RcgWs_662",
        "outputId": "19ac14ea-2e21-4c3b-bbf9-ecfb85a93fea"
      },
      "id": "zE1RcgWs_662",
      "execution_count": null,
      "outputs": [
        {
          "output_type": "execute_result",
          "data": {
            "text/plain": [
              "[16, 12, 11, 10, 9, 7, 7, 5, 4, 3, 3, 1]"
            ]
          },
          "metadata": {},
          "execution_count": 27
        }
      ]
    },
    {
      "cell_type": "code",
      "source": [
        "my_list.sort()\n",
        "print(my_list)\n",
        "print(my_list[::-1])\n"
      ],
      "metadata": {
        "colab": {
          "base_uri": "https://localhost:8080/"
        },
        "id": "w2ma3zL0ADSv",
        "outputId": "14936bcc-2b36-4db6-cc8e-24217e26041e"
      },
      "id": "w2ma3zL0ADSv",
      "execution_count": null,
      "outputs": [
        {
          "output_type": "stream",
          "name": "stdout",
          "text": [
            "[1, 3, 3, 4, 5, 7, 7, 9, 10, 11, 12, 16]\n",
            "[16, 12, 11, 10, 9, 7, 7, 5, 4, 3, 3, 1]\n"
          ]
        }
      ]
    },
    {
      "cell_type": "code",
      "source": [
        "print(max(my_list))\n",
        "print(min(my_list))"
      ],
      "metadata": {
        "colab": {
          "base_uri": "https://localhost:8080/"
        },
        "id": "w4ObuTWcAeRo",
        "outputId": "ddab5160-6b97-4e6f-e937-38c11c798ee8"
      },
      "id": "w4ObuTWcAeRo",
      "execution_count": null,
      "outputs": [
        {
          "output_type": "stream",
          "name": "stdout",
          "text": [
            "16\n",
            "1\n"
          ]
        }
      ]
    },
    {
      "cell_type": "code",
      "source": [
        "l_1= list(\"rupali\")\n",
        "l_1"
      ],
      "metadata": {
        "colab": {
          "base_uri": "https://localhost:8080/"
        },
        "id": "dmGA3BP9BHw-",
        "outputId": "bad3853b-15c2-4276-f5ff-42791997f233"
      },
      "id": "dmGA3BP9BHw-",
      "execution_count": null,
      "outputs": [
        {
          "output_type": "execute_result",
          "data": {
            "text/plain": [
              "['r', 'u', 'p', 'a', 'l', 'i']"
            ]
          },
          "metadata": {},
          "execution_count": 35
        }
      ]
    },
    {
      "cell_type": "code",
      "source": [
        "print(list(range(1,20,2)))"
      ],
      "metadata": {
        "colab": {
          "base_uri": "https://localhost:8080/"
        },
        "id": "-9poEmmxBWHJ",
        "outputId": "bf5e6e1c-1011-4915-da52-2553e8c36b9f"
      },
      "id": "-9poEmmxBWHJ",
      "execution_count": null,
      "outputs": [
        {
          "output_type": "stream",
          "name": "stdout",
          "text": [
            "[1, 3, 5, 7, 9, 11, 13, 15, 17, 19]\n"
          ]
        }
      ]
    },
    {
      "cell_type": "code",
      "source": [
        "l_2 = list(\"yadav\")\n",
        "print(l_1+l_2)"
      ],
      "metadata": {
        "colab": {
          "base_uri": "https://localhost:8080/"
        },
        "id": "fWM2fj9sBxOQ",
        "outputId": "36dab2dd-f62a-41cc-a50d-72d57327eea3"
      },
      "id": "fWM2fj9sBxOQ",
      "execution_count": null,
      "outputs": [
        {
          "output_type": "stream",
          "name": "stdout",
          "text": [
            "['r', 'u', 'p', 'a', 'l', 'i', 'y', 'a', 'd', 'a', 'v']\n"
          ]
        }
      ]
    },
    {
      "cell_type": "code",
      "source": [
        "list_1 = [1,2]*5\n",
        "list_1"
      ],
      "metadata": {
        "colab": {
          "base_uri": "https://localhost:8080/"
        },
        "id": "0ubj747yB-Qs",
        "outputId": "6ae392d4-4490-428d-b5bb-9b73b73cc247"
      },
      "id": "0ubj747yB-Qs",
      "execution_count": null,
      "outputs": [
        {
          "output_type": "execute_result",
          "data": {
            "text/plain": [
              "[1, 2, 1, 2, 1, 2, 1, 2, 1, 2]"
            ]
          },
          "metadata": {},
          "execution_count": 42
        }
      ]
    },
    {
      "cell_type": "code",
      "source": [
        "list_2 = [1]\n",
        "list_2 += [2,3,4,5]\n",
        "list_2"
      ],
      "metadata": {
        "colab": {
          "base_uri": "https://localhost:8080/"
        },
        "id": "d5VIGyvaCI3p",
        "outputId": "8c8a4559-e3a6-48a5-d15d-bc32b0bf1ba3"
      },
      "id": "d5VIGyvaCI3p",
      "execution_count": null,
      "outputs": [
        {
          "output_type": "execute_result",
          "data": {
            "text/plain": [
              "[1, 2, 3, 4, 5]"
            ]
          },
          "metadata": {},
          "execution_count": 43
        }
      ]
    },
    {
      "cell_type": "code",
      "source": [
        "list_2.extend([6,7,8])\n",
        "list_2"
      ],
      "metadata": {
        "colab": {
          "base_uri": "https://localhost:8080/"
        },
        "id": "LbDP0lLICVcr",
        "outputId": "b6fcb6f6-6bb1-4e83-e9ca-cb7834d29346"
      },
      "id": "LbDP0lLICVcr",
      "execution_count": null,
      "outputs": [
        {
          "output_type": "execute_result",
          "data": {
            "text/plain": [
              "[1, 2, 3, 4, 5, 6, 7, 8]"
            ]
          },
          "metadata": {},
          "execution_count": 44
        }
      ]
    },
    {
      "cell_type": "code",
      "source": [
        "list_2[:-2]"
      ],
      "metadata": {
        "colab": {
          "base_uri": "https://localhost:8080/"
        },
        "id": "W9SJ1clGClT2",
        "outputId": "f795a7ac-0b61-405c-e18a-86b410b33db3"
      },
      "id": "W9SJ1clGClT2",
      "execution_count": null,
      "outputs": [
        {
          "output_type": "execute_result",
          "data": {
            "text/plain": [
              "[1, 2, 3, 4, 5, 6]"
            ]
          },
          "metadata": {},
          "execution_count": 45
        }
      ]
    },
    {
      "cell_type": "code",
      "source": [
        "list_2[2:-2]"
      ],
      "metadata": {
        "colab": {
          "base_uri": "https://localhost:8080/"
        },
        "id": "gbReDQ3sCrJA",
        "outputId": "47483216-9f2c-4669-e689-1a823958cc16"
      },
      "id": "gbReDQ3sCrJA",
      "execution_count": null,
      "outputs": [
        {
          "output_type": "execute_result",
          "data": {
            "text/plain": [
              "[3, 4, 5, 6]"
            ]
          },
          "metadata": {},
          "execution_count": 46
        }
      ]
    },
    {
      "cell_type": "code",
      "source": [
        "list_2[2:-2:2]"
      ],
      "metadata": {
        "colab": {
          "base_uri": "https://localhost:8080/"
        },
        "id": "x9DipMgzCyqz",
        "outputId": "5edb3408-5e23-4b7f-f91a-dfa767cb215f"
      },
      "id": "x9DipMgzCyqz",
      "execution_count": null,
      "outputs": [
        {
          "output_type": "execute_result",
          "data": {
            "text/plain": [
              "[3, 5]"
            ]
          },
          "metadata": {},
          "execution_count": 47
        }
      ]
    },
    {
      "cell_type": "code",
      "source": [
        "list_2[::1]"
      ],
      "metadata": {
        "colab": {
          "base_uri": "https://localhost:8080/"
        },
        "id": "v0aq-8JTC2KU",
        "outputId": "605bbdf3-7941-4cd1-bbf7-02f1eb24556d"
      },
      "id": "v0aq-8JTC2KU",
      "execution_count": null,
      "outputs": [
        {
          "output_type": "execute_result",
          "data": {
            "text/plain": [
              "[1, 2, 3, 4, 5, 6, 7, 8]"
            ]
          },
          "metadata": {},
          "execution_count": 48
        }
      ]
    },
    {
      "cell_type": "code",
      "source": [
        "list_2[::-1]"
      ],
      "metadata": {
        "colab": {
          "base_uri": "https://localhost:8080/"
        },
        "id": "FGIz1uTAC9W6",
        "outputId": "c7e81c42-f6ee-480e-8db7-9ee39a871c27"
      },
      "id": "FGIz1uTAC9W6",
      "execution_count": null,
      "outputs": [
        {
          "output_type": "execute_result",
          "data": {
            "text/plain": [
              "[8, 7, 6, 5, 4, 3, 2, 1]"
            ]
          },
          "metadata": {},
          "execution_count": 49
        }
      ]
    },
    {
      "cell_type": "code",
      "source": [
        "[i**2 for i in range(1,20) if i%2 == 0]"
      ],
      "metadata": {
        "colab": {
          "base_uri": "https://localhost:8080/"
        },
        "id": "LQCcCEYWC_f5",
        "outputId": "75d5efd3-ed5e-493f-a29e-53012e8d19d7"
      },
      "id": "LQCcCEYWC_f5",
      "execution_count": null,
      "outputs": [
        {
          "output_type": "execute_result",
          "data": {
            "text/plain": [
              "[4, 16, 36, 64, 100, 144, 196, 256, 324]"
            ]
          },
          "metadata": {},
          "execution_count": 50
        }
      ]
    },
    {
      "cell_type": "code",
      "source": [
        "import math\n",
        "a = 345\n",
        "b = 4\n",
        "math.ceil(67.5)\n"
      ],
      "metadata": {
        "colab": {
          "base_uri": "https://localhost:8080/"
        },
        "id": "W1zK4NXdDivx",
        "outputId": "e876d253-e6f4-4d4b-e017-443c1f7b7981"
      },
      "id": "W1zK4NXdDivx",
      "execution_count": null,
      "outputs": [
        {
          "output_type": "execute_result",
          "data": {
            "text/plain": [
              "68"
            ]
          },
          "metadata": {},
          "execution_count": 60
        }
      ]
    },
    {
      "cell_type": "code",
      "source": [
        "tup = (1, 2, 4)\n",
        "tup_1 = 4,5,6\n",
        "tup_2 = 10,\n",
        "tup_3 = (12,)\n",
        "tup_3\n",
        "print(type(tup_3))\n",
        "tup_4 = (\"dog\")\n",
        "print(type(tup_4))\n",
        "tup_5 = (\"dog\",)\n",
        "print(type(tup_5))\n"
      ],
      "metadata": {
        "colab": {
          "base_uri": "https://localhost:8080/"
        },
        "id": "LP1_R9ppE3za",
        "outputId": "f189367f-d885-4acf-c659-6c6455b93edc"
      },
      "id": "LP1_R9ppE3za",
      "execution_count": null,
      "outputs": [
        {
          "output_type": "stream",
          "name": "stdout",
          "text": [
            "<class 'tuple'>\n",
            "<class 'str'>\n",
            "<class 'tuple'>\n"
          ]
        }
      ]
    },
    {
      "cell_type": "code",
      "source": [
        "t_1 = tuple([1,2,3,4,5,6,7,3])\n",
        "t_1\n",
        "print(t_1[2])\n",
        "print(t_1.index(7))\n",
        "print(t_1.count(3))"
      ],
      "metadata": {
        "colab": {
          "base_uri": "https://localhost:8080/"
        },
        "id": "-hmcmO8NFpb9",
        "outputId": "8d0098a5-33d8-4052-bb64-0293712d50c0"
      },
      "id": "-hmcmO8NFpb9",
      "execution_count": null,
      "outputs": [
        {
          "output_type": "stream",
          "name": "stdout",
          "text": [
            "3\n",
            "6\n",
            "2\n"
          ]
        }
      ]
    },
    {
      "cell_type": "code",
      "source": [
        "x,y,z = 1, 10, 20\n",
        "print(x, y, z)\n",
        "data = x,y,z\n",
        "print(data)\n",
        "a,b,c = data\n",
        "print(a, b, c)"
      ],
      "metadata": {
        "colab": {
          "base_uri": "https://localhost:8080/"
        },
        "id": "h9siwoZFGbN6",
        "outputId": "2e936915-f329-4e8c-cd40-cd15bf3f173e"
      },
      "id": "h9siwoZFGbN6",
      "execution_count": null,
      "outputs": [
        {
          "output_type": "stream",
          "name": "stdout",
          "text": [
            "1 10 20\n",
            "(1, 10, 20)\n",
            "1 10 20\n"
          ]
        }
      ]
    },
    {
      "cell_type": "code",
      "source": [
        "p, *q, r = 10,1,2,3,4,20\n",
        "print(p,q,r)\n",
        "print(q[1])"
      ],
      "metadata": {
        "id": "q6ZVgwNdHTcm",
        "colab": {
          "base_uri": "https://localhost:8080/"
        },
        "outputId": "98de2150-768f-4baf-d70e-73e2297267a1"
      },
      "id": "q6ZVgwNdHTcm",
      "execution_count": null,
      "outputs": [
        {
          "output_type": "stream",
          "name": "stdout",
          "text": [
            "10 [1, 2, 3, 4] 20\n",
            "2\n"
          ]
        }
      ]
    },
    {
      "cell_type": "code",
      "source": [
        "tup=(3,446,78,8,42353,23,7654)\n",
        "print(sorted(tup))\n",
        "print(sorted(tup, reverse=True))\n",
        "print(tup)"
      ],
      "metadata": {
        "colab": {
          "base_uri": "https://localhost:8080/"
        },
        "id": "-y2OwwEtH-aR",
        "outputId": "8d4b4c91-10e3-4f3e-85d2-651b81dc71c1"
      },
      "id": "-y2OwwEtH-aR",
      "execution_count": null,
      "outputs": [
        {
          "output_type": "stream",
          "name": "stdout",
          "text": [
            "[3, 8, 23, 78, 446, 7654, 42353]\n",
            "[42353, 7654, 446, 78, 23, 8, 3]\n",
            "(3, 446, 78, 8, 42353, 23, 7654)\n"
          ]
        }
      ]
    },
    {
      "cell_type": "code",
      "source": [
        "tup_3=(3,446,78,8,42353,23,7654)\n",
        "a = tuple(reversed(tup_3))\n",
        "print(a)"
      ],
      "metadata": {
        "colab": {
          "base_uri": "https://localhost:8080/"
        },
        "id": "j8QHIvQ4IdoC",
        "outputId": "cb6dc3ce-1724-4790-a161-84ba4f93915f"
      },
      "id": "j8QHIvQ4IdoC",
      "execution_count": null,
      "outputs": [
        {
          "output_type": "stream",
          "name": "stdout",
          "text": [
            "(7654, 23, 42353, 8, 78, 446, 3)\n"
          ]
        }
      ]
    },
    {
      "cell_type": "code",
      "source": [
        "T_1 = tuple(\"Rupali\")\n",
        "print(T_1)\n",
        "T_2=tuple({1:'A',2:'B',3:'C'})\n",
        "print(T_2)"
      ],
      "metadata": {
        "colab": {
          "base_uri": "https://localhost:8080/"
        },
        "id": "mOB-ds0EJ4EV",
        "outputId": "828945df-4491-4ed5-d38a-7656344ea8a1"
      },
      "id": "mOB-ds0EJ4EV",
      "execution_count": null,
      "outputs": [
        {
          "output_type": "stream",
          "name": "stdout",
          "text": [
            "('R', 'u', 'p', 'a', 'l', 'i')\n",
            "(1, 2, 3)\n"
          ]
        }
      ]
    },
    {
      "cell_type": "code",
      "source": [
        "m_dict = dict([('Rup','Luck'), ('Priya','Manali'), ('Neha', 'Chandigarh')])\n",
        "m_dict"
      ],
      "metadata": {
        "colab": {
          "base_uri": "https://localhost:8080/"
        },
        "id": "k-zy1knMMr3-",
        "outputId": "243d97ac-e8fe-4821-a360-5dbcaaecc5cb"
      },
      "id": "k-zy1knMMr3-",
      "execution_count": null,
      "outputs": [
        {
          "output_type": "execute_result",
          "data": {
            "text/plain": [
              "{'Rup': 'Luck', 'Priya': 'Manali', 'Neha': 'Chandigarh'}"
            ]
          },
          "metadata": {},
          "execution_count": 93
        }
      ]
    },
    {
      "cell_type": "code",
      "source": [
        "print(m_dict.items())"
      ],
      "metadata": {
        "colab": {
          "base_uri": "https://localhost:8080/"
        },
        "id": "qQRbfe3WNTrd",
        "outputId": "3f83e0cc-7561-4727-9046-6a8e151a01c8"
      },
      "id": "qQRbfe3WNTrd",
      "execution_count": null,
      "outputs": [
        {
          "output_type": "stream",
          "name": "stdout",
          "text": [
            "dict_items([('Rup', 'Luck'), ('Priya', 'Manali'), ('Neha', 'Chandigarh')])\n"
          ]
        }
      ]
    },
    {
      "cell_type": "code",
      "source": [
        "m_dict.get('Rup')\n"
      ],
      "metadata": {
        "colab": {
          "base_uri": "https://localhost:8080/",
          "height": 35
        },
        "id": "KGFyKca6NdB_",
        "outputId": "65d7b41a-b398-46be-a033-d85be7674f81"
      },
      "id": "KGFyKca6NdB_",
      "execution_count": null,
      "outputs": [
        {
          "output_type": "execute_result",
          "data": {
            "text/plain": [
              "'Luck'"
            ],
            "application/vnd.google.colaboratory.intrinsic+json": {
              "type": "string"
            }
          },
          "metadata": {},
          "execution_count": 96
        }
      ]
    },
    {
      "cell_type": "code",
      "source": [
        "m_dict.pop('Rup')\n",
        "m_dict"
      ],
      "metadata": {
        "colab": {
          "base_uri": "https://localhost:8080/",
          "height": 158
        },
        "id": "rx_5zTwMNuB0",
        "outputId": "3786d55d-b36f-4129-ca89-351d9c9f2528"
      },
      "id": "rx_5zTwMNuB0",
      "execution_count": null,
      "outputs": [
        {
          "output_type": "error",
          "ename": "KeyError",
          "evalue": "'Rup'",
          "traceback": [
            "\u001b[0;31m---------------------------------------------------------------------------\u001b[0m",
            "\u001b[0;31mKeyError\u001b[0m                                  Traceback (most recent call last)",
            "\u001b[0;32m<ipython-input-98-fa16816e6b6c>\u001b[0m in \u001b[0;36m<cell line: 1>\u001b[0;34m()\u001b[0m\n\u001b[0;32m----> 1\u001b[0;31m \u001b[0mm_dict\u001b[0m\u001b[0;34m.\u001b[0m\u001b[0mpop\u001b[0m\u001b[0;34m(\u001b[0m\u001b[0;34m'Rup'\u001b[0m\u001b[0;34m)\u001b[0m\u001b[0;34m\u001b[0m\u001b[0;34m\u001b[0m\u001b[0m\n\u001b[0m\u001b[1;32m      2\u001b[0m \u001b[0mm_dict\u001b[0m\u001b[0;34m\u001b[0m\u001b[0;34m\u001b[0m\u001b[0m\n",
            "\u001b[0;31mKeyError\u001b[0m: 'Rup'"
          ]
        }
      ]
    },
    {
      "cell_type": "code",
      "source": [
        "m_dict['Rup']='Luck'\n",
        "m_dict\n"
      ],
      "metadata": {
        "colab": {
          "base_uri": "https://localhost:8080/"
        },
        "id": "RQcos5rwN1oD",
        "outputId": "e8531ad5-da76-4f23-e3a3-31da008d977a"
      },
      "id": "RQcos5rwN1oD",
      "execution_count": null,
      "outputs": [
        {
          "output_type": "execute_result",
          "data": {
            "text/plain": [
              "{'Neha': 'Chandigarh', 'Rup': 'Luck'}"
            ]
          },
          "metadata": {},
          "execution_count": 104
        }
      ]
    },
    {
      "cell_type": "code",
      "source": [
        "m_dict.popitem()\n"
      ],
      "metadata": {
        "colab": {
          "base_uri": "https://localhost:8080/"
        },
        "id": "kinD0L8CON-D",
        "outputId": "d82288d3-f6e0-4f87-f37c-4d454f9d691a"
      },
      "id": "kinD0L8CON-D",
      "execution_count": null,
      "outputs": [
        {
          "output_type": "execute_result",
          "data": {
            "text/plain": [
              "('Rup', 'Luck')"
            ]
          },
          "metadata": {},
          "execution_count": 100
        }
      ]
    },
    {
      "cell_type": "code",
      "source": [
        "m_dict.pop('Rup')"
      ],
      "metadata": {
        "colab": {
          "base_uri": "https://localhost:8080/",
          "height": 35
        },
        "id": "91RSCJ-0ObL2",
        "outputId": "92936742-d767-4b71-9eb1-66334eaa694c"
      },
      "id": "91RSCJ-0ObL2",
      "execution_count": null,
      "outputs": [
        {
          "output_type": "execute_result",
          "data": {
            "text/plain": [
              "'Luck'"
            ],
            "application/vnd.google.colaboratory.intrinsic+json": {
              "type": "string"
            }
          },
          "metadata": {},
          "execution_count": 102
        }
      ]
    },
    {
      "cell_type": "code",
      "source": [
        "m_dict.pop('Priya','None')\n"
      ],
      "metadata": {
        "colab": {
          "base_uri": "https://localhost:8080/",
          "height": 35
        },
        "id": "An3F6JhrOjPl",
        "outputId": "ff15efe1-5847-4a74-e2e5-e95dd1f84a65"
      },
      "id": "An3F6JhrOjPl",
      "execution_count": null,
      "outputs": [
        {
          "output_type": "execute_result",
          "data": {
            "text/plain": [
              "'Manali'"
            ],
            "application/vnd.google.colaboratory.intrinsic+json": {
              "type": "string"
            }
          },
          "metadata": {},
          "execution_count": 103
        }
      ]
    },
    {
      "cell_type": "code",
      "source": [
        "m_dict"
      ],
      "metadata": {
        "colab": {
          "base_uri": "https://localhost:8080/"
        },
        "id": "OxhQFDx7Ozh0",
        "outputId": "46a8283c-2864-4191-bc0f-41936dd0382c"
      },
      "id": "OxhQFDx7Ozh0",
      "execution_count": null,
      "outputs": [
        {
          "output_type": "execute_result",
          "data": {
            "text/plain": [
              "{'Neha': 'Chandigarh', 'Rup': 'Luck'}"
            ]
          },
          "metadata": {},
          "execution_count": 105
        }
      ]
    },
    {
      "cell_type": "code",
      "source": [
        "m_dict.pop('nidhi', 'not_found')"
      ],
      "metadata": {
        "colab": {
          "base_uri": "https://localhost:8080/",
          "height": 35
        },
        "id": "s9fLA4daO5P9",
        "outputId": "2b24a0a2-28d7-4644-8d7b-e7f480bcd054"
      },
      "id": "s9fLA4daO5P9",
      "execution_count": null,
      "outputs": [
        {
          "output_type": "execute_result",
          "data": {
            "text/plain": [
              "'not_found'"
            ],
            "application/vnd.google.colaboratory.intrinsic+json": {
              "type": "string"
            }
          },
          "metadata": {},
          "execution_count": 106
        }
      ]
    },
    {
      "cell_type": "code",
      "source": [
        "m_dict.setdefault('Amit')\n",
        "m_dict"
      ],
      "metadata": {
        "colab": {
          "base_uri": "https://localhost:8080/"
        },
        "id": "3TeiW_guReM7",
        "outputId": "23224c32-1a90-4065-9d99-d04fe77ea97b"
      },
      "id": "3TeiW_guReM7",
      "execution_count": null,
      "outputs": [
        {
          "output_type": "execute_result",
          "data": {
            "text/plain": [
              "{'Neha': 'Chandigarh', 'Rup': 'Luck', 'Amit': None}"
            ]
          },
          "metadata": {},
          "execution_count": 108
        }
      ]
    },
    {
      "cell_type": "code",
      "source": [
        "m_dict['Amit']='Jaipur'\n",
        "m_dict"
      ],
      "metadata": {
        "colab": {
          "base_uri": "https://localhost:8080/"
        },
        "id": "E30Tx-6VRvTw",
        "outputId": "b3342ec4-9892-4a15-e4cb-e65a968b28d2"
      },
      "id": "E30Tx-6VRvTw",
      "execution_count": null,
      "outputs": [
        {
          "output_type": "execute_result",
          "data": {
            "text/plain": [
              "{'Neha': 'Chandigarh', 'Rup': 'Luck', 'Amit': 'Jaipur'}"
            ]
          },
          "metadata": {},
          "execution_count": 110
        }
      ]
    },
    {
      "cell_type": "code",
      "source": [
        "d_1={}.fromkeys([1,2,3,4])\n",
        "d_1"
      ],
      "metadata": {
        "colab": {
          "base_uri": "https://localhost:8080/"
        },
        "id": "dC1U8vTFR_cp",
        "outputId": "94652f07-a300-4137-e74e-d3d1a99ce926"
      },
      "id": "dC1U8vTFR_cp",
      "execution_count": null,
      "outputs": [
        {
          "output_type": "execute_result",
          "data": {
            "text/plain": [
              "{1: None, 2: None, 3: None, 4: None}"
            ]
          },
          "metadata": {},
          "execution_count": 111
        }
      ]
    },
    {
      "cell_type": "code",
      "source": [
        "d_2={1:\"A\",2:\"B\",3:\"C\"}\n",
        "d_3={4:\"A\",5:\"D\",3:\"F\"}\n",
        "d_2.update(d_3)\n",
        "d_2"
      ],
      "metadata": {
        "colab": {
          "base_uri": "https://localhost:8080/"
        },
        "id": "q0xrBSl7SQJG",
        "outputId": "7aafaaf6-00fb-4bde-f32f-d6cab82ae28a"
      },
      "id": "q0xrBSl7SQJG",
      "execution_count": null,
      "outputs": [
        {
          "output_type": "execute_result",
          "data": {
            "text/plain": [
              "{1: 'A', 2: 'B', 3: 'F', 4: 'A', 5: 'D'}"
            ]
          },
          "metadata": {},
          "execution_count": 112
        }
      ]
    },
    {
      "cell_type": "code",
      "source": [
        "d_4={1:\"A\",2:\"B\",3:\"C\"}\n",
        "d_3={4:\"A\",5:\"D\",3:\"F\"}\n",
        "d_5 = d_4 | d_3\n",
        "d_5"
      ],
      "metadata": {
        "colab": {
          "base_uri": "https://localhost:8080/"
        },
        "id": "KfXG4Ei1SxMi",
        "outputId": "2493503b-cc61-4f06-9cae-bf0415162322"
      },
      "id": "KfXG4Ei1SxMi",
      "execution_count": null,
      "outputs": [
        {
          "output_type": "execute_result",
          "data": {
            "text/plain": [
              "{1: 'A', 2: 'B', 3: 'F', 4: 'A', 5: 'D'}"
            ]
          },
          "metadata": {},
          "execution_count": 113
        }
      ]
    },
    {
      "cell_type": "code",
      "source": [
        "[i for i in d_5.values()]"
      ],
      "metadata": {
        "colab": {
          "base_uri": "https://localhost:8080/"
        },
        "id": "ykdCxt2BTE1f",
        "outputId": "ffca5583-3a35-4277-c139-8c3c05a30f02"
      },
      "id": "ykdCxt2BTE1f",
      "execution_count": null,
      "outputs": [
        {
          "output_type": "execute_result",
          "data": {
            "text/plain": [
              "['A', 'B', 'F', 'A', 'D']"
            ]
          },
          "metadata": {},
          "execution_count": 114
        }
      ]
    },
    {
      "cell_type": "code",
      "source": [
        "[i for i in d_5.keys()]"
      ],
      "metadata": {
        "colab": {
          "base_uri": "https://localhost:8080/"
        },
        "id": "IuRojhFKTPgT",
        "outputId": "eed757af-77a9-48c4-b345-42b446b4f051"
      },
      "id": "IuRojhFKTPgT",
      "execution_count": null,
      "outputs": [
        {
          "output_type": "execute_result",
          "data": {
            "text/plain": [
              "[1, 2, 3, 4, 5]"
            ]
          },
          "metadata": {},
          "execution_count": 115
        }
      ]
    },
    {
      "cell_type": "code",
      "source": [
        "[(i,j) for i,j in d_5.items()]"
      ],
      "metadata": {
        "colab": {
          "base_uri": "https://localhost:8080/"
        },
        "id": "tHJFK2JRTTzo",
        "outputId": "77544fba-5bd3-48f3-c720-8903cda317f7"
      },
      "id": "tHJFK2JRTTzo",
      "execution_count": null,
      "outputs": [
        {
          "output_type": "execute_result",
          "data": {
            "text/plain": [
              "[(1, 'A'), (2, 'B'), (3, 'F'), (4, 'A'), (5, 'D')]"
            ]
          },
          "metadata": {},
          "execution_count": 117
        }
      ]
    },
    {
      "cell_type": "code",
      "source": [
        "[i for i in d_5.items()]"
      ],
      "metadata": {
        "colab": {
          "base_uri": "https://localhost:8080/"
        },
        "id": "my53NQyfTjiK",
        "outputId": "d3126a25-8df2-4775-e81e-3a72446219c8"
      },
      "id": "my53NQyfTjiK",
      "execution_count": null,
      "outputs": [
        {
          "output_type": "execute_result",
          "data": {
            "text/plain": [
              "[(1, 'A'), (2, 'B'), (3, 'F'), (4, 'A'), (5, 'D')]"
            ]
          },
          "metadata": {},
          "execution_count": 118
        }
      ]
    },
    {
      "cell_type": "code",
      "source": [
        "del d_5[1]"
      ],
      "metadata": {
        "id": "cefXPsG2UDn0"
      },
      "id": "cefXPsG2UDn0",
      "execution_count": null,
      "outputs": []
    },
    {
      "cell_type": "code",
      "source": [
        "d_5"
      ],
      "metadata": {
        "colab": {
          "base_uri": "https://localhost:8080/"
        },
        "id": "Xtd8lEwjUL7Y",
        "outputId": "11431503-88a1-4642-b6b7-bb4cc729937d"
      },
      "id": "Xtd8lEwjUL7Y",
      "execution_count": null,
      "outputs": [
        {
          "output_type": "execute_result",
          "data": {
            "text/plain": [
              "{2: 'B', 3: 'F', 4: 'A', 5: 'D'}"
            ]
          },
          "metadata": {},
          "execution_count": 121
        }
      ]
    },
    {
      "cell_type": "code",
      "source": [
        "for i, j in enumerate(my_list,start=1):\n",
        "  print(f'Index: {i} , Value: {j}')"
      ],
      "metadata": {
        "colab": {
          "base_uri": "https://localhost:8080/"
        },
        "id": "qt7ADYw8UUYX",
        "outputId": "503ef62e-0ff7-400f-f00e-94537df995d0"
      },
      "id": "qt7ADYw8UUYX",
      "execution_count": null,
      "outputs": [
        {
          "output_type": "stream",
          "name": "stdout",
          "text": [
            "Index: 1 , Value: 1\n",
            "Index: 2 , Value: 3\n",
            "Index: 3 , Value: 3\n",
            "Index: 4 , Value: 4\n",
            "Index: 5 , Value: 5\n",
            "Index: 6 , Value: 7\n",
            "Index: 7 , Value: 7\n",
            "Index: 8 , Value: 9\n",
            "Index: 9 , Value: 10\n",
            "Index: 10 , Value: 11\n",
            "Index: 11 , Value: 12\n",
            "Index: 12 , Value: 16\n"
          ]
        }
      ]
    },
    {
      "cell_type": "code",
      "source": [
        "[(i,j) for i,j in enumerate(my_list,start=1)]\n"
      ],
      "metadata": {
        "colab": {
          "base_uri": "https://localhost:8080/"
        },
        "id": "AvRh53dKVa3q",
        "outputId": "4ed8cc6b-36cd-4a92-9157-dc8384efbe13"
      },
      "id": "AvRh53dKVa3q",
      "execution_count": null,
      "outputs": [
        {
          "output_type": "execute_result",
          "data": {
            "text/plain": [
              "[(1, 1),\n",
              " (2, 3),\n",
              " (3, 3),\n",
              " (4, 4),\n",
              " (5, 5),\n",
              " (6, 7),\n",
              " (7, 7),\n",
              " (8, 9),\n",
              " (9, 10),\n",
              " (10, 11),\n",
              " (11, 12),\n",
              " (12, 16)]"
            ]
          },
          "metadata": {},
          "execution_count": 125
        }
      ]
    },
    {
      "cell_type": "code",
      "source": [
        "a = map(lambda x:x*2, [1,2,3,4])\n",
        "a"
      ],
      "metadata": {
        "colab": {
          "base_uri": "https://localhost:8080/"
        },
        "id": "8RQKNhRCWPBD",
        "outputId": "86daba44-325f-4d21-ca3c-2f99cd72898c"
      },
      "id": "8RQKNhRCWPBD",
      "execution_count": null,
      "outputs": [
        {
          "output_type": "execute_result",
          "data": {
            "text/plain": [
              "<map at 0x7f3fd0a2ace0>"
            ]
          },
          "metadata": {},
          "execution_count": 127
        }
      ]
    }
  ],
  "metadata": {
    "kernelspec": {
      "display_name": "Python 3",
      "name": "python3"
    },
    "language_info": {
      "name": "python"
    },
    "colab": {
      "provenance": [],
      "include_colab_link": true
    }
  },
  "nbformat": 4,
  "nbformat_minor": 5
}