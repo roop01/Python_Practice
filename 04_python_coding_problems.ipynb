{
  "nbformat": 4,
  "nbformat_minor": 0,
  "metadata": {
    "colab": {
      "provenance": [],
      "authorship_tag": "ABX9TyPVN4M3zS8BZQRYgQTQQmJY",
      "include_colab_link": true
    },
    "kernelspec": {
      "name": "python3",
      "display_name": "Python 3"
    },
    "language_info": {
      "name": "python"
    }
  },
  "cells": [
    {
      "cell_type": "markdown",
      "metadata": {
        "id": "view-in-github",
        "colab_type": "text"
      },
      "source": [
        "<a href=\"https://colab.research.google.com/github/roop01/python-programming-practices/blob/main/04_python_coding_problems.ipynb\" target=\"_parent\"><img src=\"https://colab.research.google.com/assets/colab-badge.svg\" alt=\"Open In Colab\"/></a>"
      ]
    },
    {
      "cell_type": "markdown",
      "source": [
        "# **Python Coding Problems 4**\n",
        "\n",
        "**Problem 1**\n",
        "\n",
        "The number, 197, is called a circular prime because all rotations of the digits: 197, 971, and 719, are themselves prime. There are thirteen such primes below 100: 2, 3, 5, 7, 11, 13, 17, 31, 37, 71, 73, 79, and 97.\n",
        "\n",
        "Write a python program to find and display the number of circular primes less than the given limit."
      ],
      "metadata": {
        "id": "uV4dElmi5QfW"
      }
    },
    {
      "cell_type": "code",
      "execution_count": null,
      "metadata": {
        "colab": {
          "base_uri": "https://localhost:8080/"
        },
        "id": "iicJvkTJ17Rx",
        "outputId": "3cafc7d5-2556-4954-e833-8550ab9a75a2"
      },
      "outputs": [
        {
          "output_type": "stream",
          "name": "stdout",
          "text": [
            "[2, 3, 5, 7, 11, 13, 17, 31, 37, 71, 73, 79, 97]\n"
          ]
        }
      ],
      "source": [
        "def rotations(num):\n",
        "    s= str(num)\n",
        "    lst=[int(s[i:]+s[:i]) for i in range(len(s))]\n",
        "    return lst\n",
        "\n",
        "def check_prime(num):\n",
        "    if num<2:\n",
        "        return False\n",
        "\n",
        "    for i in range(2,(num//2)+1):\n",
        "        if num%i==0:\n",
        "            return False\n",
        "\n",
        "    return True\n",
        "\n",
        "def circular_prime(num):\n",
        "    prime=[]\n",
        "    for i in range(2,num+1):\n",
        "        Flag=False\n",
        "        l=rotations(i)\n",
        "        count=0\n",
        "        for j in l:\n",
        "          if check_prime(j):\n",
        "            count+=1\n",
        "        if count==len(l):\n",
        "            prime.append(i)\n",
        "\n",
        "    return prime\n",
        "\n",
        "print(circular_prime(100))\n"
      ]
    },
    {
      "cell_type": "markdown",
      "source": [
        "**Problem 2:**\n",
        "\n",
        "Find items whose price is more than 200."
      ],
      "metadata": {
        "id": "T7KxvEwjZiwO"
      }
    },
    {
      "cell_type": "code",
      "source": [
        "def new_dict(price):\n",
        "    new_dict={}\n",
        "    for i,j in price.items():\n",
        "        if j > 200:\n",
        "          new_dict[i]=j\n",
        "    return new_dict\n",
        "d={'MANGO': 150.45,'POMOGRANATE': 250.67, 'BANANA': 20.55,'CHERRY': 500.10,'ORANGE': 200.75}\n",
        "print(new_dict(d))\n"
      ],
      "metadata": {
        "colab": {
          "base_uri": "https://localhost:8080/"
        },
        "id": "904nbUCbCMSp",
        "outputId": "ed932cd5-d484-49f7-886d-ddac64b0800a"
      },
      "execution_count": null,
      "outputs": [
        {
          "output_type": "stream",
          "name": "stdout",
          "text": [
            "{'POMOGRANATE': 250.67, 'CHERRY': 500.1, 'ORANGE': 200.75}\n"
          ]
        }
      ]
    },
    {
      "cell_type": "markdown",
      "source": [
        "**Problem 3**\n",
        "\n",
        "Write code to find all twin prime number below 20. Twin prime number where difference between adjacent prime numbers is 2.\n",
        "\n",
        "example: 3:5,5:7,11:13,17:19"
      ],
      "metadata": {
        "id": "wWwRJbQS4IaS"
      }
    },
    {
      "cell_type": "code",
      "source": [
        "num = 20\n",
        "\n",
        "if num < 0:\n",
        "  print(0)\n",
        "\n",
        "if num < 3:\n",
        "  print(\"False\")\n",
        "\n",
        "Flag=None\n",
        "prime=[]\n",
        "\n",
        "for i in range(2, (num+1)):\n",
        "  for j in range(2, i):\n",
        "    if (i % j) == 0:\n",
        "      Flag=False\n",
        "      break\n",
        "    else:\n",
        "      Flag=True\n",
        "  if Flag:\n",
        "      prime.append(i)\n",
        "print(prime)\n",
        "\n",
        "s=\"\"\n",
        "for i in prime:\n",
        "  if (i+2) in prime:\n",
        "    s+=str(i)+\":\"+str(i+2)+\",\"\n",
        "\n",
        "print(s[:-1])"
      ],
      "metadata": {
        "colab": {
          "base_uri": "https://localhost:8080/"
        },
        "id": "OKdDApdYCPjw",
        "outputId": "2e2e6061-c94b-4f33-fe64-9ebf64fc4652"
      },
      "execution_count": null,
      "outputs": [
        {
          "output_type": "stream",
          "name": "stdout",
          "text": [
            "[3, 5, 7, 11, 13, 17, 19]\n",
            "3:5,5:7,11:13,17:19\n"
          ]
        }
      ]
    },
    {
      "cell_type": "code",
      "source": [
        "\n",
        "def check_prime(num):\n",
        "  Flag = None\n",
        "  for i in range(2,num):\n",
        "      if num%i==0:\n",
        "          Flag = False\n",
        "          break\n",
        "      else:\n",
        "          Flag = True\n",
        "  return Flag\n",
        "\n",
        "num=20\n",
        "prime=[]\n",
        "for i in range(2, num+1):\n",
        "    if check_prime(i):\n",
        "        prime.append(i)\n",
        "\n",
        "print(prime)\n"
      ],
      "metadata": {
        "colab": {
          "base_uri": "https://localhost:8080/"
        },
        "id": "7SS3Gw8KGTcr",
        "outputId": "0202dceb-f09f-4b89-91cc-ca83d45bc047"
      },
      "execution_count": null,
      "outputs": [
        {
          "output_type": "stream",
          "name": "stdout",
          "text": [
            "[3, 5, 7, 11, 13, 17, 19]\n"
          ]
        }
      ]
    },
    {
      "cell_type": "markdown",
      "source": [
        "**Problem 4**\n",
        "\n",
        "Perform String Validation"
      ],
      "metadata": {
        "id": "6JXg2nvl6VyQ"
      }
    },
    {
      "cell_type": "code",
      "source": [
        "str1= 'rkpesh#@' #'temperature'   #'rkpesh' ''\n",
        "str2=  'mdn'\n",
        "str3= 'rmde#@' #'exAmpLe' #'rxdy'  #'rdme#@'   #'rmde#@'\n",
        "\n",
        "\n",
        "Valid=False\n",
        "count=0\n",
        "\n",
        "for i in str3:\n",
        "  if (str3.count(i) <= str1.count(i)+str2.count(i)):\n",
        "    count+=1\n",
        "\n",
        "if count==len(str3):\n",
        "  Valid=True\n",
        "\n",
        "s_index=[]\n",
        "if Valid==True:\n",
        "    for i in str3:\n",
        "        if (i in str1) and (i in str2):\n",
        "            s_index.append(max(str1.rindex(i),str2.rindex(i)))\n",
        "        elif (i in str1):\n",
        "            s_index.append(str1.rindex(i))\n",
        "        elif (i in str2):\n",
        "            s_index.append(str2.rindex(i))\n",
        "        else:\n",
        "            Valid=False\n",
        "\n",
        "if Valid==True:\n",
        "  if len(str3)==len(s_index) and s_index == sorted(s_index):\n",
        "    print(\"1\")\n",
        "  else:\n",
        "    print(\"0\")\n",
        "else:\n",
        "  print(\"0\")"
      ],
      "metadata": {
        "colab": {
          "base_uri": "https://localhost:8080/"
        },
        "id": "e36WA_Q6IH5a",
        "outputId": "caed1d64-b810-4c85-ff82-db2f3196d455"
      },
      "execution_count": 52,
      "outputs": [
        {
          "output_type": "stream",
          "name": "stdout",
          "text": [
            "1\n"
          ]
        }
      ]
    },
    {
      "cell_type": "markdown",
      "source": [
        "**Problem 5**\n",
        "\n",
        "Use of rsplit()"
      ],
      "metadata": {
        "id": "vuHOgtLE68Jz"
      }
    },
    {
      "cell_type": "code",
      "source": [
        "st='Happy Christmas and Happy new year'\n",
        "if(st.startswith('Happy')):\n",
        "    x=st.rsplit('Happy')\n",
        "print(x)\n",
        "print(len(x))"
      ],
      "metadata": {
        "colab": {
          "base_uri": "https://localhost:8080/"
        },
        "id": "SghtE_BE_1F9",
        "outputId": "b07ac567-9b88-46c9-97fe-bb8d968a3c33"
      },
      "execution_count": null,
      "outputs": [
        {
          "output_type": "stream",
          "name": "stdout",
          "text": [
            "['', ' Christmas and ', ' new year']\n",
            "3\n"
          ]
        }
      ]
    },
    {
      "cell_type": "markdown",
      "source": [
        "**Problem 6**\n",
        "\n",
        "Use Luhn algorithm to validate a credit card number.\n",
        "A credit card number has 16 digits, the last digit being the check digit. A credit card number can be validated using Luhn algorithm as follows:\n",
        "\n",
        "**Step 1a**: From the second last digit (inclusive), double the value of every second digit.\n",
        "\n",
        "Suppose the credit card number is 1456734512345698.\n",
        "\n",
        "Take the double of 9,5,3,1,4,7,5 and 1\n",
        "i.e., 18, 10, 6, 2, 8, 14, 10 and 2\n",
        "\n",
        "Note: If any number is greater than 9, then sum the digits of that number.\n",
        "i.e., 9, 1, 6, 2, 8, 5 ,1 and 2\n",
        "\n",
        "**Step 1b**: Sum the numbers obtained in Step 1a.\n",
        "\n",
        "i.e., 34\n",
        "\n",
        "**Step 2**: Sum the remaining digits in the credit card and add it with the sum from Step 1b.\n",
        "\n",
        "i.e., 34 + (8+6+4+2+5+3+6+4) = 72\n",
        "\n",
        "**Step 3**: If the total is divisible by 10 then the number is valid else it is not valid.\n",
        "\n",
        "Write a function, validate_credit_card_number(), which accepts a 16 digit credit card number and returns true if it is valid as per Luhn’s algorithm or false, if it is invalid.\n"
      ],
      "metadata": {
        "id": "a4GSYW_NZFr9"
      }
    },
    {
      "cell_type": "code",
      "source": [
        "cc = 5239512608615007 #4539869650133101  #1456734512345698 # #5239512608615007\n",
        "\n",
        "cc_str=str(cc)\n",
        "\n",
        "sum1=0\n",
        "sum2=0\n",
        "\n",
        "for i in range(0,len(cc_str)):\n",
        "  if i%2==0:\n",
        "    n = int(cc_str[i])*2\n",
        "    if n>9:\n",
        "      s=0\n",
        "      s=sum(int(k) for k in str(n))\n",
        "      sum1+=s\n",
        "    else:\n",
        "      sum1+=n\n",
        "  else:\n",
        "    sum2+=int(cc_str[i])\n",
        "\n",
        "if (sum1+sum2)%10==0:\n",
        "  print(\"Credit Card Number Valid\")\n",
        "else:\n",
        "  print(\"Credit Card Number invalid\")\n"
      ],
      "metadata": {
        "colab": {
          "base_uri": "https://localhost:8080/"
        },
        "id": "1MJCjINXLKN4",
        "outputId": "3aa5efce-d739-47b0-df34-347f7b228a72"
      },
      "execution_count": null,
      "outputs": [
        {
          "output_type": "stream",
          "name": "stdout",
          "text": [
            "Credit Card Number Valid\n"
          ]
        }
      ]
    },
    {
      "cell_type": "markdown",
      "source": [
        "**Problem 7**\n",
        "\n",
        "Write a python program to validate the details provided by a user as part of registering to a web application.\n",
        "\n",
        "Write a function validate_name(name) to validate the user name\n",
        "\n",
        "    Name should not be empty, name should not exceed 15 characters\n",
        "    Name should contain only alphabets\n",
        "\n",
        "Write a function validate_phone_no(phoneno) to validate the phone number\n",
        "\n",
        "    Phone number should have 10 digits\n",
        "    Phone number should not have any characters or special characters\n",
        "    All the digits of the phone number should not be same.\n",
        "    Example: 9999999999 is not a valid phone number\n",
        "\n",
        "Write a function validate_email_id(email_id) to validate email Id\n",
        "\n",
        "    It should contain one '@' character and '.com'\n",
        "    '.com' should be present at the end of the email id.\n",
        "    Domain name should be either 'gmail', 'yahoo' or 'hotmail'\n",
        "\n",
        "Note: Consider the format of email id to be username@domain_name.com\n",
        "\n",
        "All the functions should return true if the corresponding value is valid. Otherwise, it should return false.\n",
        "\n",
        "Write a function validate_all(name,phone_no,email_id) which should invoke appropriate functions to validate the arguments passed to it and display appropriate message. Refer the comments provided in the code.\n",
        "\n",
        "Note: You may use str.isalpha(), str.isdigit() methods to check whether a string contains alphabets or digits alone.\n"
      ],
      "metadata": {
        "id": "FBx2OKwAobgj"
      }
    },
    {
      "cell_type": "code",
      "source": [
        "def check_name(name):\n",
        "  if len(name) == 0 or len(name) >15 or (not name.isalpha()):\n",
        "    return False\n",
        "  else:\n",
        "    return True\n",
        "\n",
        "def check_phone(ph_num):\n",
        "    if len(ph_num)==10 and ph_num.isdigit() and (ph_num.count(ph_num[0])!=10):\n",
        "      return True\n",
        "    else:\n",
        "      return False\n",
        "\n",
        "def check_email(email):\n",
        "    if email.count('@')==1 and email.count('.com')==1 and email[-4:]=='.com' and email.count(\".\")==1:\n",
        "      if email[(email.index('@')+1):-4].lower() in ['gmail', 'yahoo', 'hotmail']:\n",
        "        return True\n",
        "      else:\n",
        "        return False\n",
        "    else:\n",
        "      return False\n",
        "\n",
        "def validate_all(name,phone_no,email_id):\n",
        "    if(not check_name(name)):\n",
        "        print(\"Invalid Name\")\n",
        "    elif(not check_phone(phone_no)):\n",
        "        print(\"Invalid phone number\")\n",
        "    elif(not check_email(email_id)):\n",
        "        print(\"Invalid email id\")\n",
        "    else:\n",
        "        print(\"All the details are valid\")\n",
        "\n",
        "validate_all(\"Tina\", \"9994599399\", \"tina@yahoo.com\")\n"
      ],
      "metadata": {
        "colab": {
          "base_uri": "https://localhost:8080/"
        },
        "id": "oUdcbCVYgyti",
        "outputId": "d8f439bd-6598-4aa8-b662-3bfe84a4a261"
      },
      "execution_count": null,
      "outputs": [
        {
          "output_type": "stream",
          "name": "stdout",
          "text": [
            "All the details are valid\n"
          ]
        }
      ]
    },
    {
      "cell_type": "markdown",
      "source": [
        "**Problem 8**\n",
        "\n",
        "Write a python program to help an airport manager to generate few statistics based on the ticket details available for a day.\n",
        "\n",
        "1. This function finds and returns the number of passengers travelling in the specified airline.\n",
        "\n",
        "2. Write the logic to find and return the number of passengers traveling to the specified destination\n",
        "\n",
        "3. Write the logic to find and return a list having number of passengers traveling per flight based on the details in the ticket_list.\n",
        "\n",
        "    In the list, details should be provided in the format:\n",
        "    \n",
        "    [flight_no:no_of_passengers, flight_no:no_of_passengers, etc.]\n",
        "\n",
        "4. Write the logic to sort the list returned from find_passengers_per_flight() function in the descending order of number of passengers\n",
        "    "
      ],
      "metadata": {
        "id": "ySsdtiJWqr27"
      }
    },
    {
      "cell_type": "code",
      "source": [
        "ticket_list=[\"AI567:MUM:LON:014\",\"AI077:MUM:LON:056\", \"BA896:MUM:LON:067\", \"SI267:MUM:SIN:145\",\"AI077:MUM:CAN:060\",\"SI267:BLR:MUM:148\",\"AI567:CHE:SIN:015\",\"AI077:MUM:SIN:050\",\"AI077:MUM:LON:051\",\"SI267:MUM:SIN:146\"]\n",
        "\n",
        "\n",
        "#\"flight_no:source:destination:ticket_no\"\n",
        "\n",
        "def find_pass(airline_name):\n",
        "    count=0\n",
        "    for i in ticket_list:\n",
        "      j=i.split(':')[0]\n",
        "      if j[:2].lower()==airline_name.lower():\n",
        "        count+=1\n",
        "    return count\n",
        "\n",
        "def find_dest(dest):\n",
        "  count=0\n",
        "  for i in ticket_list:\n",
        "    j=i.split(':')[2]\n",
        "    if j==dest:\n",
        "      count+=1\n",
        "  return count\n",
        "\n",
        "#[flight_no:no_of_passengers, flight_no:no_of_passengers, etc.]\n",
        "\n",
        "def pass_per_flt():\n",
        "  flight_set=[]\n",
        "  no_pass=[]\n",
        "  for i in ticket_list:\n",
        "    j=i.split(':')\n",
        "    flight_set.append(j[0])\n",
        "\n",
        "  flights = []\n",
        "  flights=list(set(flight_set))\n",
        "\n",
        "  p_f=[]\n",
        "  for f in flights:\n",
        "    f_cnt=flight_set.count(f)\n",
        "    p_f.append(f + \":\" + str(f_cnt))\n",
        "\n",
        "  return p_f\n",
        "\n",
        "def sort_pss():\n",
        "\n",
        "  l=pass_per_flt()\n",
        "  l.sort(key=lambda x:x.split(\":\")[1],reverse =True)\n",
        "  return l\n",
        "  '''\n",
        "  d_s={}\n",
        "  for i in l:\n",
        "    j = i.split(':')\n",
        "    d_s[j[0]]=j[1]\n",
        "  print(d_s)\n",
        "  d=dict(sorted(d_s.items(), key=lambda x:x[1], reverse=True))\n",
        "\n",
        "  sorted_list=[]\n",
        "  for j,k in d.items():\n",
        "      sorted_list.append(j + \":\" + str(k))\n",
        "\n",
        "  return sorted_list'''\n",
        "\n",
        "print(find_pass(\"AI\"))\n",
        "print(find_dest(\"LON\"))\n",
        "print(sort_pss())\n",
        "\n"
      ],
      "metadata": {
        "colab": {
          "base_uri": "https://localhost:8080/"
        },
        "id": "5W__QV7Oq5gU",
        "outputId": "8feee9c6-5eea-4b77-ba6d-a592a2627327"
      },
      "execution_count": 37,
      "outputs": [
        {
          "output_type": "stream",
          "name": "stdout",
          "text": [
            "6\n",
            "4\n",
            "['AI077:4', 'SI267:3', 'AI567:2', 'BA896:1']\n"
          ]
        }
      ]
    },
    {
      "cell_type": "markdown",
      "source": [
        "**Problem 9**\n",
        "\n",
        "Sorting Lists and Dictionary\n",
        "\n"
      ],
      "metadata": {
        "id": "NuOkXrkeUkLS"
      }
    },
    {
      "cell_type": "code",
      "source": [
        "dict_1={'AI077': '4', 'BA896': '1', 'SI267': '3', 'AI567': '2'}\n",
        "list_1=['AI077:4', 'BA896:1', 'SI267:3', 'AI567:2']\n",
        "people = [(\"Alice\", 25), (\"Bob\", 30), (\"Charlie\", 22), (\"David\", 28)]\n",
        "\n",
        "k_seq = ('foo', 'bar', 'baz')\n",
        "v_seq = (0, 1, 42)\n",
        "ordered_map = dict(zip(k_seq, v_seq))\n",
        "print(ordered_map)\n",
        "\n",
        "list_1.sort(key=lambda x:x.split(':')[1], reverse =True)\n",
        "print(list_1)\n",
        "\n",
        "people.sort(key=lambda x: x[1], reverse=True)\n",
        "print(people)\n",
        "\n",
        "dict_2= sorted(dict_1.items(), key=lambda x:x[1],  reverse=True)\n",
        "print(dict_2)\n",
        "\n",
        "s = \"geekforgeeks\"\n",
        "print(\"\".join(sorted(s, reverse=True)))"
      ],
      "metadata": {
        "id": "v6IwdGiy1z5j",
        "colab": {
          "base_uri": "https://localhost:8080/"
        },
        "outputId": "ddb0ea79-b26d-4362-b003-8da6a365d78b"
      },
      "execution_count": 25,
      "outputs": [
        {
          "output_type": "stream",
          "name": "stdout",
          "text": [
            "{'foo': 0, 'bar': 1, 'baz': 42}\n",
            "['AI077:4', 'SI267:3', 'AI567:2', 'BA896:1']\n",
            "[('Bob', 30), ('David', 28), ('Alice', 25), ('Charlie', 22)]\n",
            "[('AI077', '4'), ('SI267', '3'), ('AI567', '2'), ('BA896', '1')]\n",
            "srokkggfeeee\n"
          ]
        }
      ]
    },
    {
      "cell_type": "markdown",
      "source": [
        "**Problem 10**\n",
        "\n",
        "List method remove"
      ],
      "metadata": {
        "id": "L-kuGY5jU4jG"
      }
    },
    {
      "cell_type": "code",
      "source": [
        "list1 = [1, 2, 3, 4, 1, 1, 1, 4, 5]\n",
        "while(list1.count(1)):\n",
        "  list1.remove(1)\n",
        "print(list1)\n",
        "\n",
        "mylist = [1, 2, 3, 2, 2]\n",
        "\n",
        "while 2 in mylist:\n",
        "    mylist.remove(2)\n",
        "\n",
        "print(mylist)\n",
        "\n",
        "list2 = [1, 2, 3, 4, 1, 1, 1, 4, 5]\n",
        "print([i for i in list2 if i!=1])\n",
        "\n",
        "if 4 in list2:\n",
        "    list2.remove(4)\n",
        "\n",
        "numbers = [1, 2, 5, 3, 4, 5]\n",
        "numbers = list(filter(lambda x: x != 5, numbers))\n",
        "print(numbers)\n",
        "\n",
        "X = ['sf', 'cc', 'ch', 'sc', 'sh', 'ch']\n",
        "if 'ch' in X:\n",
        "    X.reverse()\n",
        "    X.remove('ch')\n",
        "    X.reverse()\n",
        "print(X)"
      ],
      "metadata": {
        "colab": {
          "base_uri": "https://localhost:8080/"
        },
        "id": "lZP-Eohtv9-r",
        "outputId": "dc774ac3-2e3c-49bf-96b3-0de71b81cb2c"
      },
      "execution_count": 53,
      "outputs": [
        {
          "output_type": "stream",
          "name": "stdout",
          "text": [
            "[2, 3, 4, 4, 5]\n",
            "[1, 3]\n",
            "[2, 3, 4, 4, 5]\n",
            "[1, 2, 3, 4]\n",
            "['sf', 'cc', 'ch', 'sc', 'sh']\n"
          ]
        }
      ]
    }
  ]
}