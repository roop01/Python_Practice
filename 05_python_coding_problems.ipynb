{
  "nbformat": 4,
  "nbformat_minor": 0,
  "metadata": {
    "colab": {
      "provenance": [],
      "authorship_tag": "ABX9TyP1h7menbhEn+kutUM8t34A",
      "include_colab_link": true
    },
    "kernelspec": {
      "name": "python3",
      "display_name": "Python 3"
    },
    "language_info": {
      "name": "python"
    }
  },
  "cells": [
    {
      "cell_type": "markdown",
      "metadata": {
        "id": "view-in-github",
        "colab_type": "text"
      },
      "source": [
        "<a href=\"https://colab.research.google.com/github/roop01/python-programming-practices/blob/main/05_python_coding_problems.ipynb\" target=\"_parent\"><img src=\"https://colab.research.google.com/assets/colab-badge.svg\" alt=\"Open In Colab\"/></a>"
      ]
    },
    {
      "cell_type": "markdown",
      "source": [
        "# **Python Coding Problems Part 5**\n",
        "\n",
        "**Problem 1**\n",
        "\n",
        "Write a Python function which accepts a string and returns a string made of the first 2 and the last 2 characters of the given string.\n",
        "\n",
        "If the string length is less than 2, return -1.\n",
        "\n",
        "Note: If the string length is equal to 2, consider the 2 characters to be the first as well as the last two characters.\n",
        "\n",
        "\n",
        "    Sample Input          Expected Output\n",
        "\n",
        "    w3resource               w3ce\n",
        "\n",
        "    w3                       w3w3\n",
        "\n",
        "    A                         -1"
      ],
      "metadata": {
        "id": "4JP6vm626a_l"
      }
    },
    {
      "cell_type": "code",
      "execution_count": 7,
      "metadata": {
        "colab": {
          "base_uri": "https://localhost:8080/"
        },
        "id": "AB5Am6a_6D6S",
        "outputId": "7c1e0551-ada1-4355-981e-81cce3e2d0c9"
      },
      "outputs": [
        {
          "output_type": "stream",
          "name": "stdout",
          "text": [
            "w3ce\n"
          ]
        }
      ],
      "source": [
        "s1='w3resource'\n",
        "\n",
        "res=''\n",
        "if len(s1)<2:\n",
        "  print(\"-1\")\n",
        "elif len(s1)==2:\n",
        "  res=s1*2\n",
        "else:\n",
        "  res=s1[:2]+s1[-2:]\n",
        "print(res)"
      ]
    },
    {
      "cell_type": "markdown",
      "source": [
        "**Problem 2**\n",
        "\n",
        "Write a python function which accepts a sentence and returns a list in which first value is the count of upper case letters and second value is the count of lower case letters in the sentence. Ignore spaces, numbers and other special characters if any.\n",
        "\n",
        "    Sample Input           Expected Output\n",
        "\n",
        "    Hello world!             [1,9]\n",
        "\n",
        "    Welcome to Mysore       [2,13]"
      ],
      "metadata": {
        "id": "aq_v-2_U8GKL"
      }
    },
    {
      "cell_type": "code",
      "source": [
        "sen='Hello world!'\n",
        "\n",
        "s1=sen.strip().replace(\" \",\"\")\n",
        "\n",
        "u=0\n",
        "l=0\n",
        "for i in s1:\n",
        "  if i.isalpha() and i.isupper():\n",
        "    u+=1\n",
        "  elif i.isalpha() and i.islower():\n",
        "    l+=1\n",
        "  else:\n",
        "    continue\n",
        "\n",
        "l1=[u,l]\n",
        "print(l1)\n",
        ""
      ],
      "metadata": {
        "colab": {
          "base_uri": "https://localhost:8080/"
        },
        "id": "yBYysKh28lbs",
        "outputId": "2e675035-ab0b-414a-ea52-77ae39c360c0"
      },
      "execution_count": 17,
      "outputs": [
        {
          "output_type": "stream",
          "name": "stdout",
          "text": [
            "[1, 9]\n"
          ]
        }
      ]
    },
    {
      "cell_type": "markdown",
      "source": [
        "**Problem 3**\n",
        "\n",
        "Write a python function to generate and return the list of all possible sentences created from the given lists of Subject, Verb and Object.\n",
        "Note: The sentence should contain only one subject, verb and object each.\n",
        "\n",
        "    Sample Input                          Expected Output\n",
        "\n",
        "    subjects=[\"I\", \"You\"]                 I Play Hockey  \n",
        "                                          I Play Football\n",
        "    verbs=[\"Play\", \"Love\"]                I Love Hockey\n",
        "                                          I Love Football\n",
        "    objects=[\"Hockey\",\"Football\"]         You Play Hockey\n",
        "                                        You Play Football\n",
        "                                          You Love Hockey\n",
        "                                        You Love Football"
      ],
      "metadata": {
        "id": "tx3-fxZU-mQ2"
      }
    },
    {
      "cell_type": "code",
      "source": [
        "sub=[\"I\", \"You\"]\n",
        "v=[\"Play\", \"Love\"]\n",
        "o=[\"Hockey\",\"Football\"]\n",
        "\n",
        "sen = []\n",
        "for i in sub:\n",
        "  for j in v:\n",
        "    for k in o:\n",
        "      s=\"\"\n",
        "      s= i + \" \" + j + \" \" + k\n",
        "      sen.append(s)\n",
        "\n",
        "for n in sen:\n",
        "  print(n)\n",
        "\n",
        "\n"
      ],
      "metadata": {
        "colab": {
          "base_uri": "https://localhost:8080/"
        },
        "id": "6UkKrSYb-y32",
        "outputId": "1f65255a-d8ce-4b7e-a1e4-a59042e0f611"
      },
      "execution_count": 19,
      "outputs": [
        {
          "output_type": "stream",
          "name": "stdout",
          "text": [
            "I Play Hockey\n",
            "I Play Football\n",
            "I Love Hockey\n",
            "I Love Football\n",
            "You Play Hockey\n",
            "You Play Football\n",
            "You Love Hockey\n",
            "You Love Football\n"
          ]
        }
      ]
    },
    {
      "cell_type": "markdown",
      "source": [
        "**Problem 4**\n",
        "\n",
        "Write a python function which accepts three numbers and returns True if\n",
        "\n",
        "a. one of the three numbers is \"close\" to any one of the other numbers (differing from a number by at most 1), and\n",
        "\n",
        "b.Number that is left out is \"far\", differing from both other values by 2 or more.\n",
        "Return false if the above mentioned conditions are not satisfied.\n",
        "\n",
        "Sample Input             Expected Output\n",
        "\n",
        "4,1,3                      True\n",
        "\n",
        "5,6,7                      False"
      ],
      "metadata": {
        "id": "muHRbS1O__pt"
      }
    },
    {
      "cell_type": "code",
      "source": [
        "num1,num2,num3 = 5,6,2\n",
        "\n",
        "flag=False\n",
        "n=0\n",
        "\n",
        "if abs(num1-num2)==1:\n",
        "  n=num3\n",
        "  flag=True\n",
        "elif abs(num1-num3)==1:\n",
        "  n=num2\n",
        "  flag=True\n",
        "elif abs(num2-num3)==1:\n",
        "  n=num1\n",
        "  flag=True\n",
        "\n",
        "if flag==True and n!=0:\n",
        "  if n==num1 and (abs(n-num2)>=2) and (abs(n-num3)>=2):\n",
        "    f1=True\n",
        "  elif n==num2 and (abs(n-num1)>=2) and (abs(n-num3)>=2):\n",
        "    f1=True\n",
        "  elif n==num3 and (abs(n-num1)>=2) and (abs(n-num2)>=2):\n",
        "    f1=True\n",
        "  else:\n",
        "    f1=False\n",
        "\n",
        "print(num1,num2,num3,f1)\n",
        "\n",
        "\n",
        "\n"
      ],
      "metadata": {
        "colab": {
          "base_uri": "https://localhost:8080/"
        },
        "id": "BsLO5ySqBykv",
        "outputId": "45ad9809-73f6-4b1a-c450-56fd868d5ccc"
      },
      "execution_count": 24,
      "outputs": [
        {
          "output_type": "stream",
          "name": "stdout",
          "text": [
            "5 6 2 True\n"
          ]
        }
      ]
    },
    {
      "cell_type": "markdown",
      "source": [
        "**Problem 5**\n",
        "\n",
        "Write a python function which accepts a list of numbers and returns true if the list contains a 2 next to a 2. Otherwise it should return false.\n",
        "\n",
        "Sample Input                  Expected Output\n",
        "\n",
        "[ 1,2,1,2,3,4,5,2,2]              True\n",
        "\n",
        "[3,2,5,1,2,1,2]                   False"
      ],
      "metadata": {
        "id": "1l9tc_gtE70Q"
      }
    },
    {
      "cell_type": "code",
      "source": [
        "l1=[3,2,5,1,2,1,2]\n",
        "\n",
        "Flag=False\n",
        "for i in range(0,(len(l1)-1)):\n",
        "  if (l1[i] == l1[i+1] ==2):\n",
        "    Flag=True\n",
        "\n",
        "print(l1, Flag)"
      ],
      "metadata": {
        "colab": {
          "base_uri": "https://localhost:8080/"
        },
        "id": "fCV1qfclFGjQ",
        "outputId": "57aad59d-0012-4291-bd30-3bdcfb1ee138"
      },
      "execution_count": 29,
      "outputs": [
        {
          "output_type": "stream",
          "name": "stdout",
          "text": [
            "[3, 2, 5, 1, 2, 1, 2] False\n"
          ]
        }
      ]
    },
    {
      "cell_type": "markdown",
      "source": [
        "**Problem 6**\n",
        "\n",
        "Write a Python function to rotate the list of elements by N positions. The function should return the rotated list.\n",
        "\n",
        "\n",
        "    Sample Input                                  Expected Output\n",
        "\n",
        "    Input list: [1, 2, 3, 4, 5, 6]\n",
        "    Number of positions to be rotated = 2         [5, 6, 1, 2, 3, 4]\n",
        "\n",
        "    Input list: [1, 2, 3, 4, 5, 6]      \n",
        "    Number of positions to be rotated = 4           [3,4,5, 6, 1, 2]\n",
        "\n",
        "Note : Assume that number of positions to be rotated is always a value >= 0 and <= length of the input list."
      ],
      "metadata": {
        "id": "bfw-Ry82F7--"
      }
    },
    {
      "cell_type": "code",
      "source": [
        "l1 =  [1, 2, 3, 4, 5, 6]\n",
        "n= 4\n",
        "if n>=0 and n<=len(l1):\n",
        "  n1=l1[-n:]+l1[:-n]\n",
        "  print(n1)\n",
        "else:\n",
        "  print(l1)\n"
      ],
      "metadata": {
        "colab": {
          "base_uri": "https://localhost:8080/"
        },
        "id": "t0w-4seDGhnA",
        "outputId": "c2d84c6c-f476-42e9-b579-6149e05fec0b"
      },
      "execution_count": 32,
      "outputs": [
        {
          "output_type": "stream",
          "name": "stdout",
          "text": [
            "[3, 4, 5, 6, 1, 2]\n"
          ]
        }
      ]
    },
    {
      "cell_type": "markdown",
      "source": [
        "**Problem 7**\n",
        "\n",
        "Write a python function to find out whether a number is divisible by the sum of its digits. If so return True,else return False.\n"
      ],
      "metadata": {
        "id": "qMklvtitIHSo"
      }
    },
    {
      "cell_type": "code",
      "source": [
        "def check_div(num1):\n",
        "\n",
        "  c=0\n",
        "  s = str(num1)\n",
        "  if num1>0:\n",
        "    for i in s:\n",
        "      c+=int(i)\n",
        "  if num1%c==0:\n",
        "    return True\n",
        "  else:\n",
        "    return False\n",
        "\n",
        "n=66\n",
        "print(check_div(n))\n",
        "\n"
      ],
      "metadata": {
        "colab": {
          "base_uri": "https://localhost:8080/"
        },
        "id": "9idzOdQQInyD",
        "outputId": "92535f16-c591-45e1-bc87-1e168927b302"
      },
      "execution_count": 52,
      "outputs": [
        {
          "output_type": "stream",
          "name": "stdout",
          "text": [
            "False\n"
          ]
        }
      ]
    },
    {
      "cell_type": "markdown",
      "source": [
        "**Problem 8**\n",
        "\n",
        "Write a python function that accepts a list of words and returns the list of integers representing the length of the corresponding words.\n",
        "\n",
        "    Sample Input           Expected Output\n",
        "\n",
        "    [cat, Come]               [3,4]"
      ],
      "metadata": {
        "id": "GMZQMf6IMdFT"
      }
    },
    {
      "cell_type": "code",
      "source": [
        "l1=['cat', 'Come']\n",
        "\n",
        "l2=[]\n",
        "for i in l1:\n",
        "  l2.append(len(i))\n",
        "print(l2)\n",
        "\n"
      ],
      "metadata": {
        "colab": {
          "base_uri": "https://localhost:8080/"
        },
        "id": "MI9v9VesMj_T",
        "outputId": "8e616c4b-699e-43d7-8362-bdc004d7b8d1"
      },
      "execution_count": 53,
      "outputs": [
        {
          "output_type": "stream",
          "name": "stdout",
          "text": [
            "[3, 4]\n"
          ]
        }
      ]
    },
    {
      "cell_type": "markdown",
      "source": [
        "**Problem 9**\n",
        "\n",
        "Given a string, write a python function to return True if the strings \"mat\" and \"jet\" appear the same number of times in the given string, else return False.\n",
        "\n",
        "Note: Perform case insensitive string comparison wherever necessary.\n",
        "\n",
        "\n",
        "    Sample Input                                    Expected Output\n",
        "\n",
        "    Jet on the Mat but mat is too long                  False\n",
        "\n",
        "    mat jet Jet Mat                                     True"
      ],
      "metadata": {
        "id": "FlNNIs8PNaei"
      }
    },
    {
      "cell_type": "code",
      "source": [
        "def match_str(str1):\n",
        "\n",
        "  if str1.lower().count('mat') == str1.lower().count('jet'):\n",
        "    return True\n",
        "  else:\n",
        "    return False\n",
        "\n",
        "match_str(\"Jet on the Mat but mat is too long\")\n"
      ],
      "metadata": {
        "colab": {
          "base_uri": "https://localhost:8080/"
        },
        "id": "4SLz8cUnNnfb",
        "outputId": "6d5b5600-fb45-4ea0-be29-be9ae6e9200a"
      },
      "execution_count": 54,
      "outputs": [
        {
          "output_type": "execute_result",
          "data": {
            "text/plain": [
              "False"
            ]
          },
          "metadata": {},
          "execution_count": 54
        }
      ]
    },
    {
      "cell_type": "markdown",
      "source": [
        "**Problem 10**\n",
        "\n",
        "Given 2 positive integers, write a python function to return True if one of them is 10 or if their sum is 10, else return False.\n",
        "\n",
        "Sample Input                Expected Output\n",
        "\n",
        "10,9                           True\n",
        "\n",
        "2,8                            True\n",
        "\n",
        "2,9                            False"
      ],
      "metadata": {
        "id": "4kpMi0_KOZne"
      }
    },
    {
      "cell_type": "code",
      "source": [
        "def find_ten(num1, num2):\n",
        "  if num1<0 and num2<0:\n",
        "    return False\n",
        "  else:\n",
        "    if (num1==10 or num2==10) or (sum(num1,num2)==10):\n",
        "      return True\n",
        "    else:\n",
        "      return False\n",
        "\n",
        "print(find_ten(10,9))\n",
        ""
      ],
      "metadata": {
        "colab": {
          "base_uri": "https://localhost:8080/"
        },
        "id": "a19ZnjDYOf0S",
        "outputId": "bb92b9de-18a2-4bb7-972f-c382b6383bd9"
      },
      "execution_count": 55,
      "outputs": [
        {
          "output_type": "stream",
          "name": "stdout",
          "text": [
            "True\n"
          ]
        }
      ]
    },
    {
      "cell_type": "markdown",
      "source": [
        "**Problem 11**\n",
        "\n",
        "Given a list of numbers, write a python function to exchange the first n/2 elements of a list with the last n/2 elements. The function should return the new list.\n",
        "\n",
        "n represents the number of elements in the list. Assume that it will always be even.\n",
        "\n",
        "    Sample Input                         Expected Output\n",
        "\n",
        "    [1,2,3,4,5,6,7,8,9,10]           [10,9,8,7,6,1,2,3,4,5]"
      ],
      "metadata": {
        "id": "nlIKcvTDPVe1"
      }
    },
    {
      "cell_type": "code",
      "source": [
        "l1=[1,2,3,4,5,6,7,8,9,10]\n",
        "\n",
        "n=len(l1)//2\n",
        "\n",
        "n1=l1[n:]\n",
        "n1.reverse()\n",
        "n1+=l1[:n]\n",
        "print(n1)\n",
        "\n"
      ],
      "metadata": {
        "colab": {
          "base_uri": "https://localhost:8080/"
        },
        "id": "dKE4blI2PkrM",
        "outputId": "1bd4399d-5699-4b0c-8d53-4985c7e98dcb"
      },
      "execution_count": 72,
      "outputs": [
        {
          "output_type": "stream",
          "name": "stdout",
          "text": [
            "[10, 9, 8, 7, 6, 1, 2, 3, 4, 5]\n"
          ]
        }
      ]
    },
    {
      "cell_type": "code",
      "source": [
        "l = {'a1':\"1\", 'a2': \"2\", 'a3':\"3\"}\n",
        "for x,y in l:\n",
        "    print(x[0], y[0], end = \" \")"
      ],
      "metadata": {
        "colab": {
          "base_uri": "https://localhost:8080/"
        },
        "id": "KoIZrkX8T9vM",
        "outputId": "a091aa59-be29-40a0-a2df-1d2f1f068cee"
      },
      "execution_count": 73,
      "outputs": [
        {
          "output_type": "stream",
          "name": "stdout",
          "text": [
            "a 1 a 2 a 3 "
          ]
        }
      ]
    },
    {
      "cell_type": "markdown",
      "source": [
        "**Problem 12**\n",
        "\n",
        "Given a list of integers and a number. Write a python function to find and return the sum of the elements of the list.\n",
        "\n",
        "Note: Don't add the given number and also the numbers present before and after the given number in the list.\n",
        "\n",
        "\n",
        "    Sample input                              Expected output\n",
        "\n",
        "    list=[1,2,3,4], number=2                           4\n",
        "\n",
        "    list=[1,2,2,3,5,4,2,2,1,2],number=2                5\n",
        "\n",
        "    list=[1,7,3,4,1,7,10,5],number=7                   9\n",
        "\n",
        "    list=[1,2,1,2],number=2                            0"
      ],
      "metadata": {
        "id": "cDgGGk7aVt9d"
      }
    },
    {
      "cell_type": "code",
      "source": [
        "l1=[1,2,2,3,5,4,2,2,1,2]\n",
        "n=2\n",
        "\n",
        "lsum = 0\n",
        "for i in range(len(l1)):\n",
        "  if l1[i]!=n and l1[i+1]!=n and l1[i-1]!=n:\n",
        "    lsum+=l1[i]\n",
        "\n",
        "  if l1[-1]!=n and l1[-2]!=n:\n",
        "    lsum+=l1[-1]\n",
        "\n",
        "print(lsum)\n",
        "\n"
      ],
      "metadata": {
        "colab": {
          "base_uri": "https://localhost:8080/"
        },
        "id": "1iv6qX11WS2S",
        "outputId": "4afc321b-1cd8-44fd-f7c0-0db2aae0373f"
      },
      "execution_count": 76,
      "outputs": [
        {
          "output_type": "stream",
          "name": "stdout",
          "text": [
            "5\n"
          ]
        }
      ]
    },
    {
      "cell_type": "markdown",
      "source": [
        "**Problem 13**\n",
        "\n",
        "Given an integer n, write a python function to return true, if it is possible to represent it as a sum of the squares of two different integers, else return false."
      ],
      "metadata": {
        "id": "DxiLz3_qYT59"
      }
    },
    {
      "cell_type": "code",
      "source": [
        "import math\n",
        "def check_squares(number):\n",
        "    a=round(math.sqrt(number))\n",
        "    for i in range(1,a):\n",
        "        for j in range(i,a):\n",
        "            if (i*i)+(j*j)==number:\n",
        "                return True\n",
        "    return False\n",
        "    #start writing your code here\n",
        "\n",
        "\n",
        "number=25\n",
        "print(check_squares(number))"
      ],
      "metadata": {
        "colab": {
          "base_uri": "https://localhost:8080/"
        },
        "id": "NGnP_DX9YZ_e",
        "outputId": "90d378ea-1460-4243-f4a4-4b16e8b82603"
      },
      "execution_count": 77,
      "outputs": [
        {
          "output_type": "stream",
          "name": "stdout",
          "text": [
            "True\n"
          ]
        }
      ]
    },
    {
      "cell_type": "markdown",
      "source": [
        "**Problem 14**\n",
        "[Cornell University CS1110 Final Exam 2014 Spring]\n",
        "\n",
        "Write a recursive python function which returns True if the input is well-formatted with respect to the list labels. Else it should return False.\n",
        "\n",
        "We say that an input is well-formatted with respect to the labels if:\n",
        "\n",
        "    (a) input item is a list\n",
        "    (b) input item has length at least two\n",
        "    (c) input’s first item is in the list labels\n",
        "    (d) each of the remaining items in input is either a string or a well-formatted list\n",
        "\n",
        "                     Sample input                                              Expected output\n",
        "\n",
        "    input item                                list label\n",
        "\n",
        "    ['VP', ['V', 'eat']]                      ['VP', 'V']                              True\n",
        "\n",
        "    ['NP', ['N', 'a', 'or', 'b'], 'c']      ['NP', 'V', 'N']                           True\n",
        "\n",
        "    [1, [2, 'oui', [1, 'no']], 'no']             [1,2]                                 True\n",
        "\n",
        "    ['VP', ['V', 'eat']]                         ['VP']                                False\n",
        "\n",
        "    ['VP', ['V']]                              ['VP', 'V']                             False"
      ],
      "metadata": {
        "id": "aIgA-dZfY0PV"
      }
    },
    {
      "cell_type": "code",
      "source": [
        "def check_format(str1, label):\n",
        "\n",
        "  if (type(str1)!=list or len(str1)<2 or str1[0] not in label):\n",
        "    print(\"False\")\n",
        "  else:\n",
        "    for i in str1[1:0]:\n",
        "      if (type(i)!=str and not (check_format(i, label))):\n",
        "        return False\n",
        "    return True\n",
        "\n",
        "str1=[1, [2, 'oui', [1, 'no']], 'no']\n",
        "label=  [1,2]\n",
        "\n",
        "\n",
        "result=check_format(str1,label)\n",
        "if result is True:\n",
        "    print(\"True\")\n",
        "else:\n",
        "    print(\"False\")\n"
      ],
      "metadata": {
        "colab": {
          "base_uri": "https://localhost:8080/"
        },
        "id": "f8gOyOhjZDMP",
        "outputId": "f19c1a2f-bf5c-4a66-dd44-ac8ef5526564"
      },
      "execution_count": 81,
      "outputs": [
        {
          "output_type": "stream",
          "name": "stdout",
          "text": [
            "True\n"
          ]
        }
      ]
    },
    {
      "cell_type": "markdown",
      "source": [
        "**Problem 15**\n",
        "\n",
        "Given a list of numbers, write a python function which returns true if one of the first 4 elements in the list is 9.\n",
        "\n",
        "Otherwise it should return false.\n",
        "\n",
        "The length of the list can be less than 4 also.\n",
        "\n",
        "    Sample Input             Expected Output\n",
        "\n",
        "    [1, 2, 9, 3, 4]             True\n",
        "\n",
        "    [1, 2, 9]                   True\n",
        "\n",
        "    [1, 2,3,4]                  False"
      ],
      "metadata": {
        "id": "a9djPkXKcdgI"
      }
    },
    {
      "cell_type": "code",
      "source": [
        "l1=[1,2,7,8,9]\n",
        "\n",
        "if len(l1)>=4 and (9 in l1[:4]):\n",
        "  print(\"True\")\n",
        "else:\n",
        "  if len(l1)<4 and 9 in l1:\n",
        "    print(\"True\")\n",
        "  else:\n",
        "    print(\"False\")\n",
        "\n",
        "\n"
      ],
      "metadata": {
        "colab": {
          "base_uri": "https://localhost:8080/"
        },
        "id": "ZfjgZ6PPcs3_",
        "outputId": "7769581e-bccf-4ee4-d139-b6012412e26a"
      },
      "execution_count": 93,
      "outputs": [
        {
          "output_type": "stream",
          "name": "stdout",
          "text": [
            "False\n"
          ]
        }
      ]
    },
    {
      "cell_type": "markdown",
      "source": [
        "**Problem 16**\n",
        "\n",
        "Write a python function which accepts a sentence and finds the number of letters and digits in the sentence.\n",
        "\n",
        "It should return a list in which the first value should be letter count and second value should be digit count. Ignore the spaces or any other special character in the sentence.\n",
        "\n",
        "    Sample Input                     Expected Output\n",
        "\n",
        "    Infosys 123                        [7,3]\n",
        "\n",
        "    ABCEFG                             [6,0]"
      ],
      "metadata": {
        "id": "wg9NjJoae3aX"
      }
    },
    {
      "cell_type": "code",
      "source": [
        "sen=\"Infosys 123 !\"\n",
        "sen1=sen.lower().replace(\" \", \"\")\n",
        "\n",
        "let=0\n",
        "dig=0\n",
        "\n",
        "for i in sen1:\n",
        "  if i.isalpha():\n",
        "    let+=1\n",
        "  else:\n",
        "    if i.isdigit():\n",
        "      dig+=1\n",
        "\n",
        "l1=[]\n",
        "l1.append(let)\n",
        "l1.append(dig)\n",
        "print(l1)\n",
        "\n",
        "\n"
      ],
      "metadata": {
        "colab": {
          "base_uri": "https://localhost:8080/"
        },
        "id": "O1-nFz5PfEKB",
        "outputId": "12f65a03-c53e-4514-9fb1-85a5247ec833"
      },
      "execution_count": 98,
      "outputs": [
        {
          "output_type": "stream",
          "name": "stdout",
          "text": [
            "[7, 3]\n"
          ]
        }
      ]
    },
    {
      "cell_type": "markdown",
      "source": [
        "**Problem 17**\n",
        "\n",
        "Write a python function which accepts a list of numbers and returns true, if 1, 2, 3 appears in sequence in the list.\n",
        "Otherwise, it should return false.\n",
        "\n",
        "    Sample Input               Expected Output\n",
        "\n",
        "    [1, 1, 2, 3, 1]               True\n",
        "\n",
        "    [1, 1, 2, 4, 3]              False"
      ],
      "metadata": {
        "id": "tfc6LK8jg2se"
      }
    },
    {
      "cell_type": "code",
      "source": [
        "l1=[1, 1, 2, 4, 3]\n",
        "\n",
        "s1=''\n",
        "for i in l1:\n",
        "  s1+=str(i)\n",
        "print(s1)\n",
        "s2='123'\n",
        "\n",
        "if s2 in s1:\n",
        "  print(\"True\")\n",
        "else:\n",
        "  print(\"False\")"
      ],
      "metadata": {
        "colab": {
          "base_uri": "https://localhost:8080/"
        },
        "id": "WUYpEbr5g7Nj",
        "outputId": "75ee8582-1627-4c64-d794-887ca35ef98b"
      },
      "execution_count": 101,
      "outputs": [
        {
          "output_type": "stream",
          "name": "stdout",
          "text": [
            "11243\n",
            "False\n"
          ]
        }
      ]
    },
    {
      "cell_type": "markdown",
      "source": [
        "**Problem 18**\n",
        "\n",
        "Given two numbers, write a python function which returns true if first number is a seed of second number. Otherwise it returns false.\n",
        "\n",
        "A number X is said to be a seed of number Y, if multiplying X by its each digit equates to Y\n",
        "For example, 123 is a seed of 738 as 123*1*2*3 = 738.\n",
        "\n",
        "    Sample Input                Expected Output\n",
        "\n",
        "    123,738                       True\n",
        "\n",
        "    45,1000                       False\n",
        "\n",
        "    \n",
        "\n"
      ],
      "metadata": {
        "id": "Tmc_F5WUhpIJ"
      }
    },
    {
      "cell_type": "code",
      "source": [
        "num1=123\n",
        "num2=738\n",
        "\n",
        "\n",
        "s1=str(num1)\n",
        "for i in s1:\n",
        "  num1*=int(i)\n",
        "\n",
        "if num1==num2:\n",
        "  print(\"True\")\n",
        "else:\n",
        "  print(\"False\")"
      ],
      "metadata": {
        "colab": {
          "base_uri": "https://localhost:8080/"
        },
        "id": "BdidRB4Nh5RC",
        "outputId": "a363a181-d7a2-434b-fd52-33d3c4633019"
      },
      "execution_count": 104,
      "outputs": [
        {
          "output_type": "stream",
          "name": "stdout",
          "text": [
            "True\n"
          ]
        }
      ]
    },
    {
      "cell_type": "markdown",
      "source": [
        "**Problem 19**\n",
        "\n",
        "Write a python function which accepts a list of strings containing details of deposits and withdrawals made in a bank account and returns the net amount in the account.\n",
        "Suppose the following input is supplied to the function\n",
        "\n",
        "[\"D:300\",\"D:300\",\"W:200\",\"D:100\"]\n",
        "\n",
        "where D means deposit and W means withdrawal,\n",
        "then the net amount in the account is 500.\n",
        "\n",
        "    Sample Input                                   Expected Output\n",
        "\n",
        "    [\"D:300\",\"D:200\",\"W:200\",\"D:100\"]                 400\n",
        "\n",
        "    [\"D:350\",\"W:100\",\"W:500\",\"D:1000\"]                750"
      ],
      "metadata": {
        "id": "CKPsbvlYisCy"
      }
    },
    {
      "cell_type": "code",
      "source": [
        "l1=[\"D:300\",\"D:200\",\"W:200\",\"D:100\"]\n",
        "dep=0\n",
        "wid=0\n",
        "for i in l1:\n",
        "  if i[0]=='D':\n",
        "    dep+=int(i.split(\":\")[1])\n",
        "  if i[0]=='W':\n",
        "    wid+=int(i.split(\":\")[1])\n",
        "\n",
        "net=dep-wid\n",
        "print(net)\n"
      ],
      "metadata": {
        "colab": {
          "base_uri": "https://localhost:8080/"
        },
        "id": "D__XljgvjAnZ",
        "outputId": "285b36f5-4911-4a95-dd62-f7cca1ea27d5"
      },
      "execution_count": 108,
      "outputs": [
        {
          "output_type": "stream",
          "name": "stdout",
          "text": [
            "400\n"
          ]
        }
      ]
    },
    {
      "cell_type": "markdown",
      "source": [
        "**Problem 20**\n",
        "\n",
        "Write a Python function which generates and returns a dictionary where the keys are numbers between 1 and n (both inclusive) and the values are square of keys.\n",
        "\n",
        "    Sample Input               Expected Output\n",
        "\n",
        "    10                    {1: 1, 2: 4, 3: 9, 4: 16, 5: 25, 6: 36, 7: 49, 8: 64, 9: 81, 10: 100}"
      ],
      "metadata": {
        "id": "nk6a4oq0krjq"
      }
    },
    {
      "cell_type": "code",
      "source": [
        "n=10\n",
        "\n",
        "print({i:i*i for i in range(1,n+1)})"
      ],
      "metadata": {
        "colab": {
          "base_uri": "https://localhost:8080/"
        },
        "id": "HVRTP7MekzLV",
        "outputId": "1d58031d-2ad7-4248-b6e1-43b1e7389670"
      },
      "execution_count": 110,
      "outputs": [
        {
          "output_type": "stream",
          "name": "stdout",
          "text": [
            "{1: 1, 2: 4, 3: 9, 4: 16, 5: 25, 6: 36, 7: 49, 8: 64, 9: 81, 10: 100}\n"
          ]
        }
      ]
    }
  ]
}