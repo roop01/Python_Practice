{
  "nbformat": 4,
  "nbformat_minor": 0,
  "metadata": {
    "colab": {
      "provenance": [],
      "authorship_tag": "ABX9TyPlhMzW/5mold7bvRSbBZ2t",
      "include_colab_link": true
    },
    "kernelspec": {
      "name": "python3",
      "display_name": "Python 3"
    },
    "language_info": {
      "name": "python"
    }
  },
  "cells": [
    {
      "cell_type": "markdown",
      "metadata": {
        "id": "view-in-github",
        "colab_type": "text"
      },
      "source": [
        "<a href=\"https://colab.research.google.com/github/roop01/python-programming-practices/blob/main/python_string_excercise.ipynb\" target=\"_parent\"><img src=\"https://colab.research.google.com/assets/colab-badge.svg\" alt=\"Open In Colab\"/></a>"
      ]
    },
    {
      "cell_type": "code",
      "source": [
        "minimum = min(\"programming\")\n",
        "print(minimum)\n"
      ],
      "metadata": {
        "colab": {
          "base_uri": "https://localhost:8080/"
        },
        "id": "ohjdB6aEzy1Z",
        "outputId": "dc7aafe2-46ae-4547-a28c-30f32a653aea"
      },
      "execution_count": null,
      "outputs": [
        {
          "output_type": "stream",
          "name": "stdout",
          "text": [
            "a\n"
          ]
        }
      ]
    },
    {
      "cell_type": "code",
      "source": [
        "maximum = max(\"python\")\n",
        "print(maximum)"
      ],
      "metadata": {
        "colab": {
          "base_uri": "https://localhost:8080/"
        },
        "id": "G1lq7A8Ez7F5",
        "outputId": "fc1cbf63-1660-42c3-bd78-8e780c5e7a3e"
      },
      "execution_count": null,
      "outputs": [
        {
          "output_type": "stream",
          "name": "stdout",
          "text": [
            "y\n"
          ]
        }
      ]
    },
    {
      "cell_type": "code",
      "source": [
        "a = 7\n",
        "a1 = 0\n",
        "a2 = 0\n",
        "a1 += 1\n",
        "a2 -= 1\n",
        "\n",
        "if a1 == a2:\n",
        "    print(\"Success\")\n",
        "else:\n",
        "    print(\"Failure\")"
      ],
      "metadata": {
        "colab": {
          "base_uri": "https://localhost:8080/"
        },
        "id": "iqTs00JM0Op4",
        "outputId": "272a303d-1030-49ae-a6c2-3ac16778b74d"
      },
      "execution_count": null,
      "outputs": [
        {
          "output_type": "stream",
          "name": "stdout",
          "text": [
            "Failure\n"
          ]
        }
      ]
    },
    {
      "cell_type": "code",
      "source": [
        "l = {'a1':\"1\", 'a2': \"2\", 'a3':\"3\"}\n",
        "for x,y in l:\n",
        "    print(x[0], y[0], end = \" \")"
      ],
      "metadata": {
        "colab": {
          "base_uri": "https://localhost:8080/"
        },
        "id": "VjlLVH7x0WL-",
        "outputId": "5f67fad8-522d-4be2-f081-8a00a6cccd37"
      },
      "execution_count": null,
      "outputs": [
        {
          "output_type": "stream",
          "name": "stdout",
          "text": [
            "a 1 a 2 a 3 "
          ]
        }
      ]
    },
    {
      "cell_type": "code",
      "source": [
        "l = {'a1':\"1\", 'a2': \"2\", 'a3':\"3\"}\n",
        "for x in l:\n",
        "    print(x[1], end = \" \")"
      ],
      "metadata": {
        "colab": {
          "base_uri": "https://localhost:8080/"
        },
        "id": "5dpQ-X2705fR",
        "outputId": "8e83791d-5147-4fba-af01-7ad8a429d949"
      },
      "execution_count": null,
      "outputs": [
        {
          "output_type": "stream",
          "name": "stdout",
          "text": [
            "1 2 3 "
          ]
        }
      ]
    },
    {
      "cell_type": "code",
      "source": [
        "l = {'a1':\"1\", 'a2': \"2\", 'a3':\"3\"}\n",
        "for x in l:\n",
        "    print(x, end = \" \")\n"
      ],
      "metadata": {
        "colab": {
          "base_uri": "https://localhost:8080/"
        },
        "id": "md8zohaq09q6",
        "outputId": "a69570e8-18c4-4216-a259-e6a749d9addb"
      },
      "execution_count": null,
      "outputs": [
        {
          "output_type": "stream",
          "name": "stdout",
          "text": [
            "a1 a2 a3 "
          ]
        }
      ]
    },
    {
      "cell_type": "code",
      "source": [
        "l = [\"Every\", 1, \"Can't\", \"Be\", \"The\", \"Best\", 1]\n",
        "print(l[4][2])"
      ],
      "metadata": {
        "colab": {
          "base_uri": "https://localhost:8080/"
        },
        "id": "HiNncm5y1EAQ",
        "outputId": "4c7e7eb7-b024-4863-bd1b-4f018682ea45"
      },
      "execution_count": null,
      "outputs": [
        {
          "output_type": "stream",
          "name": "stdout",
          "text": [
            "e\n"
          ]
        }
      ]
    },
    {
      "cell_type": "code",
      "source": [
        "value = 6/2*(1+2)\n",
        "print(value)"
      ],
      "metadata": {
        "colab": {
          "base_uri": "https://localhost:8080/"
        },
        "id": "chgIueRT1Un7",
        "outputId": "d79db741-0ed6-4805-9775-913a10007df2"
      },
      "execution_count": null,
      "outputs": [
        {
          "output_type": "stream",
          "name": "stdout",
          "text": [
            "9.0\n"
          ]
        }
      ]
    },
    {
      "cell_type": "code",
      "source": [
        "value = ('1 + 3 * 2')\n",
        "print(eval(value))\n"
      ],
      "metadata": {
        "colab": {
          "base_uri": "https://localhost:8080/"
        },
        "id": "oQUQN1Cc1dX_",
        "outputId": "359fb5e9-439f-47b4-e6fd-67ce3397f20c"
      },
      "execution_count": null,
      "outputs": [
        {
          "output_type": "stream",
          "name": "stdout",
          "text": [
            "7\n"
          ]
        }
      ]
    },
    {
      "cell_type": "code",
      "source": [
        "value = 20\n",
        "value2 = 19\n",
        "\n",
        "result = int('%d%d' % (value, value2))\n",
        "print(result)"
      ],
      "metadata": {
        "colab": {
          "base_uri": "https://localhost:8080/"
        },
        "id": "ans3JCAM1j1u",
        "outputId": "b576bd65-f7bf-4fe2-d704-c7780985cecd"
      },
      "execution_count": null,
      "outputs": [
        {
          "output_type": "stream",
          "name": "stdout",
          "text": [
            "2019\n"
          ]
        }
      ]
    },
    {
      "cell_type": "code",
      "source": [
        "value = '20'\n",
        "value2 = '20'\n",
        "\n",
        "result = (int(value) + int(value2))\n",
        "print(result)\n"
      ],
      "metadata": {
        "colab": {
          "base_uri": "https://localhost:8080/"
        },
        "id": "X2sOFG6z1ooa",
        "outputId": "8f13e4fe-5c31-4cde-cadf-e402e92ceac2"
      },
      "execution_count": null,
      "outputs": [
        {
          "output_type": "stream",
          "name": "stdout",
          "text": [
            "40\n"
          ]
        }
      ]
    },
    {
      "cell_type": "code",
      "source": [
        "char = 'A'\n",
        "print(ord(char))"
      ],
      "metadata": {
        "colab": {
          "base_uri": "https://localhost:8080/"
        },
        "id": "FbniiSmq1tPp",
        "outputId": "630e054d-6a12-4d11-8f9d-f01cfaa58b7e"
      },
      "execution_count": null,
      "outputs": [
        {
          "output_type": "stream",
          "name": "stdout",
          "text": [
            "65\n"
          ]
        }
      ]
    },
    {
      "cell_type": "code",
      "source": [
        "s1 = 'abc'\n",
        "s2 = '123'\n",
        "print(\" \".join(s2))"
      ],
      "metadata": {
        "colab": {
          "base_uri": "https://localhost:8080/"
        },
        "id": "gXibmLfx101a",
        "outputId": "342270ce-c209-4e0e-86bb-1d808b88afa6"
      },
      "execution_count": 1,
      "outputs": [
        {
          "output_type": "stream",
          "name": "stdout",
          "text": [
            "1 2 3\n"
          ]
        }
      ]
    },
    {
      "cell_type": "code",
      "source": [
        "str1, str2 = \"Python\", \"Python\"\n",
        "\n",
        "print(\"id of str1 is: \", id(str1))\n",
        "print(\"id of str2 is: \", id(str2))\n",
        "\n",
        "if id(str1) == id(str2):\n",
        "    print(\"True\")\n",
        "else:\n",
        "    print(\"False\")\n"
      ],
      "metadata": {
        "colab": {
          "base_uri": "https://localhost:8080/"
        },
        "id": "9bAGoNxw2UVV",
        "outputId": "35da29c9-1493-4b63-deb3-fccd0a1f0ed2"
      },
      "execution_count": null,
      "outputs": [
        {
          "output_type": "stream",
          "name": "stdout",
          "text": [
            "id of str1 is:  134788936103280\n",
            "id of str2 is:  134788936103280\n",
            "True\n"
          ]
        }
      ]
    },
    {
      "cell_type": "code",
      "source": [
        "val = set()\n",
        "print(type(val))"
      ],
      "metadata": {
        "colab": {
          "base_uri": "https://localhost:8080/"
        },
        "id": "yLrjSQ072X0_",
        "outputId": "2e83a121-aa3f-46f6-cfbc-82983e232b3a"
      },
      "execution_count": null,
      "outputs": [
        {
          "output_type": "stream",
          "name": "stdout",
          "text": [
            "<class 'set'>\n"
          ]
        }
      ]
    },
    {
      "cell_type": "code",
      "source": [
        "lis = [1, 2, 3, 4, 5]\n",
        "lis2 = [6, 7, 8, 9, 10]\n",
        "\n",
        "print(lis+lis2)"
      ],
      "metadata": {
        "colab": {
          "base_uri": "https://localhost:8080/"
        },
        "id": "7xwaMTnc2b-t",
        "outputId": "0877d72e-7500-42e6-8527-3bb37237a5f0"
      },
      "execution_count": null,
      "outputs": [
        {
          "output_type": "stream",
          "name": "stdout",
          "text": [
            "[1, 2, 3, 4, 5, 6, 7, 8, 9, 10]\n"
          ]
        }
      ]
    },
    {
      "cell_type": "code",
      "source": [
        "val = \"Python\"\n",
        "print(list(val))\n",
        "\n",
        "\n",
        "result = ''.join(list(val))\n",
        "print(result, type(result))"
      ],
      "metadata": {
        "colab": {
          "base_uri": "https://localhost:8080/"
        },
        "id": "ZG2R1c6r2gT4",
        "outputId": "8bcf1fc3-56a9-40cb-ba01-927a0468f7b4"
      },
      "execution_count": null,
      "outputs": [
        {
          "output_type": "stream",
          "name": "stdout",
          "text": [
            "['P', 'y', 't', 'h', 'o', 'n']\n",
            "Python\n"
          ]
        }
      ]
    },
    {
      "cell_type": "code",
      "source": [
        "lis = ['Python', 'Programming', 'Rocks']\n",
        "pos = lis.index(\"Rocks\")\n",
        "print(pos * 3)"
      ],
      "metadata": {
        "colab": {
          "base_uri": "https://localhost:8080/"
        },
        "id": "Uc_rvx8P23aT",
        "outputId": "6d78e2c6-8cee-41e5-d50e-945faeac4739"
      },
      "execution_count": null,
      "outputs": [
        {
          "output_type": "stream",
          "name": "stdout",
          "text": [
            "6\n"
          ]
        }
      ]
    },
    {
      "cell_type": "code",
      "source": [
        "str = \"My Name is Rupali\"\n",
        "print(str.split('R'))\n",
        "print(str.replace(\" \",\"\"))\n",
        "print(\"-\".join(str.replace(\" \",\"\")))\n",
        "print(str.lower())\n",
        "print(str.find('R'))"
      ],
      "metadata": {
        "colab": {
          "base_uri": "https://localhost:8080/"
        },
        "id": "gbMk6goZ6TP4",
        "outputId": "541e706a-d8c8-4c78-9a97-67f772ca5ccb"
      },
      "execution_count": null,
      "outputs": [
        {
          "output_type": "stream",
          "name": "stdout",
          "text": [
            "['My Name is ', 'upali']\n",
            "MyNameisRupali\n",
            "M-y-N-a-m-e-i-s-R-u-p-a-l-i\n",
            "my name is rupali\n",
            "11\n"
          ]
        }
      ]
    }
  ]
}