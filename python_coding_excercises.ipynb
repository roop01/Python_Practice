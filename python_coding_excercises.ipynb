{
  "nbformat": 4,
  "nbformat_minor": 0,
  "metadata": {
    "colab": {
      "provenance": [],
      "authorship_tag": "ABX9TyOWuWeKrPIK+Tbn/K+rsVZn",
      "include_colab_link": true
    },
    "kernelspec": {
      "name": "python3",
      "display_name": "Python 3"
    },
    "language_info": {
      "name": "python"
    }
  },
  "cells": [
    {
      "cell_type": "markdown",
      "metadata": {
        "id": "view-in-github",
        "colab_type": "text"
      },
      "source": [
        "<a href=\"https://colab.research.google.com/github/roop01/python-programming-practices/blob/main/python_coding_excercises.ipynb\" target=\"_parent\"><img src=\"https://colab.research.google.com/assets/colab-badge.svg\" alt=\"Open In Colab\"/></a>"
      ]
    },
    {
      "cell_type": "markdown",
      "source": [
        "# **Python Exercise:**\n"
      ],
      "metadata": {
        "id": "AeuIGdpIWmWn"
      }
    },
    {
      "cell_type": "markdown",
      "source": [
        "  **1.** Given a list of numbers, write a Python function to return the list of prime numbers present in it.\n",
        "  Example: input:[7,9,11,13,15,20,23] output:[7,11,13,23]"
      ],
      "metadata": {
        "id": "e-Dk1_mI2s_u"
      }
    },
    {
      "cell_type": "code",
      "source": [
        "def find_prime(num):\n",
        "  prime_list=[]\n",
        "  for x in num:\n",
        "    if x >1:\n",
        "      for i in range(2, x):\n",
        "        if (x % i) == 0:\n",
        "          break\n",
        "      else:\n",
        "        prime_list.append(x)\n",
        "  return prime_list\n",
        "\n",
        "num=[7,9,11,13,15,20,23]\n",
        "print(\"Prime numbers:\", find_prime(num))"
      ],
      "metadata": {
        "colab": {
          "base_uri": "https://localhost:8080/"
        },
        "id": "F1cHeLv32pym",
        "outputId": "6fb9cf6a-391d-4af3-e0af-13c319795b61"
      },
      "execution_count": null,
      "outputs": [
        {
          "output_type": "stream",
          "name": "stdout",
          "text": [
            "Prime numbers: [7, 11, 13, 23]\n"
          ]
        }
      ]
    },
    {
      "cell_type": "markdown",
      "source": [
        "\n",
        "\n",
        "**2.** Write a python function find_common_characters(msg1,msg2) to display all the common characters between given two strings. Return -1 if there are no matching characters.\n",
        "\n",
        "**Note**: Ignore blank spaces if there are any. Perform case sensitive string comparison wherever necessary.\n",
        "\n",
        "**Example**: msg1=\"I like Python\", msg2=\"Java is a very popular language\" output=lieyon"
      ],
      "metadata": {
        "id": "9lkLsfeg2u2c"
      }
    },
    {
      "cell_type": "code",
      "source": [
        "def find_common_characters(msg1,msg2):\n",
        "  char_str=\"\"\n",
        "  flag=False\n",
        "\n",
        "  msg1=\"\".join(msg1.split())\n",
        "  msg2=\"\".join(msg2.split())\n",
        "\n",
        "  len1 = len(msg1)\n",
        "  len2 = len(msg2)\n",
        "\n",
        "  if len1 < len2:\n",
        "    flag = True\n",
        "\n",
        "  if flag:\n",
        "    for i in range(0, len1):\n",
        "      if msg1[i] in msg2:\n",
        "        char_str += msg1[i]\n",
        "\n",
        "  return char_str\n",
        "\n",
        "msg1=\"I like Python\"\n",
        "msg2=\"Java is a very popular language\"\n",
        "print(\"Common characters:\", find_common_characters(msg1,msg2))\n",
        "\n"
      ],
      "metadata": {
        "colab": {
          "base_uri": "https://localhost:8080/"
        },
        "id": "Beg2WuaZ24MI",
        "outputId": "e9107d52-8b41-4774-be20-298f747ac4e4"
      },
      "execution_count": null,
      "outputs": [
        {
          "output_type": "stream",
          "name": "stdout",
          "text": [
            "Common characters: lieyon\n"
          ]
        }
      ]
    },
    {
      "cell_type": "markdown",
      "source": [
        "\n",
        "\n",
        "\n",
        "**3.** Write a python function, find_pairs_of_numbers(num_list,n) which accepts a list of positive integers with no repetitions and returns count of pairs of numbers in the list that adds up to n. The function should return 0, if no such pairs are found in the list.\n",
        "\n",
        "Example:\n",
        "          \n",
        "        num_list=[1, 2, 7, 4, 5, 6, 0, 3]\n",
        "        n=6\n",
        "        output:3\n",
        "\n",
        "        num_list= [3, 4, 1, 8, 5, 9, 0, 6]\n",
        "        n=9\n",
        "        output:4\n"
      ],
      "metadata": {
        "id": "9iB__tRD26qP"
      }
    },
    {
      "cell_type": "code",
      "source": [
        "def find_pairs_of_numbers(num_list,n):\n",
        "  count = 0\n",
        "  pair_list=[]\n",
        "  for num in num_list:\n",
        "    if num > n:\n",
        "      continue\n",
        "    if (n - num) in num_list and (num != (n-num)):\n",
        "      if (num, n-num) not in pair_list and (n-num, num) not in pair_list:\n",
        "        pair_list.append((num, n-num))\n",
        "        count += 1\n",
        "  print(\"Pair List: \",pair_list)\n",
        "  return count\n",
        "num_list=[1, 2, 7, 4, 5, 6, 0, 3]\n",
        "n=6\n",
        "print(\"Pairs of numbers:\", find_pairs_of_numbers(num_list,n))\n",
        "num_list = [3, 4, 1, 8, 5, 9, 0, 6]\n",
        "n=9\n",
        "print(\"Pairs of numbers:\", find_pairs_of_numbers(num_list,n))"
      ],
      "metadata": {
        "colab": {
          "base_uri": "https://localhost:8080/"
        },
        "id": "8KhZ64_X28JF",
        "outputId": "46b4a5ec-e2fd-4733-9ec8-5098e0bcc531"
      },
      "execution_count": null,
      "outputs": [
        {
          "output_type": "stream",
          "name": "stdout",
          "text": [
            "Pair List:  [(1, 5), (2, 4), (6, 0)]\n",
            "Pairs of numbers: 3\n",
            "Pair List:  [(3, 6), (4, 5), (1, 8), (9, 0)]\n",
            "Pairs of numbers: 4\n"
          ]
        }
      ]
    },
    {
      "cell_type": "markdown",
      "source": [
        "**4.** The python function, find_average() given below, is written to accept a list of marks and return the average marks. On execution, the program is resulting in an error.\n",
        "\n",
        "    1: Add code to handle the exception occurring in the code.\n",
        "    2: Make the necessary correction in the program to remove the error.\n",
        "    3: Make the following changes in the code, execute, observe the results. Add code to handle the errors occurring in each case.\n",
        "\n",
        "**Case – 1**: Initialize m_list as [\"1\",2,3,4]\n",
        "\n",
        "**Case – 2:** Initialize m_list as given below\n",
        "    \n",
        "    mark1=\"A\"\n",
        "    mark1=int(\"A\")\n",
        "    m_list=[mark1,2,3,4]"
      ],
      "metadata": {
        "id": "BEOFpU1wWux1"
      }
    },
    {
      "cell_type": "markdown",
      "source": [
        "**Case – 3:** Initialize m_list as []. Make the following change in the for loop statement\n",
        "\n",
        "    for i in range(0, len(mark_list)+1)"
      ],
      "metadata": {
        "id": "sEmHO_FNXko_"
      }
    },
    {
      "cell_type": "code",
      "source": [
        "#Case 1\n",
        "def find_average(mark_list):\n",
        "  total=0\n",
        "  try:\n",
        "    for i in range(0, len(mark_list)):\n",
        "      total += mark_list[i]\n",
        "    marks_avg = total/len(mark_list)\n",
        "    return marks_avg\n",
        "  except ZeroDivisionError:\n",
        "    print(\"ZeroDivisionError: List is empty\")\n",
        "  except TypeError:\n",
        "    print(\"TypeError: List contains non-numeric values\")\n",
        "  except ValueError:\n",
        "    print(\"ValueError: List contains non-numeric values\")\n",
        "\n",
        "try:\n",
        "  list_m=[\"1\",2,3,4]\n",
        "  print(\"Average marks:\", find_average(list_m))\n",
        "except ValueError:\n",
        "  print(\"ValueError in Main: List contains non-numeric values\")\n",
        "except TypeError:\n",
        "  print(\"TypeError in Main: List contains non-numeric values\")"
      ],
      "metadata": {
        "colab": {
          "base_uri": "https://localhost:8080/"
        },
        "id": "DnHfe8QwRgI6",
        "outputId": "9371b08e-f6c2-4653-ee6a-2d96c6a7b171"
      },
      "execution_count": 14,
      "outputs": [
        {
          "output_type": "stream",
          "name": "stdout",
          "text": [
            "TypeError: List contains non-numeric values\n",
            "Average marks: None\n"
          ]
        }
      ]
    },
    {
      "cell_type": "code",
      "execution_count": 13,
      "metadata": {
        "colab": {
          "base_uri": "https://localhost:8080/"
        },
        "id": "6R9kumzLWSe5",
        "outputId": "0f16e3ad-681b-49f2-d3c7-132071aa5b38"
      },
      "outputs": [
        {
          "output_type": "stream",
          "name": "stdout",
          "text": [
            "ValueError in Main: List contains non-numeric values\n"
          ]
        }
      ],
      "source": [
        "#Case 2\n",
        "def find_average(mark_list):\n",
        "  total=0\n",
        "  try:\n",
        "    for i in range(0, len(mark_list)):\n",
        "      total += mark_list[i]\n",
        "    marks_avg = total/len(mark_list)\n",
        "    return marks_avg\n",
        "  except ZeroDivisionError:\n",
        "    print(\"ZeroDivisionError: List is empty\")\n",
        "  except TypeError:\n",
        "    print(\"TypeError: List contains non-numeric values\")\n",
        "  except ValueError:\n",
        "    print(\"ValueError: List contains non-numeric values\")\n",
        "\n",
        "try:\n",
        "  mark1=\"A\"\n",
        "  mark1=int(\"A\")\n",
        "  m_list=[mark1,2,3,4]\n",
        "  print(\"Average marks:\", find_average(m_list))\n",
        "except ValueError:\n",
        "  print(\"ValueError in Main: List contains non-numeric values\")\n",
        "except TypeError:\n",
        "  print(\"TypeError in Main: List contains non-numeric values\")\n"
      ]
    },
    {
      "cell_type": "code",
      "source": [
        "#Case 3\n",
        "def find_average(mark_list):\n",
        "  total=0\n",
        "  try:\n",
        "    for i in range(0, len(mark_list)+1):\n",
        "      total += mark_list[i]\n",
        "    marks_avg = total/len(mark_list)\n",
        "    return marks_avg\n",
        "  except ZeroDivisionError:\n",
        "    print(\"ZeroDivisionError: List is empty\")\n",
        "  except TypeError:\n",
        "    print(\"TypeError: List contains non-numeric values\")\n",
        "  except ValueError:\n",
        "    print(\"ValueError: List contains non-numeric values\")\n",
        "  except IndexError:\n",
        "    print(\"IndexError: List is empty\")\n",
        "\n",
        "try:\n",
        "  m_list=[]\n",
        "  print(\"Average marks:\", find_average(m_list))\n",
        "except ValueError:\n",
        "  print(\"ValueError in Main: List contains non-numeric values\")\n",
        "except TypeError:\n",
        "  print(\"TypeError in Main: List contains non-numeric values\")\n",
        "except IndexError:\n",
        "  print(\"IndexError in Main: List is empty\")"
      ],
      "metadata": {
        "colab": {
          "base_uri": "https://localhost:8080/"
        },
        "id": "kmkmmPhxr3Hy",
        "outputId": "6e7bb64a-fc4f-461b-e857-04625e5d7a86"
      },
      "execution_count": 12,
      "outputs": [
        {
          "output_type": "stream",
          "name": "stdout",
          "text": [
            "IndexError: List is empty\n",
            "Average marks: None\n"
          ]
        }
      ]
    },
    {
      "cell_type": "markdown",
      "source": [
        "**5.** Write a program to purchase a mobile and shoe. Offer discount on mobile depending upon type of brand. Apply tax on show based on leather or non leather type. Also provide return of the product with money refund."
      ],
      "metadata": {
        "id": "C50kQL4yermf"
      }
    },
    {
      "cell_type": "code",
      "source": [
        "total_price_mobile = 0\n",
        "total_price_shoe = 0\n",
        "def purchase_mobile(price,brand):\n",
        "    global total_price_mobile\n",
        "    if brand == \"Apple\":\n",
        "        discount = 10\n",
        "    else:\n",
        "        discount = 5\n",
        "    total_price_mobile = price - price * discount / 100\n",
        "    print(\"Total price for Mobile is \"+str(total_price_mobile))\n",
        "def purchase_shoe(price,material):\n",
        "    global total_price_shoe\n",
        "    if material == \"leather\":\n",
        "        tax = 5\n",
        "    else:\n",
        "        tax = 2\n",
        "    total_price_shoe = price + price * tax / 100\n",
        "    print(\"Total price for Shoe is \"+str(total_price_shoe))\n",
        "def return_mobile():\n",
        "    print(\"Refund price for Mobile is \",total_price_mobile)\n",
        "def return_shoe():\n",
        "    print(\"Refund price for Shoe is \",total_price_shoe)\n",
        "purchase_mobile(20000,\"Apple\")\n",
        "purchase_shoe(500,\"leather\")\n",
        "return_mobile()"
      ],
      "metadata": {
        "colab": {
          "base_uri": "https://localhost:8080/"
        },
        "id": "hKmgrzR_esXX",
        "outputId": "e32aafe0-1cc0-43fb-e569-2d48457e82bd"
      },
      "execution_count": 15,
      "outputs": [
        {
          "output_type": "stream",
          "name": "stdout",
          "text": [
            "Total price for Mobile is 18000.0\n",
            "Total price for Shoe is 525.0\n",
            "Refund price for Mobile is  18000.0\n"
          ]
        }
      ]
    }
  ]
}