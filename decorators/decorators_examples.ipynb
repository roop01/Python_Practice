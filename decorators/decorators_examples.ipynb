{
  "nbformat": 4,
  "nbformat_minor": 0,
  "metadata": {
    "colab": {
      "provenance": [],
      "authorship_tag": "ABX9TyPwmUJeNvmAX4c7owTiH/lS"
    },
    "kernelspec": {
      "name": "python3",
      "display_name": "Python 3"
    },
    "language_info": {
      "name": "python"
    }
  },
  "cells": [
    {
      "cell_type": "code",
      "execution_count": null,
      "metadata": {
        "id": "93yiR9ZpQs9p"
      },
      "outputs": [],
      "source": []
    },
    {
      "cell_type": "markdown",
      "source": [
        "# **Python Decorators**\n",
        "\n",
        "*This notebook is having examples on python decorators.*\n",
        "\n",
        "Decorators are design patterns in python which allows you to changes the behaviour of an existing function without changing it's source code."
      ],
      "metadata": {
        "id": "KEvRMYBqRhvc"
      }
    },
    {
      "cell_type": "code",
      "source": [],
      "metadata": {
        "id": "-NklyODZTTlo"
      },
      "execution_count": null,
      "outputs": []
    },
    {
      "cell_type": "code",
      "source": [
        "import functools\n",
        "def debug(func):\n",
        "    \"\"\"Print the function signature and return value\"\"\"\n",
        "    @functools.wraps(func)\n",
        "    def wrapper_debug(*args, **kwargs):\n",
        "        args_repr = [repr(a) for a in args]\n",
        "        print(\"args_repr:\", args_repr)\n",
        "        kwargs_repr = [f\"{k}={repr(v)}\" for k, v in kwargs.items()]\n",
        "        print(\"kwargs_repr:\", kwargs_repr)\n",
        "        signature = \", \".join(args_repr + kwargs_repr)\n",
        "        print(f\"Calling {func.__name__}({signature})\")\n",
        "        value = func(*args, **kwargs)\n",
        "        print(f\"{func.__name__}() returned {repr(value)}\")\n",
        "        return value\n",
        "    return wrapper_debug\n",
        "\n",
        "@debug\n",
        "def make_greeting(name, age=None):\n",
        "    if age is None:\n",
        "        return f\"Howdy{name}!\"\n",
        "    else:\n",
        "        return f\"Whoa {name}! {age} already, you're growing up!\"\n",
        "\n",
        "make_greeting(\"John\", age=34)"
      ],
      "metadata": {
        "colab": {
          "base_uri": "https://localhost:8080/",
          "height": 108
        },
        "id": "-sOWBOuCSZj5",
        "outputId": "d8ed0bfb-b6b7-4827-a8df-049255869007"
      },
      "execution_count": 1,
      "outputs": [
        {
          "output_type": "stream",
          "name": "stdout",
          "text": [
            "args_repr: [\"'John'\"]\n",
            "kwargs_repr: ['age=34']\n",
            "Calling make_greeting('John', age=34)\n",
            "make_greeting() returned \"Whoa John! 34 already, you're growing up!\"\n"
          ]
        },
        {
          "output_type": "execute_result",
          "data": {
            "text/plain": [
              "\"Whoa John! 34 already, you're growing up!\""
            ],
            "application/vnd.google.colaboratory.intrinsic+json": {
              "type": "string"
            }
          },
          "metadata": {},
          "execution_count": 1
        }
      ]
    }
  ]
}